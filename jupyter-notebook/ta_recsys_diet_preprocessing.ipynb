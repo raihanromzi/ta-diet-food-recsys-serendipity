{
  "cells": [
    {
      "cell_type": "markdown",
      "metadata": {
        "id": "fuqWunN3AqCQ"
      },
      "source": [
        "## **Load Kaggle API & Download Dataset**"
      ]
    },
    {
      "cell_type": "code",
      "execution_count": 1,
      "metadata": {
        "id": "pkY0sv6uAPRD"
      },
      "outputs": [
        {
          "name": "stdout",
          "output_type": "stream",
          "text": [
            "cp: kaggle.json: No such file or directory\n",
            "chmod: ./dataset/kaggle.json: No such file or directory\n",
            "rm: kaggle.json: No such file or directory\n"
          ]
        }
      ],
      "source": [
        "# Initialize Kaggle API\n",
        "!mkdir -p ./dataset\n",
        "!cp kaggle.json ./dataset\n",
        "!chmod 600 ./dataset/kaggle.json\n",
        "!rm kaggle.json"
      ]
    },
    {
      "cell_type": "code",
      "execution_count": 2,
      "metadata": {
        "id": "M3ACslpPAocc"
      },
      "outputs": [
        {
          "name": "stdout",
          "output_type": "stream",
          "text": [
            "Dataset URL: https://www.kaggle.com/datasets/irkaal/foodcom-recipes-and-reviews\n",
            "License(s): CC0-1.0\n",
            "Downloading foodcom-recipes-and-reviews.zip to dataset\n",
            "  0%|▏                                      | 3.00M/723M [00:01<05:42, 2.21MB/s]^C\n",
            "  0%|▏                                       | 3.00M/723M [00:04<16:35, 758kB/s]\n",
            "User cancelled operation\n"
          ]
        }
      ],
      "source": [
        "!kaggle datasets download -d irkaal/foodcom-recipes-and-reviews -p dataset"
      ]
    },
    {
      "cell_type": "code",
      "execution_count": null,
      "metadata": {
        "id": "nitiDe2FApr3"
      },
      "outputs": [
        {
          "name": "stdout",
          "output_type": "stream",
          "text": [
            "Archive:  ./dataset/foodcom-recipes-and-reviews.zip\n",
            "  inflating: ./dataset/recipes.csv   \n",
            "  inflating: ./dataset/recipes.parquet  \n",
            "  inflating: ./dataset/reviews.csv   \n",
            "  inflating: ./dataset/reviews.parquet  \n"
          ]
        }
      ],
      "source": [
        "!unzip ./dataset/foodcom-recipes-and-reviews.zip -d ./dataset/\n",
        "!rm ./dataset/foodcom-recipes-and-reviews.zip"
      ]
    },
    {
      "cell_type": "markdown",
      "metadata": {
        "id": "JuPX9ArZBEdJ"
      },
      "source": [
        "## **Import Library**"
      ]
    },
    {
      "cell_type": "code",
      "execution_count": 4,
      "metadata": {
        "id": "bPwkmOsLZwgN"
      },
      "outputs": [
        {
          "name": "stdout",
          "output_type": "stream",
          "text": [
            "Requirement already satisfied: autocorrect in /Users/raihanromzi/miniconda3/envs/ta-recsys/lib/python3.11/site-packages (2.6.1)\n",
            "Note: you may need to restart the kernel to use updated packages.\n"
          ]
        }
      ],
      "source": [
        "pip install autocorrect"
      ]
    },
    {
      "cell_type": "code",
      "execution_count": 5,
      "metadata": {
        "id": "gZcz7O_AOtfE"
      },
      "outputs": [
        {
          "name": "stdout",
          "output_type": "stream",
          "text": [
            "Requirement already satisfied: textblob in /Users/raihanromzi/miniconda3/envs/ta-recsys/lib/python3.11/site-packages (0.15.3)\n",
            "Requirement already satisfied: pyspellchecker in /Users/raihanromzi/miniconda3/envs/ta-recsys/lib/python3.11/site-packages (0.8.1)\n",
            "Requirement already satisfied: nltk>=3.1 in /Users/raihanromzi/miniconda3/envs/ta-recsys/lib/python3.11/site-packages (from textblob) (3.8.1)\n",
            "Requirement already satisfied: click in /Users/raihanromzi/miniconda3/envs/ta-recsys/lib/python3.11/site-packages (from nltk>=3.1->textblob) (8.1.7)\n",
            "Requirement already satisfied: joblib in /Users/raihanromzi/miniconda3/envs/ta-recsys/lib/python3.11/site-packages (from nltk>=3.1->textblob) (1.4.2)\n",
            "Requirement already satisfied: regex>=2021.8.3 in /Users/raihanromzi/miniconda3/envs/ta-recsys/lib/python3.11/site-packages (from nltk>=3.1->textblob) (2024.5.15)\n",
            "Requirement already satisfied: tqdm in /Users/raihanromzi/miniconda3/envs/ta-recsys/lib/python3.11/site-packages (from nltk>=3.1->textblob) (4.66.4)\n",
            "Note: you may need to restart the kernel to use updated packages.\n"
          ]
        }
      ],
      "source": [
        "pip install textblob pyspellchecker"
      ]
    },
    {
      "cell_type": "code",
      "execution_count": 6,
      "metadata": {
        "id": "_2g18M7SBG62"
      },
      "outputs": [],
      "source": [
        "import pandas as pd\n",
        "import string\n",
        "import matplotlib.pyplot as plt\n",
        "import pylab\n",
        "import scipy.stats as stats\n",
        "import numpy as np\n",
        "import nltk\n",
        "import re\n",
        "from nltk.corpus import stopwords\n",
        "from nltk.stem import WordNetLemmatizer\n",
        "from sklearn.feature_extraction.text import TfidfVectorizer\n",
        "from nltk.tokenize import word_tokenize\n",
        "from autocorrect import Speller\n",
        "from textblob import TextBlob\n",
        "from spellchecker import SpellChecker"
      ]
    },
    {
      "cell_type": "code",
      "execution_count": 7,
      "metadata": {
        "id": "aTfK48vdvdXv"
      },
      "outputs": [
        {
          "name": "stderr",
          "output_type": "stream",
          "text": [
            "[nltk_data] Downloading package stopwords to\n",
            "[nltk_data]     /Users/raihanromzi/nltk_data...\n",
            "[nltk_data]   Package stopwords is already up-to-date!\n",
            "[nltk_data] Downloading package wordnet to\n",
            "[nltk_data]     /Users/raihanromzi/nltk_data...\n",
            "[nltk_data]   Package wordnet is already up-to-date!\n",
            "[nltk_data] Downloading package punkt to\n",
            "[nltk_data]     /Users/raihanromzi/nltk_data...\n",
            "[nltk_data]   Package punkt is already up-to-date!\n"
          ]
        },
        {
          "data": {
            "text/plain": [
              "True"
            ]
          },
          "execution_count": 7,
          "metadata": {},
          "output_type": "execute_result"
        }
      ],
      "source": [
        "nltk.download('stopwords')\n",
        "nltk.download('wordnet')\n",
        "nltk.download('punkt')"
      ]
    },
    {
      "cell_type": "code",
      "execution_count": 8,
      "metadata": {
        "id": "lOs86Qg77cNn"
      },
      "outputs": [],
      "source": [
        "# Text Preprocessing\n",
        "stop_words = set(stopwords.words('english'))\n",
        "lemmatizer = WordNetLemmatizer()"
      ]
    },
    {
      "cell_type": "code",
      "execution_count": 458,
      "metadata": {
        "id": "HCKKTabWBIe_"
      },
      "outputs": [],
      "source": [
        "df=pd.read_csv('./dataset/recipes.csv')"
      ]
    },
    {
      "cell_type": "code",
      "execution_count": 459,
      "metadata": {
        "id": "TBXBpWL5BLMf"
      },
      "outputs": [
        {
          "data": {
            "text/html": [
              "<div>\n",
              "<style scoped>\n",
              "    .dataframe tbody tr th:only-of-type {\n",
              "        vertical-align: middle;\n",
              "    }\n",
              "\n",
              "    .dataframe tbody tr th {\n",
              "        vertical-align: top;\n",
              "    }\n",
              "\n",
              "    .dataframe thead th {\n",
              "        text-align: right;\n",
              "    }\n",
              "</style>\n",
              "<table border=\"1\" class=\"dataframe\">\n",
              "  <thead>\n",
              "    <tr style=\"text-align: right;\">\n",
              "      <th></th>\n",
              "      <th>RecipeId</th>\n",
              "      <th>Name</th>\n",
              "      <th>AuthorId</th>\n",
              "      <th>AuthorName</th>\n",
              "      <th>CookTime</th>\n",
              "      <th>PrepTime</th>\n",
              "      <th>TotalTime</th>\n",
              "      <th>DatePublished</th>\n",
              "      <th>Description</th>\n",
              "      <th>Images</th>\n",
              "      <th>...</th>\n",
              "      <th>SaturatedFatContent</th>\n",
              "      <th>CholesterolContent</th>\n",
              "      <th>SodiumContent</th>\n",
              "      <th>CarbohydrateContent</th>\n",
              "      <th>FiberContent</th>\n",
              "      <th>SugarContent</th>\n",
              "      <th>ProteinContent</th>\n",
              "      <th>RecipeServings</th>\n",
              "      <th>RecipeYield</th>\n",
              "      <th>RecipeInstructions</th>\n",
              "    </tr>\n",
              "  </thead>\n",
              "  <tbody>\n",
              "    <tr>\n",
              "      <th>0</th>\n",
              "      <td>38</td>\n",
              "      <td>Low-Fat Berry Blue Frozen Dessert</td>\n",
              "      <td>1533</td>\n",
              "      <td>Dancer</td>\n",
              "      <td>PT24H</td>\n",
              "      <td>PT45M</td>\n",
              "      <td>PT24H45M</td>\n",
              "      <td>1999-08-09T21:46:00Z</td>\n",
              "      <td>Make and share this Low-Fat Berry Blue Frozen ...</td>\n",
              "      <td>c(\"https://img.sndimg.com/food/image/upload/w_...</td>\n",
              "      <td>...</td>\n",
              "      <td>1.3</td>\n",
              "      <td>8.0</td>\n",
              "      <td>29.8</td>\n",
              "      <td>37.1</td>\n",
              "      <td>3.6</td>\n",
              "      <td>30.2</td>\n",
              "      <td>3.2</td>\n",
              "      <td>4.0</td>\n",
              "      <td>NaN</td>\n",
              "      <td>c(\"Toss 2 cups berries with sugar.\", \"Let stan...</td>\n",
              "    </tr>\n",
              "    <tr>\n",
              "      <th>1</th>\n",
              "      <td>39</td>\n",
              "      <td>Biryani</td>\n",
              "      <td>1567</td>\n",
              "      <td>elly9812</td>\n",
              "      <td>PT25M</td>\n",
              "      <td>PT4H</td>\n",
              "      <td>PT4H25M</td>\n",
              "      <td>1999-08-29T13:12:00Z</td>\n",
              "      <td>Make and share this Biryani recipe from Food.com.</td>\n",
              "      <td>c(\"https://img.sndimg.com/food/image/upload/w_...</td>\n",
              "      <td>...</td>\n",
              "      <td>16.6</td>\n",
              "      <td>372.8</td>\n",
              "      <td>368.4</td>\n",
              "      <td>84.4</td>\n",
              "      <td>9.0</td>\n",
              "      <td>20.4</td>\n",
              "      <td>63.4</td>\n",
              "      <td>6.0</td>\n",
              "      <td>NaN</td>\n",
              "      <td>c(\"Soak saffron in warm milk for 5 minutes and...</td>\n",
              "    </tr>\n",
              "  </tbody>\n",
              "</table>\n",
              "<p>2 rows × 28 columns</p>\n",
              "</div>"
            ],
            "text/plain": [
              "   RecipeId                               Name  AuthorId AuthorName CookTime  \\\n",
              "0        38  Low-Fat Berry Blue Frozen Dessert      1533     Dancer    PT24H   \n",
              "1        39                            Biryani      1567   elly9812    PT25M   \n",
              "\n",
              "  PrepTime TotalTime         DatePublished  \\\n",
              "0    PT45M  PT24H45M  1999-08-09T21:46:00Z   \n",
              "1     PT4H   PT4H25M  1999-08-29T13:12:00Z   \n",
              "\n",
              "                                         Description  \\\n",
              "0  Make and share this Low-Fat Berry Blue Frozen ...   \n",
              "1  Make and share this Biryani recipe from Food.com.   \n",
              "\n",
              "                                              Images  ... SaturatedFatContent  \\\n",
              "0  c(\"https://img.sndimg.com/food/image/upload/w_...  ...                 1.3   \n",
              "1  c(\"https://img.sndimg.com/food/image/upload/w_...  ...                16.6   \n",
              "\n",
              "  CholesterolContent SodiumContent CarbohydrateContent  FiberContent  \\\n",
              "0                8.0          29.8                37.1           3.6   \n",
              "1              372.8         368.4                84.4           9.0   \n",
              "\n",
              "   SugarContent  ProteinContent  RecipeServings  RecipeYield  \\\n",
              "0          30.2             3.2             4.0          NaN   \n",
              "1          20.4            63.4             6.0          NaN   \n",
              "\n",
              "                                  RecipeInstructions  \n",
              "0  c(\"Toss 2 cups berries with sugar.\", \"Let stan...  \n",
              "1  c(\"Soak saffron in warm milk for 5 minutes and...  \n",
              "\n",
              "[2 rows x 28 columns]"
            ]
          },
          "execution_count": 459,
          "metadata": {},
          "output_type": "execute_result"
        }
      ],
      "source": [
        "df.head(2)"
      ]
    },
    {
      "cell_type": "code",
      "execution_count": 460,
      "metadata": {
        "id": "NLbyJj-nBdM9"
      },
      "outputs": [
        {
          "name": "stdout",
          "output_type": "stream",
          "text": [
            "<class 'pandas.core.frame.DataFrame'>\n",
            "RangeIndex: 522517 entries, 0 to 522516\n",
            "Data columns (total 28 columns):\n",
            " #   Column                      Non-Null Count   Dtype  \n",
            "---  ------                      --------------   -----  \n",
            " 0   RecipeId                    522517 non-null  int64  \n",
            " 1   Name                        522517 non-null  object \n",
            " 2   AuthorId                    522517 non-null  int64  \n",
            " 3   AuthorName                  522517 non-null  object \n",
            " 4   CookTime                    439972 non-null  object \n",
            " 5   PrepTime                    522517 non-null  object \n",
            " 6   TotalTime                   522517 non-null  object \n",
            " 7   DatePublished               522517 non-null  object \n",
            " 8   Description                 522512 non-null  object \n",
            " 9   Images                      522516 non-null  object \n",
            " 10  RecipeCategory              521766 non-null  object \n",
            " 11  Keywords                    505280 non-null  object \n",
            " 12  RecipeIngredientQuantities  522514 non-null  object \n",
            " 13  RecipeIngredientParts       522517 non-null  object \n",
            " 14  AggregatedRating            269294 non-null  float64\n",
            " 15  ReviewCount                 275028 non-null  float64\n",
            " 16  Calories                    522517 non-null  float64\n",
            " 17  FatContent                  522517 non-null  float64\n",
            " 18  SaturatedFatContent         522517 non-null  float64\n",
            " 19  CholesterolContent          522517 non-null  float64\n",
            " 20  SodiumContent               522517 non-null  float64\n",
            " 21  CarbohydrateContent         522517 non-null  float64\n",
            " 22  FiberContent                522517 non-null  float64\n",
            " 23  SugarContent                522517 non-null  float64\n",
            " 24  ProteinContent              522517 non-null  float64\n",
            " 25  RecipeServings              339606 non-null  float64\n",
            " 26  RecipeYield                 174446 non-null  object \n",
            " 27  RecipeInstructions          522517 non-null  object \n",
            "dtypes: float64(12), int64(2), object(14)\n",
            "memory usage: 111.6+ MB\n"
          ]
        }
      ],
      "source": [
        "df.info()"
      ]
    },
    {
      "cell_type": "markdown",
      "metadata": {
        "id": "9UFoE7nhBn3r"
      },
      "source": [
        "## **Data Visualization**"
      ]
    },
    {
      "cell_type": "code",
      "execution_count": 385,
      "metadata": {
        "id": "bAzAjxluBgUx"
      },
      "outputs": [
        {
          "data": {
            "image/png": "[encoded data removed]",
            "text/plain": [
              "<Figure size 600x400 with 1 Axes>"
            ]
          },
          "metadata": {},
          "output_type": "display_data"
        }
      ],
      "source": [
        "fig, ax = plt.subplots(figsize=(6, 4))\n",
        "plt.title('Frequency Histogram')\n",
        "plt.ylabel('Frequency')\n",
        "plt.xlabel('Bins Center')\n",
        "ax.hist(df.Calories.to_numpy(),bins=[0,100,200,300,400,500,600,700,800,900,1000,2000,3000,5000],linewidth=0.5, edgecolor=\"white\")\n",
        "plt.show()"
      ]
    },
    {
      "cell_type": "markdown",
      "metadata": {
        "id": "saSsM0LSB0ZD"
      },
      "source": [
        "**Summary:** The histogram provides a visual representation of the distribution of calorie values in the dataset. This helps in understanding how calories are spread across different recipes.\n",
        "\n",
        "**Insight:** The histogram indicates that most recipes have calories within the lower range (0-1000 calories), with significantly fewer recipes having higher calorie counts."
      ]
    },
    {
      "cell_type": "code",
      "execution_count": 386,
      "metadata": {
        "id": "ETaAZvHDCHZz"
      },
      "outputs": [
        {
          "data": {
            "image/png": "[encoded data removed]",
            "text/plain": [
              "<Figure size 640x480 with 1 Axes>"
            ]
          },
          "metadata": {},
          "output_type": "display_data"
        }
      ],
      "source": [
        "stats.probplot(df.Calories.to_numpy(), dist=\"norm\", plot=pylab)\n",
        "pylab.show()"
      ]
    },
    {
      "cell_type": "markdown",
      "metadata": {
        "id": "xqIjiK9fEjaj"
      },
      "source": [
        "**Summary:**\n",
        "*   The majority of the recipes have calories in the lower range (0-1000 calories)\n",
        "*   The data is highly skewed towards the lower calorie range, indicating that most recipes are under 1000 in calories.\n",
        "*   There are several extreme values (outliers) in the higher calorie range, as indicated by the points far from the line.\n",
        "\n",
        "**Insights:**\n",
        "*   There is some outlier in calories (too high)"
      ]
    },
    {
      "cell_type": "markdown",
      "metadata": {
        "id": "CamLhULpFPLt"
      },
      "source": [
        "## **Data Preparation**"
      ]
    },
    {
      "cell_type": "markdown",
      "metadata": {
        "id": "IxPmTdiCFTzX"
      },
      "source": [
        "### Select Relevant Column for Building RecSys"
      ]
    },
    {
      "cell_type": "code",
      "execution_count": 461,
      "metadata": {
        "id": "jNRWx7eKFR0v"
      },
      "outputs": [],
      "source": [
        "columns=['RecipeId', 'Name','RecipeIngredientParts','RecipeInstructions', 'Images', 'Description', 'Keywords', 'RecipeCategory', 'Calories','FatContent','SaturatedFatContent','CholesterolContent','SodiumContent','CarbohydrateContent','FiberContent','SugarContent','ProteinContent']\n",
        "df=df[columns]"
      ]
    },
    {
      "cell_type": "markdown",
      "metadata": {
        "id": "rnulLcgWFnDo"
      },
      "source": [
        "### Filter Recipe to Follow this Max Nutritient"
      ]
    },
    {
      "cell_type": "code",
      "execution_count": 462,
      "metadata": {
        "id": "2I8_fcTQFd2W"
      },
      "outputs": [],
      "source": [
        "# https://www.dietaryguidelines.gov/\n",
        "max_Calories=1000\n",
        "\n",
        "# https://www.ncbi.nlm.nih.gov/books/NBK56068/\n",
        "max_daily_fat=100\n",
        "\n",
        "# https://www.heart.org/\n",
        "max_daily_Saturatedfat=13\n",
        "\n",
        "# https://www.dietaryguidelines.gov/\n",
        "max_daily_Cholesterol=300\n",
        "\n",
        "# https://www.ncbi.nlm.nih.gov/books/NBK56068/\n",
        "max_daily_Sodium=2300\n",
        "\n",
        "# https://www.ncbi.nlm.nih.gov/books/NBK56068/\n",
        "max_daily_Carbohydrate=325\n",
        "\n",
        "# https://www.ncbi.nlm.nih.gov/books/NBK56068/\n",
        "max_daily_Fiber=40\n",
        "\n",
        "# https://www.heart.org/\n",
        "max_daily_Sugar=40\n",
        "\n",
        "# https://www.ncbi.nlm.nih.gov/books/NBK56068/\n",
        "max_daily_Protein=200\n",
        "\n",
        "max_list=[max_Calories,max_daily_fat,max_daily_Saturatedfat,max_daily_Cholesterol,max_daily_Sodium,max_daily_Carbohydrate,max_daily_Fiber,max_daily_Sugar,max_daily_Protein]"
      ]
    },
    {
      "cell_type": "code",
      "execution_count": 463,
      "metadata": {
        "id": "lPRE9GqGx1an"
      },
      "outputs": [
        {
          "name": "stdout",
          "output_type": "stream",
          "text": [
            "<class 'pandas.core.frame.DataFrame'>\n",
            "RangeIndex: 522517 entries, 0 to 522516\n",
            "Data columns (total 17 columns):\n",
            " #   Column                 Non-Null Count   Dtype  \n",
            "---  ------                 --------------   -----  \n",
            " 0   RecipeId               522517 non-null  int64  \n",
            " 1   Name                   522517 non-null  object \n",
            " 2   RecipeIngredientParts  522517 non-null  object \n",
            " 3   RecipeInstructions     522517 non-null  object \n",
            " 4   Images                 522516 non-null  object \n",
            " 5   Description            522512 non-null  object \n",
            " 6   Keywords               505280 non-null  object \n",
            " 7   RecipeCategory         521766 non-null  object \n",
            " 8   Calories               522517 non-null  float64\n",
            " 9   FatContent             522517 non-null  float64\n",
            " 10  SaturatedFatContent    522517 non-null  float64\n",
            " 11  CholesterolContent     522517 non-null  float64\n",
            " 12  SodiumContent          522517 non-null  float64\n",
            " 13  CarbohydrateContent    522517 non-null  float64\n",
            " 14  FiberContent           522517 non-null  float64\n",
            " 15  SugarContent           522517 non-null  float64\n",
            " 16  ProteinContent         522517 non-null  float64\n",
            "dtypes: float64(9), int64(1), object(7)\n",
            "memory usage: 67.8+ MB\n"
          ]
        }
      ],
      "source": [
        "df.info()"
      ]
    },
    {
      "cell_type": "code",
      "execution_count": 465,
      "metadata": {
        "id": "1yknSSnDx904"
      },
      "outputs": [
        {
          "data": {
            "text/plain": [
              "Index(['Calories', 'FatContent', 'SaturatedFatContent', 'CholesterolContent',\n",
              "       'SodiumContent', 'CarbohydrateContent', 'FiberContent', 'SugarContent',\n",
              "       'ProteinContent'],\n",
              "      dtype='object')"
            ]
          },
          "execution_count": 465,
          "metadata": {},
          "output_type": "execute_result"
        }
      ],
      "source": [
        "df.columns[8:]"
      ]
    },
    {
      "cell_type": "code",
      "execution_count": 466,
      "metadata": {
        "id": "Pp3_G6t7Fs-F"
      },
      "outputs": [],
      "source": [
        "# from index 6 to 14 which contain nutritional value with the corresponding maximum value in max_list\n",
        "for column,maximum in zip(df.columns[8:],max_list):\n",
        "    df=df[df[column]<maximum]"
      ]
    },
    {
      "cell_type": "code",
      "execution_count": 467,
      "metadata": {
        "id": "2c9y57PqLLYn"
      },
      "outputs": [
        {
          "data": {
            "text/html": [
              "<div>\n",
              "<style scoped>\n",
              "    .dataframe tbody tr th:only-of-type {\n",
              "        vertical-align: middle;\n",
              "    }\n",
              "\n",
              "    .dataframe tbody tr th {\n",
              "        vertical-align: top;\n",
              "    }\n",
              "\n",
              "    .dataframe thead th {\n",
              "        text-align: right;\n",
              "    }\n",
              "</style>\n",
              "<table border=\"1\" class=\"dataframe\">\n",
              "  <thead>\n",
              "    <tr style=\"text-align: right;\">\n",
              "      <th></th>\n",
              "      <th>RecipeId</th>\n",
              "      <th>Name</th>\n",
              "      <th>RecipeIngredientParts</th>\n",
              "      <th>RecipeInstructions</th>\n",
              "      <th>Images</th>\n",
              "      <th>Description</th>\n",
              "      <th>Keywords</th>\n",
              "      <th>RecipeCategory</th>\n",
              "      <th>Calories</th>\n",
              "      <th>FatContent</th>\n",
              "      <th>SaturatedFatContent</th>\n",
              "      <th>CholesterolContent</th>\n",
              "      <th>SodiumContent</th>\n",
              "      <th>CarbohydrateContent</th>\n",
              "      <th>FiberContent</th>\n",
              "      <th>SugarContent</th>\n",
              "      <th>ProteinContent</th>\n",
              "    </tr>\n",
              "  </thead>\n",
              "  <tbody>\n",
              "    <tr>\n",
              "      <th>0</th>\n",
              "      <td>38</td>\n",
              "      <td>Low-Fat Berry Blue Frozen Dessert</td>\n",
              "      <td>c(\"blueberries\", \"granulated sugar\", \"vanilla ...</td>\n",
              "      <td>c(\"Toss 2 cups berries with sugar.\", \"Let stan...</td>\n",
              "      <td>c(\"https://img.sndimg.com/food/image/upload/w_...</td>\n",
              "      <td>Make and share this Low-Fat Berry Blue Frozen ...</td>\n",
              "      <td>c(\"Dessert\", \"Low Protein\", \"Low Cholesterol\",...</td>\n",
              "      <td>Frozen Desserts</td>\n",
              "      <td>170.9</td>\n",
              "      <td>2.5</td>\n",
              "      <td>1.3</td>\n",
              "      <td>8.0</td>\n",
              "      <td>29.8</td>\n",
              "      <td>37.1</td>\n",
              "      <td>3.6</td>\n",
              "      <td>30.2</td>\n",
              "      <td>3.2</td>\n",
              "    </tr>\n",
              "    <tr>\n",
              "      <th>3</th>\n",
              "      <td>41</td>\n",
              "      <td>Carina's Tofu-Vegetable Kebabs</td>\n",
              "      <td>c(\"extra firm tofu\", \"eggplant\", \"zucchini\", \"...</td>\n",
              "      <td>c(\"Drain the tofu, carefully squeezing out exc...</td>\n",
              "      <td>c(\"https://img.sndimg.com/food/image/upload/w_...</td>\n",
              "      <td>This dish is best prepared a day in advance to...</td>\n",
              "      <td>c(\"Beans\", \"Vegetable\", \"Low Cholesterol\", \"We...</td>\n",
              "      <td>Soy/Tofu</td>\n",
              "      <td>536.1</td>\n",
              "      <td>24.0</td>\n",
              "      <td>3.8</td>\n",
              "      <td>0.0</td>\n",
              "      <td>1558.6</td>\n",
              "      <td>64.2</td>\n",
              "      <td>17.3</td>\n",
              "      <td>32.1</td>\n",
              "      <td>29.3</td>\n",
              "    </tr>\n",
              "  </tbody>\n",
              "</table>\n",
              "</div>"
            ],
            "text/plain": [
              "   RecipeId                               Name  \\\n",
              "0        38  Low-Fat Berry Blue Frozen Dessert   \n",
              "3        41     Carina's Tofu-Vegetable Kebabs   \n",
              "\n",
              "                               RecipeIngredientParts  \\\n",
              "0  c(\"blueberries\", \"granulated sugar\", \"vanilla ...   \n",
              "3  c(\"extra firm tofu\", \"eggplant\", \"zucchini\", \"...   \n",
              "\n",
              "                                  RecipeInstructions  \\\n",
              "0  c(\"Toss 2 cups berries with sugar.\", \"Let stan...   \n",
              "3  c(\"Drain the tofu, carefully squeezing out exc...   \n",
              "\n",
              "                                              Images  \\\n",
              "0  c(\"https://img.sndimg.com/food/image/upload/w_...   \n",
              "3  c(\"https://img.sndimg.com/food/image/upload/w_...   \n",
              "\n",
              "                                         Description  \\\n",
              "0  Make and share this Low-Fat Berry Blue Frozen ...   \n",
              "3  This dish is best prepared a day in advance to...   \n",
              "\n",
              "                                            Keywords   RecipeCategory  \\\n",
              "0  c(\"Dessert\", \"Low Protein\", \"Low Cholesterol\",...  Frozen Desserts   \n",
              "3  c(\"Beans\", \"Vegetable\", \"Low Cholesterol\", \"We...         Soy/Tofu   \n",
              "\n",
              "   Calories  FatContent  SaturatedFatContent  CholesterolContent  \\\n",
              "0     170.9         2.5                  1.3                 8.0   \n",
              "3     536.1        24.0                  3.8                 0.0   \n",
              "\n",
              "   SodiumContent  CarbohydrateContent  FiberContent  SugarContent  \\\n",
              "0           29.8                 37.1           3.6          30.2   \n",
              "3         1558.6                 64.2          17.3          32.1   \n",
              "\n",
              "   ProteinContent  \n",
              "0             3.2  \n",
              "3            29.3  "
            ]
          },
          "execution_count": 467,
          "metadata": {},
          "output_type": "execute_result"
        }
      ],
      "source": [
        "df.head(2)"
      ]
    },
    {
      "cell_type": "code",
      "execution_count": 468,
      "metadata": {
        "id": "R5xuTLwPzeRa"
      },
      "outputs": [
        {
          "data": {
            "text/plain": [
              "RecipeId                     0\n",
              "Name                         0\n",
              "RecipeIngredientParts        0\n",
              "RecipeInstructions           0\n",
              "Images                       0\n",
              "Description                  2\n",
              "Keywords                 12052\n",
              "RecipeCategory             492\n",
              "Calories                     0\n",
              "FatContent                   0\n",
              "SaturatedFatContent          0\n",
              "CholesterolContent           0\n",
              "SodiumContent                0\n",
              "CarbohydrateContent          0\n",
              "FiberContent                 0\n",
              "SugarContent                 0\n",
              "ProteinContent               0\n",
              "dtype: int64"
            ]
          },
          "execution_count": 468,
          "metadata": {},
          "output_type": "execute_result"
        }
      ],
      "source": [
        "df.isnull().sum()"
      ]
    },
    {
      "cell_type": "code",
      "execution_count": 469,
      "metadata": {
        "id": "d60ZFcSCbGh3"
      },
      "outputs": [],
      "source": [
        "# DropNaN, Reset Index, Drop Duplicates\n",
        "df = df.dropna()\n",
        "df = df.reset_index(drop=True)\n",
        "df = df.drop_duplicates(subset='Name', keep='first')\n",
        "df = df.drop_duplicates(subset='RecipeIngredientParts', keep='first')\n",
        "df = df.drop_duplicates(subset='RecipeInstructions', keep='first')"
      ]
    },
    {
      "cell_type": "code",
      "execution_count": 470,
      "metadata": {
        "id": "UtFKuetWgP8Z"
      },
      "outputs": [
        {
          "data": {
            "text/plain": [
              "RecipeId                 0\n",
              "Name                     0\n",
              "RecipeIngredientParts    0\n",
              "RecipeInstructions       0\n",
              "Images                   0\n",
              "Description              0\n",
              "Keywords                 0\n",
              "RecipeCategory           0\n",
              "Calories                 0\n",
              "FatContent               0\n",
              "SaturatedFatContent      0\n",
              "CholesterolContent       0\n",
              "SodiumContent            0\n",
              "CarbohydrateContent      0\n",
              "FiberContent             0\n",
              "SugarContent             0\n",
              "ProteinContent           0\n",
              "dtype: int64"
            ]
          },
          "execution_count": 470,
          "metadata": {},
          "output_type": "execute_result"
        }
      ],
      "source": [
        "df.isnull().sum()"
      ]
    },
    {
      "cell_type": "code",
      "execution_count": 471,
      "metadata": {
        "id": "yxNawr5kzitP"
      },
      "outputs": [
        {
          "name": "stdout",
          "output_type": "stream",
          "text": [
            "<class 'pandas.core.frame.DataFrame'>\n",
            "Index: 297334 entries, 0 to 362409\n",
            "Data columns (total 17 columns):\n",
            " #   Column                 Non-Null Count   Dtype  \n",
            "---  ------                 --------------   -----  \n",
            " 0   RecipeId               297334 non-null  int64  \n",
            " 1   Name                   297334 non-null  object \n",
            " 2   RecipeIngredientParts  297334 non-null  object \n",
            " 3   RecipeInstructions     297334 non-null  object \n",
            " 4   Images                 297334 non-null  object \n",
            " 5   Description            297334 non-null  object \n",
            " 6   Keywords               297334 non-null  object \n",
            " 7   RecipeCategory         297334 non-null  object \n",
            " 8   Calories               297334 non-null  float64\n",
            " 9   FatContent             297334 non-null  float64\n",
            " 10  SaturatedFatContent    297334 non-null  float64\n",
            " 11  CholesterolContent     297334 non-null  float64\n",
            " 12  SodiumContent          297334 non-null  float64\n",
            " 13  CarbohydrateContent    297334 non-null  float64\n",
            " 14  FiberContent           297334 non-null  float64\n",
            " 15  SugarContent           297334 non-null  float64\n",
            " 16  ProteinContent         297334 non-null  float64\n",
            "dtypes: float64(9), int64(1), object(7)\n",
            "memory usage: 40.8+ MB\n"
          ]
        }
      ],
      "source": [
        "df.info()"
      ]
    },
    {
      "cell_type": "markdown",
      "metadata": {
        "id": "c38OmMN-sVel"
      },
      "source": [
        "## **Data Pre-Processing**"
      ]
    },
    {
      "cell_type": "code",
      "execution_count": 472,
      "metadata": {
        "id": "sfk_6JRU1HDW"
      },
      "outputs": [],
      "source": [
        "df_preprocessing=df.copy()"
      ]
    },
    {
      "cell_type": "code",
      "execution_count": 473,
      "metadata": {
        "id": "0u6RQ3501Wow"
      },
      "outputs": [
        {
          "data": {
            "text/html": [
              "<div>\n",
              "<style scoped>\n",
              "    .dataframe tbody tr th:only-of-type {\n",
              "        vertical-align: middle;\n",
              "    }\n",
              "\n",
              "    .dataframe tbody tr th {\n",
              "        vertical-align: top;\n",
              "    }\n",
              "\n",
              "    .dataframe thead th {\n",
              "        text-align: right;\n",
              "    }\n",
              "</style>\n",
              "<table border=\"1\" class=\"dataframe\">\n",
              "  <thead>\n",
              "    <tr style=\"text-align: right;\">\n",
              "      <th></th>\n",
              "      <th>RecipeId</th>\n",
              "      <th>Name</th>\n",
              "      <th>RecipeIngredientParts</th>\n",
              "      <th>RecipeInstructions</th>\n",
              "      <th>Images</th>\n",
              "      <th>Description</th>\n",
              "      <th>Keywords</th>\n",
              "      <th>RecipeCategory</th>\n",
              "      <th>Calories</th>\n",
              "      <th>FatContent</th>\n",
              "      <th>SaturatedFatContent</th>\n",
              "      <th>CholesterolContent</th>\n",
              "      <th>SodiumContent</th>\n",
              "      <th>CarbohydrateContent</th>\n",
              "      <th>FiberContent</th>\n",
              "      <th>SugarContent</th>\n",
              "      <th>ProteinContent</th>\n",
              "    </tr>\n",
              "  </thead>\n",
              "  <tbody>\n",
              "    <tr>\n",
              "      <th>0</th>\n",
              "      <td>38</td>\n",
              "      <td>Low-Fat Berry Blue Frozen Dessert</td>\n",
              "      <td>c(\"blueberries\", \"granulated sugar\", \"vanilla ...</td>\n",
              "      <td>c(\"Toss 2 cups berries with sugar.\", \"Let stan...</td>\n",
              "      <td>c(\"https://img.sndimg.com/food/image/upload/w_...</td>\n",
              "      <td>Make and share this Low-Fat Berry Blue Frozen ...</td>\n",
              "      <td>c(\"Dessert\", \"Low Protein\", \"Low Cholesterol\",...</td>\n",
              "      <td>Frozen Desserts</td>\n",
              "      <td>170.9</td>\n",
              "      <td>2.5</td>\n",
              "      <td>1.3</td>\n",
              "      <td>8.0</td>\n",
              "      <td>29.8</td>\n",
              "      <td>37.1</td>\n",
              "      <td>3.6</td>\n",
              "      <td>30.2</td>\n",
              "      <td>3.2</td>\n",
              "    </tr>\n",
              "    <tr>\n",
              "      <th>1</th>\n",
              "      <td>41</td>\n",
              "      <td>Carina's Tofu-Vegetable Kebabs</td>\n",
              "      <td>c(\"extra firm tofu\", \"eggplant\", \"zucchini\", \"...</td>\n",
              "      <td>c(\"Drain the tofu, carefully squeezing out exc...</td>\n",
              "      <td>c(\"https://img.sndimg.com/food/image/upload/w_...</td>\n",
              "      <td>This dish is best prepared a day in advance to...</td>\n",
              "      <td>c(\"Beans\", \"Vegetable\", \"Low Cholesterol\", \"We...</td>\n",
              "      <td>Soy/Tofu</td>\n",
              "      <td>536.1</td>\n",
              "      <td>24.0</td>\n",
              "      <td>3.8</td>\n",
              "      <td>0.0</td>\n",
              "      <td>1558.6</td>\n",
              "      <td>64.2</td>\n",
              "      <td>17.3</td>\n",
              "      <td>32.1</td>\n",
              "      <td>29.3</td>\n",
              "    </tr>\n",
              "  </tbody>\n",
              "</table>\n",
              "</div>"
            ],
            "text/plain": [
              "   RecipeId                               Name  \\\n",
              "0        38  Low-Fat Berry Blue Frozen Dessert   \n",
              "1        41     Carina's Tofu-Vegetable Kebabs   \n",
              "\n",
              "                               RecipeIngredientParts  \\\n",
              "0  c(\"blueberries\", \"granulated sugar\", \"vanilla ...   \n",
              "1  c(\"extra firm tofu\", \"eggplant\", \"zucchini\", \"...   \n",
              "\n",
              "                                  RecipeInstructions  \\\n",
              "0  c(\"Toss 2 cups berries with sugar.\", \"Let stan...   \n",
              "1  c(\"Drain the tofu, carefully squeezing out exc...   \n",
              "\n",
              "                                              Images  \\\n",
              "0  c(\"https://img.sndimg.com/food/image/upload/w_...   \n",
              "1  c(\"https://img.sndimg.com/food/image/upload/w_...   \n",
              "\n",
              "                                         Description  \\\n",
              "0  Make and share this Low-Fat Berry Blue Frozen ...   \n",
              "1  This dish is best prepared a day in advance to...   \n",
              "\n",
              "                                            Keywords   RecipeCategory  \\\n",
              "0  c(\"Dessert\", \"Low Protein\", \"Low Cholesterol\",...  Frozen Desserts   \n",
              "1  c(\"Beans\", \"Vegetable\", \"Low Cholesterol\", \"We...         Soy/Tofu   \n",
              "\n",
              "   Calories  FatContent  SaturatedFatContent  CholesterolContent  \\\n",
              "0     170.9         2.5                  1.3                 8.0   \n",
              "1     536.1        24.0                  3.8                 0.0   \n",
              "\n",
              "   SodiumContent  CarbohydrateContent  FiberContent  SugarContent  \\\n",
              "0           29.8                 37.1           3.6          30.2   \n",
              "1         1558.6                 64.2          17.3          32.1   \n",
              "\n",
              "   ProteinContent  \n",
              "0             3.2  \n",
              "1            29.3  "
            ]
          },
          "execution_count": 473,
          "metadata": {},
          "output_type": "execute_result"
        }
      ],
      "source": [
        "df_preprocessing.head(2)"
      ]
    },
    {
      "cell_type": "code",
      "execution_count": 474,
      "metadata": {
        "id": "iJ4zev92c2US"
      },
      "outputs": [
        {
          "data": {
            "text/html": [
              "<div>\n",
              "<style scoped>\n",
              "    .dataframe tbody tr th:only-of-type {\n",
              "        vertical-align: middle;\n",
              "    }\n",
              "\n",
              "    .dataframe tbody tr th {\n",
              "        vertical-align: top;\n",
              "    }\n",
              "\n",
              "    .dataframe thead th {\n",
              "        text-align: right;\n",
              "    }\n",
              "</style>\n",
              "<table border=\"1\" class=\"dataframe\">\n",
              "  <thead>\n",
              "    <tr style=\"text-align: right;\">\n",
              "      <th></th>\n",
              "      <th>Name</th>\n",
              "      <th>Keywords</th>\n",
              "      <th>Description</th>\n",
              "      <th>RecipeIngredientParts</th>\n",
              "      <th>RecipeInstructions</th>\n",
              "      <th>Images</th>\n",
              "      <th>RecipeCategory</th>\n",
              "    </tr>\n",
              "  </thead>\n",
              "  <tbody>\n",
              "    <tr>\n",
              "      <th>0</th>\n",
              "      <td>Low-Fat Berry Blue Frozen Dessert</td>\n",
              "      <td>c(\"Dessert\", \"Low Protein\", \"Low Cholesterol\",...</td>\n",
              "      <td>Make and share this Low-Fat Berry Blue Frozen ...</td>\n",
              "      <td>c(\"blueberries\", \"granulated sugar\", \"vanilla ...</td>\n",
              "      <td>c(\"Toss 2 cups berries with sugar.\", \"Let stan...</td>\n",
              "      <td>c(\"https://img.sndimg.com/food/image/upload/w_...</td>\n",
              "      <td>Frozen Desserts</td>\n",
              "    </tr>\n",
              "    <tr>\n",
              "      <th>1</th>\n",
              "      <td>Carina's Tofu-Vegetable Kebabs</td>\n",
              "      <td>c(\"Beans\", \"Vegetable\", \"Low Cholesterol\", \"We...</td>\n",
              "      <td>This dish is best prepared a day in advance to...</td>\n",
              "      <td>c(\"extra firm tofu\", \"eggplant\", \"zucchini\", \"...</td>\n",
              "      <td>c(\"Drain the tofu, carefully squeezing out exc...</td>\n",
              "      <td>c(\"https://img.sndimg.com/food/image/upload/w_...</td>\n",
              "      <td>Soy/Tofu</td>\n",
              "    </tr>\n",
              "  </tbody>\n",
              "</table>\n",
              "</div>"
            ],
            "text/plain": [
              "                                Name  \\\n",
              "0  Low-Fat Berry Blue Frozen Dessert   \n",
              "1     Carina's Tofu-Vegetable Kebabs   \n",
              "\n",
              "                                            Keywords  \\\n",
              "0  c(\"Dessert\", \"Low Protein\", \"Low Cholesterol\",...   \n",
              "1  c(\"Beans\", \"Vegetable\", \"Low Cholesterol\", \"We...   \n",
              "\n",
              "                                         Description  \\\n",
              "0  Make and share this Low-Fat Berry Blue Frozen ...   \n",
              "1  This dish is best prepared a day in advance to...   \n",
              "\n",
              "                               RecipeIngredientParts  \\\n",
              "0  c(\"blueberries\", \"granulated sugar\", \"vanilla ...   \n",
              "1  c(\"extra firm tofu\", \"eggplant\", \"zucchini\", \"...   \n",
              "\n",
              "                                  RecipeInstructions  \\\n",
              "0  c(\"Toss 2 cups berries with sugar.\", \"Let stan...   \n",
              "1  c(\"Drain the tofu, carefully squeezing out exc...   \n",
              "\n",
              "                                              Images   RecipeCategory  \n",
              "0  c(\"https://img.sndimg.com/food/image/upload/w_...  Frozen Desserts  \n",
              "1  c(\"https://img.sndimg.com/food/image/upload/w_...         Soy/Tofu  "
            ]
          },
          "execution_count": 474,
          "metadata": {},
          "output_type": "execute_result"
        }
      ],
      "source": [
        "# Define column for pre-processing\n",
        "columns=['Name', 'Keywords', 'Description', 'RecipeIngredientParts','RecipeInstructions', 'Images', 'RecipeCategory']\n",
        "df_preprocessing=df_preprocessing[columns]\n",
        "df_preprocessing.head(2)"
      ]
    },
    {
      "cell_type": "markdown",
      "metadata": {
        "id": "E6h5AkeZ36z0"
      },
      "source": [
        "### Data Cleaning\n"
      ]
    },
    {
      "cell_type": "code",
      "execution_count": 475,
      "metadata": {
        "id": "oCtcmV-pcVPo"
      },
      "outputs": [],
      "source": [
        "df_cleaning=df_preprocessing.copy()"
      ]
    },
    {
      "cell_type": "markdown",
      "metadata": {
        "id": "Q5t_HUGA5OyW"
      },
      "source": [
        "#### Before"
      ]
    },
    {
      "cell_type": "code",
      "execution_count": 476,
      "metadata": {
        "id": "aitI9uLL2A4T"
      },
      "outputs": [
        {
          "data": {
            "text/plain": [
              "'c(\"Dessert\", \"Low Protein\", \"Low Cholesterol\", \"Healthy\", \"Free Of...\", \"Summer\", \"Weeknight\", \"Freezer\", \"Easy\")'"
            ]
          },
          "execution_count": 476,
          "metadata": {},
          "output_type": "execute_result"
        }
      ],
      "source": [
        "df_preprocessing['Keywords'][0]"
      ]
    },
    {
      "cell_type": "code",
      "execution_count": 477,
      "metadata": {
        "id": "-DA0-E0_3xgJ"
      },
      "outputs": [
        {
          "data": {
            "text/plain": [
              "'c(\"blueberries\", \"granulated sugar\", \"vanilla yogurt\", \"lemon juice\")'"
            ]
          },
          "execution_count": 477,
          "metadata": {},
          "output_type": "execute_result"
        }
      ],
      "source": [
        "df_preprocessing['RecipeIngredientParts'][0]"
      ]
    },
    {
      "cell_type": "code",
      "execution_count": 478,
      "metadata": {
        "id": "LlmG3Apx3z9q"
      },
      "outputs": [
        {
          "data": {
            "text/plain": [
              "'c(\"Toss 2 cups berries with sugar.\", \"Let stand for 45 minutes, stirring occasionally.\", \"Transfer berry-sugar mixture to food processor.\", \"Add yogurt and process until smooth.\", \"Strain through fine sieve. Pour into baking pan (or transfer to ice cream maker and process according to manufacturers\\' directions). Freeze uncovered until edges are solid but centre is soft.  Transfer to processor and blend until smooth again.\", \"Return to pan and freeze until edges are solid.\", \"Transfer to processor and blend until smooth again.\", \\n\"Fold in remaining 2 cups of blueberries.\", \"Pour into plastic mold and freeze overnight. Let soften slightly to serve.\")'"
            ]
          },
          "execution_count": 478,
          "metadata": {},
          "output_type": "execute_result"
        }
      ],
      "source": [
        "df_preprocessing['RecipeInstructions'][0]"
      ]
    },
    {
      "cell_type": "code",
      "execution_count": 479,
      "metadata": {
        "id": "SRvKhLq_2IJL"
      },
      "outputs": [
        {
          "data": {
            "text/plain": [
              "'c(\"https://img.sndimg.com/food/image/upload/w_555,h_416,c_fit,fl_progressive,q_95/v1/img/recipes/38/YUeirxMLQaeE1h3v3qnM_229%20berry%20blue%20frzn%20dess.jpg\", \"https://img.sndimg.com/food/image/upload/w_555,h_416,c_fit,fl_progressive,q_95/v1/img/recipes/38/AFPDDHATWzQ0b1CDpDAT_255%20berry%20blue%20frzn%20dess.jpg\", \"https://img.sndimg.com/food/image/upload/w_555,h_416,c_fit,fl_progressive,q_95/v1/img/recipes/38/UYgf9nwMT2SGGJCuzILO_228%20berry%20blue%20frzn%20dess.jpg\", \"https://img.sndimg.com/food/image/upload/w_555,h_416,c_fit,fl_progressive,q_95/v1/img/recipes/38/PeBMJN2TGSaYks2759BA_20140722_202142.jpg\", \\n\"https://img.sndimg.com/food/image/upload/w_555,h_416,c_fit,fl_progressive,q_95/v1/img/recipes/38/picuaETeN.jpg\", \"https://img.sndimg.com/food/image/upload/w_555,h_416,c_fit,fl_progressive,q_95/v1/img/recipes/38/pictzvxW5.jpg\")'"
            ]
          },
          "execution_count": 479,
          "metadata": {},
          "output_type": "execute_result"
        }
      ],
      "source": [
        "df_preprocessing['Images'][0]"
      ]
    },
    {
      "cell_type": "markdown",
      "metadata": {
        "id": "s-XvnYTk6z1I"
      },
      "source": [
        "#### Implementation"
      ]
    },
    {
      "cell_type": "code",
      "execution_count": 480,
      "metadata": {
        "id": "R45Luer35ld7"
      },
      "outputs": [],
      "source": [
        "# Removing unwanted characters\n",
        "df_cleaning['KeywordsClean'] = df_cleaning['Keywords'].str.replace(r\"[c\\(\\)\\\"]\", \"\", regex=True)\n",
        "df_cleaning['RecipeIngredientPartsClean'] = df_cleaning['RecipeIngredientParts'].str.replace(r\"[c\\(\\)\\\"]\", \"\", regex=True)\n",
        "df_cleaning['RecipeInstructionsClean'] = df_cleaning['RecipeInstructions'].str.replace(r\"[c\\(\\)\\\"]\", \"\", regex=True).str.replace('\\n', '', regex=False)\n",
        "df_cleaning['ImagesClean'] = df_cleaning['Images'].str.replace(r'c\\(\"', '', regex=True).str.replace(r'\\)', '', regex=True).str.replace(r'\\n', '', regex=True).str.replace(r'\"', '', regex=True).str.split(', ')"
      ]
    },
    {
      "cell_type": "markdown",
      "metadata": {
        "id": "tkYiZHmD5TUN"
      },
      "source": [
        "#### After"
      ]
    },
    {
      "cell_type": "code",
      "execution_count": 481,
      "metadata": {
        "id": "e6WTNxF32yWI"
      },
      "outputs": [
        {
          "data": {
            "text/plain": [
              "'Dessert, Low Protein, Low Cholesterol, Healthy, Free Of..., Summer, Weeknight, Freezer, Easy'"
            ]
          },
          "execution_count": 481,
          "metadata": {},
          "output_type": "execute_result"
        }
      ],
      "source": [
        "df_cleaning['KeywordsClean'][0]"
      ]
    },
    {
      "cell_type": "code",
      "execution_count": 482,
      "metadata": {
        "id": "YhzGZc7O32R4"
      },
      "outputs": [
        {
          "data": {
            "text/plain": [
              "'blueberries, granulated sugar, vanilla yogurt, lemon juie'"
            ]
          },
          "execution_count": 482,
          "metadata": {},
          "output_type": "execute_result"
        }
      ],
      "source": [
        "df_cleaning['RecipeIngredientPartsClean'][0]"
      ]
    },
    {
      "cell_type": "code",
      "execution_count": 483,
      "metadata": {
        "id": "1ocr32y-34HH"
      },
      "outputs": [
        {
          "data": {
            "text/plain": [
              "\"Toss 2 ups berries with sugar., Let stand for 45 minutes, stirring oasionally., Transfer berry-sugar mixture to food proessor., Add yogurt and proess until smooth., Strain through fine sieve. Pour into baking pan or transfer to ie ream maker and proess aording to manufaturers' diretions. Freeze unovered until edges are solid but entre is soft.  Transfer to proessor and blend until smooth again., Return to pan and freeze until edges are solid., Transfer to proessor and blend until smooth again., Fold in remaining 2 ups of blueberries., Pour into plasti mold and freeze overnight. Let soften slightly to serve.\""
            ]
          },
          "execution_count": 483,
          "metadata": {},
          "output_type": "execute_result"
        }
      ],
      "source": [
        "df_cleaning['RecipeInstructionsClean'][0]"
      ]
    },
    {
      "cell_type": "code",
      "execution_count": 484,
      "metadata": {
        "id": "RPkdv7bW273d"
      },
      "outputs": [
        {
          "data": {
            "text/plain": [
              "['https://img.sndimg.com/food/image/upload/w_555,h_416,c_fit,fl_progressive,q_95/v1/img/recipes/38/YUeirxMLQaeE1h3v3qnM_229%20berry%20blue%20frzn%20dess.jpg',\n",
              " 'https://img.sndimg.com/food/image/upload/w_555,h_416,c_fit,fl_progressive,q_95/v1/img/recipes/38/AFPDDHATWzQ0b1CDpDAT_255%20berry%20blue%20frzn%20dess.jpg',\n",
              " 'https://img.sndimg.com/food/image/upload/w_555,h_416,c_fit,fl_progressive,q_95/v1/img/recipes/38/UYgf9nwMT2SGGJCuzILO_228%20berry%20blue%20frzn%20dess.jpg',\n",
              " 'https://img.sndimg.com/food/image/upload/w_555,h_416,c_fit,fl_progressive,q_95/v1/img/recipes/38/PeBMJN2TGSaYks2759BA_20140722_202142.jpg',\n",
              " 'https://img.sndimg.com/food/image/upload/w_555,h_416,c_fit,fl_progressive,q_95/v1/img/recipes/38/picuaETeN.jpg',\n",
              " 'https://img.sndimg.com/food/image/upload/w_555,h_416,c_fit,fl_progressive,q_95/v1/img/recipes/38/pictzvxW5.jpg']"
            ]
          },
          "execution_count": 484,
          "metadata": {},
          "output_type": "execute_result"
        }
      ],
      "source": [
        "df_cleaning['ImagesClean'][0]"
      ]
    },
    {
      "cell_type": "markdown",
      "metadata": {
        "id": "aFnUkkvr4GCd"
      },
      "source": [
        "### Text Preprocessing (Remove Space, Case Folding) in RecipeIngredientParts & RecipeInstructions"
      ]
    },
    {
      "cell_type": "code",
      "execution_count": 485,
      "metadata": {
        "id": "PqlH5O1fUUCJ"
      },
      "outputs": [],
      "source": [
        "df_casefolding=df_cleaning.copy()"
      ]
    },
    {
      "cell_type": "markdown",
      "metadata": {
        "id": "OJUUnZ1f5xwU"
      },
      "source": [
        "#### Before"
      ]
    },
    {
      "cell_type": "code",
      "execution_count": 486,
      "metadata": {
        "id": "YvgIj5Dl5_iW"
      },
      "outputs": [
        {
          "data": {
            "text/plain": [
              "'Low-Fat Berry Blue Frozen Dessert'"
            ]
          },
          "execution_count": 486,
          "metadata": {},
          "output_type": "execute_result"
        }
      ],
      "source": [
        "df_cleaning['Name'][0]"
      ]
    },
    {
      "cell_type": "code",
      "execution_count": 487,
      "metadata": {
        "id": "ULge7U8sZe-S"
      },
      "outputs": [
        {
          "data": {
            "text/plain": [
              "'Dessert, Low Protein, Low Cholesterol, Healthy, Free Of..., Summer, Weeknight, Freezer, Easy'"
            ]
          },
          "execution_count": 487,
          "metadata": {},
          "output_type": "execute_result"
        }
      ],
      "source": [
        "df_cleaning['KeywordsClean'][0]"
      ]
    },
    {
      "cell_type": "code",
      "execution_count": 488,
      "metadata": {
        "id": "PYOTy9wb8b3K"
      },
      "outputs": [
        {
          "data": {
            "text/plain": [
              "'Make and share this Low-Fat Berry Blue Frozen Dessert recipe from Food.com.'"
            ]
          },
          "execution_count": 488,
          "metadata": {},
          "output_type": "execute_result"
        }
      ],
      "source": [
        "df_cleaning['Description'][0]"
      ]
    },
    {
      "cell_type": "code",
      "execution_count": 489,
      "metadata": {
        "id": "EfJ0Aeyd-tXR"
      },
      "outputs": [
        {
          "data": {
            "text/plain": [
              "'Soy/Tofu'"
            ]
          },
          "execution_count": 489,
          "metadata": {},
          "output_type": "execute_result"
        }
      ],
      "source": [
        "df_cleaning['RecipeCategory'][1]"
      ]
    },
    {
      "cell_type": "code",
      "execution_count": 490,
      "metadata": {
        "id": "ppIoISY13mF6"
      },
      "outputs": [
        {
          "data": {
            "text/plain": [
              "'blueberries, granulated sugar, vanilla yogurt, lemon juie'"
            ]
          },
          "execution_count": 490,
          "metadata": {},
          "output_type": "execute_result"
        }
      ],
      "source": [
        "df_cleaning['RecipeIngredientPartsClean'][0]"
      ]
    },
    {
      "cell_type": "code",
      "execution_count": 491,
      "metadata": {
        "id": "zyRDOgMXUe9q"
      },
      "outputs": [
        {
          "data": {
            "text/plain": [
              "\"Toss 2 ups berries with sugar., Let stand for 45 minutes, stirring oasionally., Transfer berry-sugar mixture to food proessor., Add yogurt and proess until smooth., Strain through fine sieve. Pour into baking pan or transfer to ie ream maker and proess aording to manufaturers' diretions. Freeze unovered until edges are solid but entre is soft.  Transfer to proessor and blend until smooth again., Return to pan and freeze until edges are solid., Transfer to proessor and blend until smooth again., Fold in remaining 2 ups of blueberries., Pour into plasti mold and freeze overnight. Let soften slightly to serve.\""
            ]
          },
          "execution_count": 491,
          "metadata": {},
          "output_type": "execute_result"
        }
      ],
      "source": [
        "df_cleaning['RecipeInstructionsClean'][0]"
      ]
    },
    {
      "cell_type": "markdown",
      "metadata": {
        "id": "BA8lhEXI6tZp"
      },
      "source": [
        "#### Implementation"
      ]
    },
    {
      "cell_type": "code",
      "execution_count": 492,
      "metadata": {
        "id": "4mvyKSbO3H7g"
      },
      "outputs": [],
      "source": [
        "def remove_space_case_folding(text):\n",
        "    text = re.sub(r'[^a-zA-Z0-9\\s,]', '', text)\n",
        "    text = text.lower() # Case folding\n",
        "    return text"
      ]
    },
    {
      "cell_type": "code",
      "execution_count": 493,
      "metadata": {
        "id": "Y4NsMkXW3KQe"
      },
      "outputs": [],
      "source": [
        "df_casefolding['NameClean'] = df_casefolding['Name'].apply(remove_space_case_folding)\n",
        "df_casefolding['KeywordsClean'] = df_casefolding['KeywordsClean'].apply(remove_space_case_folding)\n",
        "df_casefolding['DescriptionClean'] = df_casefolding['Description'].apply(remove_space_case_folding)\n",
        "df_casefolding['RecipeIngredientPartsClean'] = df_casefolding['RecipeIngredientPartsClean'].str.lower()\n",
        "df_casefolding['RecipeInstructionsClean'] = df_casefolding['RecipeInstructionsClean'].apply(remove_space_case_folding)\n",
        "df_casefolding['RecipeCategoryClean'] = df_casefolding['RecipeCategory'].apply(lambda x: x.replace(\"/\", \", \")).apply(remove_space_case_folding)"
      ]
    },
    {
      "cell_type": "markdown",
      "metadata": {
        "id": "NejUY4kV6e4D"
      },
      "source": [
        "#### After"
      ]
    },
    {
      "cell_type": "code",
      "execution_count": 494,
      "metadata": {
        "id": "20lvR3_vZnk0"
      },
      "outputs": [
        {
          "data": {
            "text/plain": [
              "'lowfat berry blue frozen dessert'"
            ]
          },
          "execution_count": 494,
          "metadata": {},
          "output_type": "execute_result"
        }
      ],
      "source": [
        "df_casefolding['NameClean'][0]"
      ]
    },
    {
      "cell_type": "code",
      "execution_count": 495,
      "metadata": {
        "id": "jGygSG5K6g0f"
      },
      "outputs": [
        {
          "data": {
            "text/plain": [
              "'dessert, low protein, low cholesterol, healthy, free of, summer, weeknight, freezer, easy'"
            ]
          },
          "execution_count": 495,
          "metadata": {},
          "output_type": "execute_result"
        }
      ],
      "source": [
        "df_casefolding['KeywordsClean'][0]"
      ]
    },
    {
      "cell_type": "code",
      "execution_count": 496,
      "metadata": {
        "id": "92Xg0Mrc8lP9"
      },
      "outputs": [
        {
          "data": {
            "text/plain": [
              "'make and share this lowfat berry blue frozen dessert recipe from foodcom'"
            ]
          },
          "execution_count": 496,
          "metadata": {},
          "output_type": "execute_result"
        }
      ],
      "source": [
        "df_casefolding['DescriptionClean'][0]"
      ]
    },
    {
      "cell_type": "code",
      "execution_count": 497,
      "metadata": {
        "id": "dE-G-Y7P3cko"
      },
      "outputs": [
        {
          "data": {
            "text/plain": [
              "'blueberries, granulated sugar, vanilla yogurt, lemon juie'"
            ]
          },
          "execution_count": 497,
          "metadata": {},
          "output_type": "execute_result"
        }
      ],
      "source": [
        "df_casefolding['RecipeIngredientPartsClean'][0]"
      ]
    },
    {
      "cell_type": "code",
      "execution_count": 498,
      "metadata": {
        "id": "wm4rWxFsVwdy"
      },
      "outputs": [
        {
          "data": {
            "text/plain": [
              "'toss 2 ups berries with sugar, let stand for 45 minutes, stirring oasionally, transfer berrysugar mixture to food proessor, add yogurt and proess until smooth, strain through fine sieve pour into baking pan or transfer to ie ream maker and proess aording to manufaturers diretions freeze unovered until edges are solid but entre is soft  transfer to proessor and blend until smooth again, return to pan and freeze until edges are solid, transfer to proessor and blend until smooth again, fold in remaining 2 ups of blueberries, pour into plasti mold and freeze overnight let soften slightly to serve'"
            ]
          },
          "execution_count": 498,
          "metadata": {},
          "output_type": "execute_result"
        }
      ],
      "source": [
        "df_casefolding['RecipeInstructionsClean'][0]"
      ]
    },
    {
      "cell_type": "code",
      "execution_count": 499,
      "metadata": {
        "id": "I1sAWBvb--Cd"
      },
      "outputs": [
        {
          "data": {
            "text/plain": [
              "'soy, tofu'"
            ]
          },
          "execution_count": 499,
          "metadata": {},
          "output_type": "execute_result"
        }
      ],
      "source": [
        "df_casefolding['RecipeCategoryClean'][1]"
      ]
    },
    {
      "cell_type": "markdown",
      "metadata": {
        "id": "LVffFa4sylLE"
      },
      "source": [
        "### Lemmatization"
      ]
    },
    {
      "cell_type": "code",
      "execution_count": 500,
      "metadata": {
        "id": "TK6I175DzPO9"
      },
      "outputs": [],
      "source": [
        "df_lemmatization=df_casefolding.copy()"
      ]
    },
    {
      "cell_type": "markdown",
      "metadata": {
        "id": "RleMB2A665ox"
      },
      "source": [
        "#### Before"
      ]
    },
    {
      "cell_type": "code",
      "execution_count": 501,
      "metadata": {
        "id": "8EOtJyYV9PF-"
      },
      "outputs": [
        {
          "data": {
            "text/plain": [
              "'lowfat berry blue frozen dessert'"
            ]
          },
          "execution_count": 501,
          "metadata": {},
          "output_type": "execute_result"
        }
      ],
      "source": [
        "df_casefolding['NameClean'][0]"
      ]
    },
    {
      "cell_type": "code",
      "execution_count": 502,
      "metadata": {
        "id": "LpG1ln3H6728"
      },
      "outputs": [
        {
          "data": {
            "text/plain": [
              "'dessert, low protein, low cholesterol, healthy, free of, summer, weeknight, freezer, easy'"
            ]
          },
          "execution_count": 502,
          "metadata": {},
          "output_type": "execute_result"
        }
      ],
      "source": [
        "df_casefolding['KeywordsClean'][0]"
      ]
    },
    {
      "cell_type": "code",
      "execution_count": 503,
      "metadata": {
        "id": "0fa2TEM38p8x"
      },
      "outputs": [
        {
          "data": {
            "text/plain": [
              "'make and share this lowfat berry blue frozen dessert recipe from foodcom'"
            ]
          },
          "execution_count": 503,
          "metadata": {},
          "output_type": "execute_result"
        }
      ],
      "source": [
        "df_casefolding['DescriptionClean'][0]"
      ]
    },
    {
      "cell_type": "code",
      "execution_count": 504,
      "metadata": {
        "id": "pT63nv7IzRL9"
      },
      "outputs": [
        {
          "data": {
            "text/plain": [
              "'blueberries, granulated sugar, vanilla yogurt, lemon juie'"
            ]
          },
          "execution_count": 504,
          "metadata": {},
          "output_type": "execute_result"
        }
      ],
      "source": [
        "df_casefolding['RecipeIngredientPartsClean'][0]"
      ]
    },
    {
      "cell_type": "code",
      "execution_count": 505,
      "metadata": {
        "id": "nUXnRrURza90"
      },
      "outputs": [
        {
          "data": {
            "text/plain": [
              "'toss 2 ups berries with sugar, let stand for 45 minutes, stirring oasionally, transfer berrysugar mixture to food proessor, add yogurt and proess until smooth, strain through fine sieve pour into baking pan or transfer to ie ream maker and proess aording to manufaturers diretions freeze unovered until edges are solid but entre is soft  transfer to proessor and blend until smooth again, return to pan and freeze until edges are solid, transfer to proessor and blend until smooth again, fold in remaining 2 ups of blueberries, pour into plasti mold and freeze overnight let soften slightly to serve'"
            ]
          },
          "execution_count": 505,
          "metadata": {},
          "output_type": "execute_result"
        }
      ],
      "source": [
        "df_casefolding['RecipeInstructionsClean'][0]"
      ]
    },
    {
      "cell_type": "code",
      "execution_count": 506,
      "metadata": {
        "id": "UJ6cZT5IA-Dq"
      },
      "outputs": [
        {
          "data": {
            "text/plain": [
              "'soy, tofu'"
            ]
          },
          "execution_count": 506,
          "metadata": {},
          "output_type": "execute_result"
        }
      ],
      "source": [
        "df_casefolding['RecipeCategoryClean'][1]"
      ]
    },
    {
      "cell_type": "markdown",
      "metadata": {
        "id": "N1nHV6LK7GVR"
      },
      "source": [
        "#### Implementation"
      ]
    },
    {
      "cell_type": "code",
      "execution_count": 507,
      "metadata": {
        "id": "DdO0TRoeyn8Y"
      },
      "outputs": [],
      "source": [
        "def lemmatizationIngredients(ingredients):\n",
        "  words = ingredients.split(',')\n",
        "  lemmatized_words = [lemmatizer.lemmatize(word) for word in words if word.lower() not in stop_words]\n",
        "  return ','.join(lemmatized_words)"
      ]
    },
    {
      "cell_type": "code",
      "execution_count": 508,
      "metadata": {
        "id": "GggGeA4b_Gyz"
      },
      "outputs": [],
      "source": [
        "def lemmatizationOther(ingredients):\n",
        "  words = ingredients.split()\n",
        "  lemmatized_words = [lemmatizer.lemmatize(word) for word in words if word.lower() not in stop_words]\n",
        "  return ' '.join(lemmatized_words)"
      ]
    },
    {
      "cell_type": "code",
      "execution_count": 509,
      "metadata": {
        "id": "_3Kwwj0JzTGG"
      },
      "outputs": [],
      "source": [
        "df_lemmatization['NameClean'] = df_lemmatization['NameClean'].apply(lemmatizationOther)\n",
        "df_lemmatization['KeywordsClean'] = df_lemmatization['KeywordsClean'].apply(lemmatizationOther)\n",
        "df_lemmatization['DescriptionClean'] = df_lemmatization['DescriptionClean'].apply(lemmatizationOther)\n",
        "df_lemmatization['RecipeIngredientPartsClean'] = df_lemmatization['RecipeIngredientPartsClean'].apply(lemmatizationIngredients)\n",
        "df_lemmatization['RecipeInstructionsClean'] = df_lemmatization['RecipeInstructionsClean'].apply(lemmatizationOther)\n",
        "df_lemmatization['RecipeCategoryClean'] = df_lemmatization['RecipeCategoryClean'].apply(lemmatizationOther)"
      ]
    },
    {
      "cell_type": "markdown",
      "metadata": {
        "id": "e6L1bO617LBN"
      },
      "source": [
        "#### After"
      ]
    },
    {
      "cell_type": "code",
      "execution_count": 510,
      "metadata": {
        "id": "skF1qruC9VAW"
      },
      "outputs": [
        {
          "data": {
            "text/plain": [
              "'lowfat berry blue frozen dessert'"
            ]
          },
          "execution_count": 510,
          "metadata": {},
          "output_type": "execute_result"
        }
      ],
      "source": [
        "df_lemmatization['NameClean'][0]"
      ]
    },
    {
      "cell_type": "code",
      "execution_count": 511,
      "metadata": {
        "id": "HRVrX23Q8A_C"
      },
      "outputs": [
        {
          "data": {
            "text/plain": [
              "'dessert, low protein, low cholesterol, healthy, free of, summer, weeknight, freezer, easy'"
            ]
          },
          "execution_count": 511,
          "metadata": {},
          "output_type": "execute_result"
        }
      ],
      "source": [
        "df_lemmatization['KeywordsClean'][0]"
      ]
    },
    {
      "cell_type": "code",
      "execution_count": 512,
      "metadata": {
        "id": "zMvXLll380Gh"
      },
      "outputs": [
        {
          "data": {
            "text/plain": [
              "'make share lowfat berry blue frozen dessert recipe foodcom'"
            ]
          },
          "execution_count": 512,
          "metadata": {},
          "output_type": "execute_result"
        }
      ],
      "source": [
        "df_lemmatization['DescriptionClean'][0]"
      ]
    },
    {
      "cell_type": "code",
      "execution_count": 513,
      "metadata": {
        "id": "q8MWn1RfzvGi"
      },
      "outputs": [
        {
          "data": {
            "text/plain": [
              "'blueberry, granulated sugar, vanilla yogurt, lemon juie'"
            ]
          },
          "execution_count": 513,
          "metadata": {},
          "output_type": "execute_result"
        }
      ],
      "source": [
        "df_lemmatization['RecipeIngredientPartsClean'][0]"
      ]
    },
    {
      "cell_type": "code",
      "execution_count": 514,
      "metadata": {
        "id": "obkx4q6pz6i1"
      },
      "outputs": [
        {
          "data": {
            "text/plain": [
              "'toss 2 ups berry sugar, let stand 45 minutes, stirring oasionally, transfer berrysugar mixture food proessor, add yogurt proess smooth, strain fine sieve pour baking pan transfer ie ream maker proess aording manufaturers diretions freeze unovered edge solid entre soft transfer proessor blend smooth again, return pan freeze edge solid, transfer proessor blend smooth again, fold remaining 2 ups blueberries, pour plasti mold freeze overnight let soften slightly serve'"
            ]
          },
          "execution_count": 514,
          "metadata": {},
          "output_type": "execute_result"
        }
      ],
      "source": [
        "df_lemmatization['RecipeInstructionsClean'][0]"
      ]
    },
    {
      "cell_type": "code",
      "execution_count": 515,
      "metadata": {
        "id": "RYN1TSwKBF1k"
      },
      "outputs": [
        {
          "data": {
            "text/plain": [
              "'soy, tofu'"
            ]
          },
          "execution_count": 515,
          "metadata": {},
          "output_type": "execute_result"
        }
      ],
      "source": [
        "df_lemmatization['RecipeCategoryClean'][1]"
      ]
    },
    {
      "cell_type": "markdown",
      "metadata": {
        "id": "L5H-7NHJy984"
      },
      "source": [
        "### Combined"
      ]
    },
    {
      "cell_type": "code",
      "execution_count": 524,
      "metadata": {
        "id": "hQJYUSHQ_NdM"
      },
      "outputs": [
        {
          "data": {
            "text/html": [
              "<div>\n",
              "<style scoped>\n",
              "    .dataframe tbody tr th:only-of-type {\n",
              "        vertical-align: middle;\n",
              "    }\n",
              "\n",
              "    .dataframe tbody tr th {\n",
              "        vertical-align: top;\n",
              "    }\n",
              "\n",
              "    .dataframe thead th {\n",
              "        text-align: right;\n",
              "    }\n",
              "</style>\n",
              "<table border=\"1\" class=\"dataframe\">\n",
              "  <thead>\n",
              "    <tr style=\"text-align: right;\">\n",
              "      <th></th>\n",
              "      <th>Name</th>\n",
              "      <th>Keywords</th>\n",
              "      <th>Description</th>\n",
              "      <th>RecipeIngredientParts</th>\n",
              "      <th>RecipeInstructions</th>\n",
              "      <th>Images</th>\n",
              "      <th>RecipeCategory</th>\n",
              "      <th>KeywordsClean</th>\n",
              "      <th>RecipeIngredientPartsClean</th>\n",
              "      <th>RecipeInstructionsClean</th>\n",
              "      <th>ImagesClean</th>\n",
              "      <th>NameClean</th>\n",
              "      <th>DescriptionClean</th>\n",
              "      <th>RecipeCategoryClean</th>\n",
              "      <th>Combined</th>\n",
              "    </tr>\n",
              "  </thead>\n",
              "  <tbody>\n",
              "    <tr>\n",
              "      <th>0</th>\n",
              "      <td>Low-Fat Berry Blue Frozen Dessert</td>\n",
              "      <td>c(\"Dessert\", \"Low Protein\", \"Low Cholesterol\",...</td>\n",
              "      <td>Make and share this Low-Fat Berry Blue Frozen ...</td>\n",
              "      <td>c(\"blueberries\", \"granulated sugar\", \"vanilla ...</td>\n",
              "      <td>c(\"Toss 2 cups berries with sugar.\", \"Let stan...</td>\n",
              "      <td>c(\"https://img.sndimg.com/food/image/upload/w_...</td>\n",
              "      <td>Frozen Desserts</td>\n",
              "      <td>dessert, low protein, low cholesterol, healthy...</td>\n",
              "      <td>blueberry, granulated sugar, vanilla yogurt, l...</td>\n",
              "      <td>toss 2 ups berry sugar, let stand 45 minutes, ...</td>\n",
              "      <td>[https://img.sndimg.com/food/image/upload/w_55...</td>\n",
              "      <td>lowfat berry blue frozen dessert</td>\n",
              "      <td>make share lowfat berry blue frozen dessert re...</td>\n",
              "      <td>frozen dessert</td>\n",
              "      <td>lowfat berry blue frozen dessertmake share low...</td>\n",
              "    </tr>\n",
              "    <tr>\n",
              "      <th>1</th>\n",
              "      <td>Carina's Tofu-Vegetable Kebabs</td>\n",
              "      <td>c(\"Beans\", \"Vegetable\", \"Low Cholesterol\", \"We...</td>\n",
              "      <td>This dish is best prepared a day in advance to...</td>\n",
              "      <td>c(\"extra firm tofu\", \"eggplant\", \"zucchini\", \"...</td>\n",
              "      <td>c(\"Drain the tofu, carefully squeezing out exc...</td>\n",
              "      <td>c(\"https://img.sndimg.com/food/image/upload/w_...</td>\n",
              "      <td>Soy/Tofu</td>\n",
              "      <td>beans, vegetable, low cholesterol, weeknight, ...</td>\n",
              "      <td>extra firm tofu, eggplant, zuhini, mushrooms, ...</td>\n",
              "      <td>drain tofu, arefully squeezing ex water, pat d...</td>\n",
              "      <td>[https://img.sndimg.com/food/image/upload/w_55...</td>\n",
              "      <td>carina tofuvegetable kebab</td>\n",
              "      <td>dish best prepared day advance allow ingredien...</td>\n",
              "      <td>soy, tofu</td>\n",
              "      <td>carina tofuvegetable kebabdish best prepared d...</td>\n",
              "    </tr>\n",
              "  </tbody>\n",
              "</table>\n",
              "</div>"
            ],
            "text/plain": [
              "                                Name  \\\n",
              "0  Low-Fat Berry Blue Frozen Dessert   \n",
              "1     Carina's Tofu-Vegetable Kebabs   \n",
              "\n",
              "                                            Keywords  \\\n",
              "0  c(\"Dessert\", \"Low Protein\", \"Low Cholesterol\",...   \n",
              "1  c(\"Beans\", \"Vegetable\", \"Low Cholesterol\", \"We...   \n",
              "\n",
              "                                         Description  \\\n",
              "0  Make and share this Low-Fat Berry Blue Frozen ...   \n",
              "1  This dish is best prepared a day in advance to...   \n",
              "\n",
              "                               RecipeIngredientParts  \\\n",
              "0  c(\"blueberries\", \"granulated sugar\", \"vanilla ...   \n",
              "1  c(\"extra firm tofu\", \"eggplant\", \"zucchini\", \"...   \n",
              "\n",
              "                                  RecipeInstructions  \\\n",
              "0  c(\"Toss 2 cups berries with sugar.\", \"Let stan...   \n",
              "1  c(\"Drain the tofu, carefully squeezing out exc...   \n",
              "\n",
              "                                              Images   RecipeCategory  \\\n",
              "0  c(\"https://img.sndimg.com/food/image/upload/w_...  Frozen Desserts   \n",
              "1  c(\"https://img.sndimg.com/food/image/upload/w_...         Soy/Tofu   \n",
              "\n",
              "                                       KeywordsClean  \\\n",
              "0  dessert, low protein, low cholesterol, healthy...   \n",
              "1  beans, vegetable, low cholesterol, weeknight, ...   \n",
              "\n",
              "                          RecipeIngredientPartsClean  \\\n",
              "0  blueberry, granulated sugar, vanilla yogurt, l...   \n",
              "1  extra firm tofu, eggplant, zuhini, mushrooms, ...   \n",
              "\n",
              "                             RecipeInstructionsClean  \\\n",
              "0  toss 2 ups berry sugar, let stand 45 minutes, ...   \n",
              "1  drain tofu, arefully squeezing ex water, pat d...   \n",
              "\n",
              "                                         ImagesClean  \\\n",
              "0  [https://img.sndimg.com/food/image/upload/w_55...   \n",
              "1  [https://img.sndimg.com/food/image/upload/w_55...   \n",
              "\n",
              "                          NameClean  \\\n",
              "0  lowfat berry blue frozen dessert   \n",
              "1        carina tofuvegetable kebab   \n",
              "\n",
              "                                    DescriptionClean RecipeCategoryClean  \\\n",
              "0  make share lowfat berry blue frozen dessert re...      frozen dessert   \n",
              "1  dish best prepared day advance allow ingredien...           soy, tofu   \n",
              "\n",
              "                                            Combined  \n",
              "0  lowfat berry blue frozen dessertmake share low...  \n",
              "1  carina tofuvegetable kebabdish best prepared d...  "
            ]
          },
          "execution_count": 524,
          "metadata": {},
          "output_type": "execute_result"
        }
      ],
      "source": [
        "df_lemmatization['Combined'] = df_lemmatization['NameClean'] + df_lemmatization['DescriptionClean'] + df_lemmatization['KeywordsClean'] + df_lemmatization['RecipeCategoryClean'] + df_lemmatization['RecipeIngredientPartsClean']\n",
        "df_lemmatization['Combined'] = df_lemmatization['Combined'].str.replace(',', '')\n",
        "df_lemmatization.head(2)"
      ]
    },
    {
      "cell_type": "code",
      "execution_count": 525,
      "metadata": {
        "id": "I2KQ6YkEzHaV"
      },
      "outputs": [],
      "source": [
        "df_combined = df.drop(columns=['Name', 'RecipeIngredientParts','RecipeInstructions', 'Images', 'Keywords', 'Description', 'RecipeCategory']).join(df_lemmatization)\n",
        "df_combined = df_combined.drop(columns=['Name','RecipeIngredientParts', 'RecipeInstructions','Images', 'Keywords', 'Description', 'RecipeCategory'])"
      ]
    },
    {
      "cell_type": "code",
      "execution_count": 526,
      "metadata": {
        "id": "mvy3pOGo-El8"
      },
      "outputs": [
        {
          "data": {
            "text/html": [
              "<div>\n",
              "<style scoped>\n",
              "    .dataframe tbody tr th:only-of-type {\n",
              "        vertical-align: middle;\n",
              "    }\n",
              "\n",
              "    .dataframe tbody tr th {\n",
              "        vertical-align: top;\n",
              "    }\n",
              "\n",
              "    .dataframe thead th {\n",
              "        text-align: right;\n",
              "    }\n",
              "</style>\n",
              "<table border=\"1\" class=\"dataframe\">\n",
              "  <thead>\n",
              "    <tr style=\"text-align: right;\">\n",
              "      <th></th>\n",
              "      <th>RecipeId</th>\n",
              "      <th>Calories</th>\n",
              "      <th>FatContent</th>\n",
              "      <th>SaturatedFatContent</th>\n",
              "      <th>CholesterolContent</th>\n",
              "      <th>SodiumContent</th>\n",
              "      <th>CarbohydrateContent</th>\n",
              "      <th>FiberContent</th>\n",
              "      <th>SugarContent</th>\n",
              "      <th>ProteinContent</th>\n",
              "      <th>KeywordsClean</th>\n",
              "      <th>RecipeIngredientPartsClean</th>\n",
              "      <th>RecipeInstructionsClean</th>\n",
              "      <th>ImagesClean</th>\n",
              "      <th>NameClean</th>\n",
              "      <th>DescriptionClean</th>\n",
              "      <th>RecipeCategoryClean</th>\n",
              "      <th>Combined</th>\n",
              "    </tr>\n",
              "  </thead>\n",
              "  <tbody>\n",
              "    <tr>\n",
              "      <th>0</th>\n",
              "      <td>38</td>\n",
              "      <td>170.9</td>\n",
              "      <td>2.5</td>\n",
              "      <td>1.3</td>\n",
              "      <td>8.0</td>\n",
              "      <td>29.8</td>\n",
              "      <td>37.1</td>\n",
              "      <td>3.6</td>\n",
              "      <td>30.2</td>\n",
              "      <td>3.2</td>\n",
              "      <td>dessert, low protein, low cholesterol, healthy...</td>\n",
              "      <td>blueberry, granulated sugar, vanilla yogurt, l...</td>\n",
              "      <td>toss 2 ups berry sugar, let stand 45 minutes, ...</td>\n",
              "      <td>[https://img.sndimg.com/food/image/upload/w_55...</td>\n",
              "      <td>lowfat berry blue frozen dessert</td>\n",
              "      <td>make share lowfat berry blue frozen dessert re...</td>\n",
              "      <td>frozen dessert</td>\n",
              "      <td>lowfat berry blue frozen dessertmake share low...</td>\n",
              "    </tr>\n",
              "    <tr>\n",
              "      <th>1</th>\n",
              "      <td>41</td>\n",
              "      <td>536.1</td>\n",
              "      <td>24.0</td>\n",
              "      <td>3.8</td>\n",
              "      <td>0.0</td>\n",
              "      <td>1558.6</td>\n",
              "      <td>64.2</td>\n",
              "      <td>17.3</td>\n",
              "      <td>32.1</td>\n",
              "      <td>29.3</td>\n",
              "      <td>beans, vegetable, low cholesterol, weeknight, ...</td>\n",
              "      <td>extra firm tofu, eggplant, zuhini, mushrooms, ...</td>\n",
              "      <td>drain tofu, arefully squeezing ex water, pat d...</td>\n",
              "      <td>[https://img.sndimg.com/food/image/upload/w_55...</td>\n",
              "      <td>carina tofuvegetable kebab</td>\n",
              "      <td>dish best prepared day advance allow ingredien...</td>\n",
              "      <td>soy, tofu</td>\n",
              "      <td>carina tofuvegetable kebabdish best prepared d...</td>\n",
              "    </tr>\n",
              "  </tbody>\n",
              "</table>\n",
              "</div>"
            ],
            "text/plain": [
              "   RecipeId  Calories  FatContent  SaturatedFatContent  CholesterolContent  \\\n",
              "0        38     170.9         2.5                  1.3                 8.0   \n",
              "1        41     536.1        24.0                  3.8                 0.0   \n",
              "\n",
              "   SodiumContent  CarbohydrateContent  FiberContent  SugarContent  \\\n",
              "0           29.8                 37.1           3.6          30.2   \n",
              "1         1558.6                 64.2          17.3          32.1   \n",
              "\n",
              "   ProteinContent                                      KeywordsClean  \\\n",
              "0             3.2  dessert, low protein, low cholesterol, healthy...   \n",
              "1            29.3  beans, vegetable, low cholesterol, weeknight, ...   \n",
              "\n",
              "                          RecipeIngredientPartsClean  \\\n",
              "0  blueberry, granulated sugar, vanilla yogurt, l...   \n",
              "1  extra firm tofu, eggplant, zuhini, mushrooms, ...   \n",
              "\n",
              "                             RecipeInstructionsClean  \\\n",
              "0  toss 2 ups berry sugar, let stand 45 minutes, ...   \n",
              "1  drain tofu, arefully squeezing ex water, pat d...   \n",
              "\n",
              "                                         ImagesClean  \\\n",
              "0  [https://img.sndimg.com/food/image/upload/w_55...   \n",
              "1  [https://img.sndimg.com/food/image/upload/w_55...   \n",
              "\n",
              "                          NameClean  \\\n",
              "0  lowfat berry blue frozen dessert   \n",
              "1        carina tofuvegetable kebab   \n",
              "\n",
              "                                    DescriptionClean RecipeCategoryClean  \\\n",
              "0  make share lowfat berry blue frozen dessert re...      frozen dessert   \n",
              "1  dish best prepared day advance allow ingredien...           soy, tofu   \n",
              "\n",
              "                                            Combined  \n",
              "0  lowfat berry blue frozen dessertmake share low...  \n",
              "1  carina tofuvegetable kebabdish best prepared d...  "
            ]
          },
          "execution_count": 526,
          "metadata": {},
          "output_type": "execute_result"
        }
      ],
      "source": [
        "df_combined.head(2)"
      ]
    },
    {
      "cell_type": "code",
      "execution_count": 527,
      "metadata": {
        "id": "U0wzr5Z119U3"
      },
      "outputs": [
        {
          "data": {
            "text/html": [
              "<div>\n",
              "<style scoped>\n",
              "    .dataframe tbody tr th:only-of-type {\n",
              "        vertical-align: middle;\n",
              "    }\n",
              "\n",
              "    .dataframe tbody tr th {\n",
              "        vertical-align: top;\n",
              "    }\n",
              "\n",
              "    .dataframe thead th {\n",
              "        text-align: right;\n",
              "    }\n",
              "</style>\n",
              "<table border=\"1\" class=\"dataframe\">\n",
              "  <thead>\n",
              "    <tr style=\"text-align: right;\">\n",
              "      <th></th>\n",
              "      <th>RecipeId</th>\n",
              "      <th>NameClean</th>\n",
              "      <th>DescriptionClean</th>\n",
              "      <th>KeywordsClean</th>\n",
              "      <th>RecipeCategoryClean</th>\n",
              "      <th>ImagesClean</th>\n",
              "      <th>RecipeIngredientPartsClean</th>\n",
              "      <th>RecipeInstructionsClean</th>\n",
              "      <th>Calories</th>\n",
              "      <th>FatContent</th>\n",
              "      <th>SaturatedFatContent</th>\n",
              "      <th>CholesterolContent</th>\n",
              "      <th>SodiumContent</th>\n",
              "      <th>CarbohydrateContent</th>\n",
              "      <th>FiberContent</th>\n",
              "      <th>SugarContent</th>\n",
              "      <th>ProteinContent</th>\n",
              "      <th>Combined</th>\n",
              "    </tr>\n",
              "  </thead>\n",
              "  <tbody>\n",
              "    <tr>\n",
              "      <th>0</th>\n",
              "      <td>38</td>\n",
              "      <td>lowfat berry blue frozen dessert</td>\n",
              "      <td>make share lowfat berry blue frozen dessert re...</td>\n",
              "      <td>dessert, low protein, low cholesterol, healthy...</td>\n",
              "      <td>frozen dessert</td>\n",
              "      <td>[https://img.sndimg.com/food/image/upload/w_55...</td>\n",
              "      <td>blueberry, granulated sugar, vanilla yogurt, l...</td>\n",
              "      <td>toss 2 ups berry sugar, let stand 45 minutes, ...</td>\n",
              "      <td>170.9</td>\n",
              "      <td>2.5</td>\n",
              "      <td>1.3</td>\n",
              "      <td>8.0</td>\n",
              "      <td>29.8</td>\n",
              "      <td>37.1</td>\n",
              "      <td>3.6</td>\n",
              "      <td>30.2</td>\n",
              "      <td>3.2</td>\n",
              "      <td>lowfat berry blue frozen dessertmake share low...</td>\n",
              "    </tr>\n",
              "  </tbody>\n",
              "</table>\n",
              "</div>"
            ],
            "text/plain": [
              "   RecipeId                         NameClean  \\\n",
              "0        38  lowfat berry blue frozen dessert   \n",
              "\n",
              "                                    DescriptionClean  \\\n",
              "0  make share lowfat berry blue frozen dessert re...   \n",
              "\n",
              "                                       KeywordsClean RecipeCategoryClean  \\\n",
              "0  dessert, low protein, low cholesterol, healthy...      frozen dessert   \n",
              "\n",
              "                                         ImagesClean  \\\n",
              "0  [https://img.sndimg.com/food/image/upload/w_55...   \n",
              "\n",
              "                          RecipeIngredientPartsClean  \\\n",
              "0  blueberry, granulated sugar, vanilla yogurt, l...   \n",
              "\n",
              "                             RecipeInstructionsClean  Calories  FatContent  \\\n",
              "0  toss 2 ups berry sugar, let stand 45 minutes, ...     170.9         2.5   \n",
              "\n",
              "   SaturatedFatContent  CholesterolContent  SodiumContent  \\\n",
              "0                  1.3                 8.0           29.8   \n",
              "\n",
              "   CarbohydrateContent  FiberContent  SugarContent  ProteinContent  \\\n",
              "0                 37.1           3.6          30.2             3.2   \n",
              "\n",
              "                                            Combined  \n",
              "0  lowfat berry blue frozen dessertmake share low...  "
            ]
          },
          "execution_count": 527,
          "metadata": {},
          "output_type": "execute_result"
        }
      ],
      "source": [
        "df_combined = df_combined[['RecipeId', 'NameClean', 'DescriptionClean', 'KeywordsClean', 'RecipeCategoryClean', 'ImagesClean', 'RecipeIngredientPartsClean', 'RecipeInstructionsClean', 'Calories', 'FatContent', 'SaturatedFatContent', 'CholesterolContent', 'SodiumContent', 'CarbohydrateContent', 'FiberContent', 'SugarContent', 'ProteinContent', 'Combined']]\n",
        "df_combined.head(1)"
      ]
    },
    {
      "cell_type": "markdown",
      "metadata": {},
      "source": [
        "Combined Column need to be cleaned"
      ]
    },
    {
      "cell_type": "code",
      "execution_count": null,
      "metadata": {},
      "outputs": [],
      "source": []
    },
    {
      "cell_type": "markdown",
      "metadata": {
        "id": "Zy4fHUm_LZNG"
      },
      "source": [
        "## **Export Cleaned Data**"
      ]
    },
    {
      "cell_type": "code",
      "execution_count": 528,
      "metadata": {
        "id": "AX1sNPQ2LkGV"
      },
      "outputs": [],
      "source": [
        "df_combined.to_csv('./dataset/preprocessed_recipes.csv', index=False)"
      ]
    },
    {
      "cell_type": "code",
      "execution_count": 529,
      "metadata": {},
      "outputs": [
        {
          "name": "stdout",
          "output_type": "stream",
          "text": [
            "<class 'pandas.core.frame.DataFrame'>\n",
            "Index: 297334 entries, 0 to 362409\n",
            "Data columns (total 18 columns):\n",
            " #   Column                      Non-Null Count   Dtype  \n",
            "---  ------                      --------------   -----  \n",
            " 0   RecipeId                    297334 non-null  int64  \n",
            " 1   NameClean                   297334 non-null  object \n",
            " 2   DescriptionClean            297334 non-null  object \n",
            " 3   KeywordsClean               297334 non-null  object \n",
            " 4   RecipeCategoryClean         297334 non-null  object \n",
            " 5   ImagesClean                 297334 non-null  object \n",
            " 6   RecipeIngredientPartsClean  297334 non-null  object \n",
            " 7   RecipeInstructionsClean     297334 non-null  object \n",
            " 8   Calories                    297334 non-null  float64\n",
            " 9   FatContent                  297334 non-null  float64\n",
            " 10  SaturatedFatContent         297334 non-null  float64\n",
            " 11  CholesterolContent          297334 non-null  float64\n",
            " 12  SodiumContent               297334 non-null  float64\n",
            " 13  CarbohydrateContent         297334 non-null  float64\n",
            " 14  FiberContent                297334 non-null  float64\n",
            " 15  SugarContent                297334 non-null  float64\n",
            " 16  ProteinContent              297334 non-null  float64\n",
            " 17  Combined                    297334 non-null  object \n",
            "dtypes: float64(9), int64(1), object(8)\n",
            "memory usage: 51.2+ MB\n"
          ]
        }
      ],
      "source": [
        "df_combined.info()"
      ]
    }
  ],
  "metadata": {
    "colab": {
      "collapsed_sections": [
        "fuqWunN3AqCQ",
        "JuPX9ArZBEdJ",
        "9UFoE7nhBn3r",
        "CamLhULpFPLt",
        "IxPmTdiCFTzX",
        "rnulLcgWFnDo",
        "c38OmMN-sVel",
        "E6h5AkeZ36z0",
        "aFnUkkvr4GCd",
        "LVffFa4sylLE",
        "L5H-7NHJy984",
        "Zy4fHUm_LZNG"
      ],
      "provenance": []
    },
    "kernelspec": {
      "display_name": "Python 3",
      "name": "python3"
    },
    "language_info": {
      "codemirror_mode": {
        "name": "ipython",
        "version": 3
      },
      "file_extension": ".py",
      "mimetype": "text/x-python",
      "name": "python",
      "nbconvert_exporter": "python",
      "pygments_lexer": "ipython3",
      "version": "3.11.8"
    }
  },
  "nbformat": 4,
  "nbformat_minor": 0
}
