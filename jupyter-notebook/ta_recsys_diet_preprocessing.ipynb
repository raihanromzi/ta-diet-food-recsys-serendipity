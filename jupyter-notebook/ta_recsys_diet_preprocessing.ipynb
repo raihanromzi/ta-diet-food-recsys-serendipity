{
  "cells": [
    {
      "cell_type": "markdown",
      "metadata": {
        "id": "fuqWunN3AqCQ"
      },
      "source": [
        "## **Load Kaggle API & Download Dataset**"
      ]
    },
    {
      "cell_type": "code",
      "execution_count": 1,
      "metadata": {
        "id": "pkY0sv6uAPRD",
        "colab": {
          "base_uri": "https://localhost:8080/"
        },
        "outputId": "ccab2aff-dbab-4c5d-e60c-62ae6c77284c"
      },
      "outputs": [
        {
          "output_type": "stream",
          "name": "stdout",
          "text": [
            "cp: cannot stat 'kaggle.json': No such file or directory\n",
            "rm: cannot remove 'kaggle.json': No such file or directory\n"
          ]
        }
      ],
      "source": [
        "# Initialize Kaggle API\n",
        "!mkdir -p ./dataset\n",
        "!cp kaggle.json ./dataset\n",
        "!chmod 600 ./dataset/kaggle.json\n",
        "!rm kaggle.json"
      ]
    },
    {
      "cell_type": "code",
      "execution_count": 2,
      "metadata": {
        "id": "M3ACslpPAocc",
        "colab": {
          "base_uri": "https://localhost:8080/"
        },
        "outputId": "1d7918ec-91c8-4d08-abe9-d98f024776b9"
      },
      "outputs": [
        {
          "output_type": "stream",
          "name": "stdout",
          "text": [
            "Dataset URL: https://www.kaggle.com/datasets/irkaal/foodcom-recipes-and-reviews\n",
            "License(s): CC0-1.0\n",
            "Downloading foodcom-recipes-and-reviews.zip to dataset\n",
            "100% 722M/723M [00:47<00:00, 20.2MB/s]\n",
            "100% 723M/723M [00:47<00:00, 15.9MB/s]\n"
          ]
        }
      ],
      "source": [
        "!kaggle datasets download -d irkaal/foodcom-recipes-and-reviews -p dataset"
      ]
    },
    {
      "cell_type": "code",
      "execution_count": 3,
      "metadata": {
        "id": "nitiDe2FApr3",
        "colab": {
          "base_uri": "https://localhost:8080/"
        },
        "outputId": "b7a9b6f2-655f-4572-ac4e-0cdf8b12e5d0"
      },
      "outputs": [
        {
          "output_type": "stream",
          "name": "stdout",
          "text": [
            "Archive:  ./dataset/foodcom-recipes-and-reviews.zip\n",
            "replace ./dataset/recipes.csv? [y]es, [n]o, [A]ll, [N]one, [r]ename: N\n"
          ]
        }
      ],
      "source": [
        "!unzip ./dataset/foodcom-recipes-and-reviews.zip -d ./dataset/\n",
        "!rm ./dataset/foodcom-recipes-and-reviews.zip"
      ]
    },
    {
      "cell_type": "markdown",
      "metadata": {
        "id": "JuPX9ArZBEdJ"
      },
      "source": [
        "## **Import Library**"
      ]
    },
    {
      "cell_type": "code",
      "source": [
        "pip install autocorrect"
      ],
      "metadata": {
        "colab": {
          "base_uri": "https://localhost:8080/"
        },
        "id": "bPwkmOsLZwgN",
        "outputId": "6610aaaa-d161-41fa-8f1c-b46dc7bae25d"
      },
      "execution_count": 4,
      "outputs": [
        {
          "output_type": "stream",
          "name": "stdout",
          "text": [
            "Requirement already satisfied: autocorrect in /usr/local/lib/python3.10/dist-packages (2.6.1)\n"
          ]
        }
      ]
    },
    {
      "cell_type": "code",
      "source": [
        "pip install textblob pyspellchecker"
      ],
      "metadata": {
        "colab": {
          "base_uri": "https://localhost:8080/"
        },
        "id": "gZcz7O_AOtfE",
        "outputId": "e5132441-d5a3-4a52-b7fe-f2fcf7881d58"
      },
      "execution_count": 5,
      "outputs": [
        {
          "output_type": "stream",
          "name": "stdout",
          "text": [
            "Requirement already satisfied: textblob in /usr/local/lib/python3.10/dist-packages (0.17.1)\n",
            "Requirement already satisfied: pyspellchecker in /usr/local/lib/python3.10/dist-packages (0.8.1)\n",
            "Requirement already satisfied: nltk>=3.1 in /usr/local/lib/python3.10/dist-packages (from textblob) (3.8.1)\n",
            "Requirement already satisfied: click in /usr/local/lib/python3.10/dist-packages (from nltk>=3.1->textblob) (8.1.7)\n",
            "Requirement already satisfied: joblib in /usr/local/lib/python3.10/dist-packages (from nltk>=3.1->textblob) (1.4.2)\n",
            "Requirement already satisfied: regex>=2021.8.3 in /usr/local/lib/python3.10/dist-packages (from nltk>=3.1->textblob) (2024.5.15)\n",
            "Requirement already satisfied: tqdm in /usr/local/lib/python3.10/dist-packages (from nltk>=3.1->textblob) (4.66.4)\n"
          ]
        }
      ]
    },
    {
      "cell_type": "code",
      "execution_count": 6,
      "metadata": {
        "id": "_2g18M7SBG62"
      },
      "outputs": [],
      "source": [
        "import pandas as pd\n",
        "import string\n",
        "import matplotlib.pyplot as plt\n",
        "import pylab\n",
        "import scipy.stats as stats\n",
        "import nltk\n",
        "import re\n",
        "from nltk.corpus import stopwords\n",
        "from nltk.stem import WordNetLemmatizer\n",
        "from sklearn.feature_extraction.text import TfidfVectorizer\n",
        "from nltk.tokenize import word_tokenize\n",
        "from autocorrect import Speller\n",
        "from textblob import TextBlob\n",
        "from spellchecker import SpellChecker"
      ]
    },
    {
      "cell_type": "code",
      "execution_count": 7,
      "metadata": {
        "id": "aTfK48vdvdXv",
        "colab": {
          "base_uri": "https://localhost:8080/"
        },
        "outputId": "edb4cd27-0458-456b-9940-9ad55d148978"
      },
      "outputs": [
        {
          "output_type": "stream",
          "name": "stderr",
          "text": [
            "[nltk_data] Downloading package stopwords to /root/nltk_data...\n",
            "[nltk_data]   Package stopwords is already up-to-date!\n",
            "[nltk_data] Downloading package wordnet to /root/nltk_data...\n",
            "[nltk_data]   Package wordnet is already up-to-date!\n",
            "[nltk_data] Downloading package punkt to /root/nltk_data...\n",
            "[nltk_data]   Package punkt is already up-to-date!\n"
          ]
        },
        {
          "output_type": "execute_result",
          "data": {
            "text/plain": [
              "True"
            ]
          },
          "metadata": {},
          "execution_count": 7
        }
      ],
      "source": [
        "nltk.download('stopwords')\n",
        "nltk.download('wordnet')\n",
        "nltk.download('punkt')"
      ]
    },
    {
      "cell_type": "code",
      "source": [
        "# Text Preprocessing\n",
        "stop_words = set(stopwords.words('english'))\n",
        "lemmatizer = WordNetLemmatizer()"
      ],
      "metadata": {
        "id": "lOs86Qg77cNn"
      },
      "execution_count": 8,
      "outputs": []
    },
    {
      "cell_type": "code",
      "execution_count": 9,
      "metadata": {
        "id": "HCKKTabWBIe_"
      },
      "outputs": [],
      "source": [
        "df=pd.read_csv('./dataset/recipes.csv')"
      ]
    },
    {
      "cell_type": "code",
      "execution_count": 10,
      "metadata": {
        "id": "TBXBpWL5BLMf",
        "colab": {
          "base_uri": "https://localhost:8080/",
          "height": 318
        },
        "outputId": "7bea47bf-7818-409c-eaed-3aab21f9bfc6"
      },
      "outputs": [
        {
          "output_type": "execute_result",
          "data": {
            "text/plain": [
              "   RecipeId                               Name  AuthorId AuthorName CookTime  \\\n",
              "0        38  Low-Fat Berry Blue Frozen Dessert      1533     Dancer    PT24H   \n",
              "1        39                            Biryani      1567   elly9812    PT25M   \n",
              "\n",
              "  PrepTime TotalTime         DatePublished  \\\n",
              "0    PT45M  PT24H45M  1999-08-09T21:46:00Z   \n",
              "1     PT4H   PT4H25M  1999-08-29T13:12:00Z   \n",
              "\n",
              "                                         Description  \\\n",
              "0  Make and share this Low-Fat Berry Blue Frozen ...   \n",
              "1  Make and share this Biryani recipe from Food.com.   \n",
              "\n",
              "                                              Images  ... SaturatedFatContent  \\\n",
              "0  c(\"https://img.sndimg.com/food/image/upload/w_...  ...                 1.3   \n",
              "1  c(\"https://img.sndimg.com/food/image/upload/w_...  ...                16.6   \n",
              "\n",
              "  CholesterolContent SodiumContent CarbohydrateContent  FiberContent  \\\n",
              "0                8.0          29.8                37.1           3.6   \n",
              "1              372.8         368.4                84.4           9.0   \n",
              "\n",
              "   SugarContent  ProteinContent  RecipeServings  RecipeYield  \\\n",
              "0          30.2             3.2             4.0          NaN   \n",
              "1          20.4            63.4             6.0          NaN   \n",
              "\n",
              "                                  RecipeInstructions  \n",
              "0  c(\"Toss 2 cups berries with sugar.\", \"Let stan...  \n",
              "1  c(\"Soak saffron in warm milk for 5 minutes and...  \n",
              "\n",
              "[2 rows x 28 columns]"
            ],
            "text/html": [
              "\n",
              "  <div id=\"df-f00feecb-96fa-43a8-98a0-d405e88172e0\" class=\"colab-df-container\">\n",
              "    <div>\n",
              "<style scoped>\n",
              "    .dataframe tbody tr th:only-of-type {\n",
              "        vertical-align: middle;\n",
              "    }\n",
              "\n",
              "    .dataframe tbody tr th {\n",
              "        vertical-align: top;\n",
              "    }\n",
              "\n",
              "    .dataframe thead th {\n",
              "        text-align: right;\n",
              "    }\n",
              "</style>\n",
              "<table border=\"1\" class=\"dataframe\">\n",
              "  <thead>\n",
              "    <tr style=\"text-align: right;\">\n",
              "      <th></th>\n",
              "      <th>RecipeId</th>\n",
              "      <th>Name</th>\n",
              "      <th>AuthorId</th>\n",
              "      <th>AuthorName</th>\n",
              "      <th>CookTime</th>\n",
              "      <th>PrepTime</th>\n",
              "      <th>TotalTime</th>\n",
              "      <th>DatePublished</th>\n",
              "      <th>Description</th>\n",
              "      <th>Images</th>\n",
              "      <th>...</th>\n",
              "      <th>SaturatedFatContent</th>\n",
              "      <th>CholesterolContent</th>\n",
              "      <th>SodiumContent</th>\n",
              "      <th>CarbohydrateContent</th>\n",
              "      <th>FiberContent</th>\n",
              "      <th>SugarContent</th>\n",
              "      <th>ProteinContent</th>\n",
              "      <th>RecipeServings</th>\n",
              "      <th>RecipeYield</th>\n",
              "      <th>RecipeInstructions</th>\n",
              "    </tr>\n",
              "  </thead>\n",
              "  <tbody>\n",
              "    <tr>\n",
              "      <th>0</th>\n",
              "      <td>38</td>\n",
              "      <td>Low-Fat Berry Blue Frozen Dessert</td>\n",
              "      <td>1533</td>\n",
              "      <td>Dancer</td>\n",
              "      <td>PT24H</td>\n",
              "      <td>PT45M</td>\n",
              "      <td>PT24H45M</td>\n",
              "      <td>1999-08-09T21:46:00Z</td>\n",
              "      <td>Make and share this Low-Fat Berry Blue Frozen ...</td>\n",
              "      <td>c(\"https://img.sndimg.com/food/image/upload/w_...</td>\n",
              "      <td>...</td>\n",
              "      <td>1.3</td>\n",
              "      <td>8.0</td>\n",
              "      <td>29.8</td>\n",
              "      <td>37.1</td>\n",
              "      <td>3.6</td>\n",
              "      <td>30.2</td>\n",
              "      <td>3.2</td>\n",
              "      <td>4.0</td>\n",
              "      <td>NaN</td>\n",
              "      <td>c(\"Toss 2 cups berries with sugar.\", \"Let stan...</td>\n",
              "    </tr>\n",
              "    <tr>\n",
              "      <th>1</th>\n",
              "      <td>39</td>\n",
              "      <td>Biryani</td>\n",
              "      <td>1567</td>\n",
              "      <td>elly9812</td>\n",
              "      <td>PT25M</td>\n",
              "      <td>PT4H</td>\n",
              "      <td>PT4H25M</td>\n",
              "      <td>1999-08-29T13:12:00Z</td>\n",
              "      <td>Make and share this Biryani recipe from Food.com.</td>\n",
              "      <td>c(\"https://img.sndimg.com/food/image/upload/w_...</td>\n",
              "      <td>...</td>\n",
              "      <td>16.6</td>\n",
              "      <td>372.8</td>\n",
              "      <td>368.4</td>\n",
              "      <td>84.4</td>\n",
              "      <td>9.0</td>\n",
              "      <td>20.4</td>\n",
              "      <td>63.4</td>\n",
              "      <td>6.0</td>\n",
              "      <td>NaN</td>\n",
              "      <td>c(\"Soak saffron in warm milk for 5 minutes and...</td>\n",
              "    </tr>\n",
              "  </tbody>\n",
              "</table>\n",
              "<p>2 rows × 28 columns</p>\n",
              "</div>\n",
              "    <div class=\"colab-df-buttons\">\n",
              "\n",
              "  <div class=\"colab-df-container\">\n",
              "    <button class=\"colab-df-convert\" onclick=\"convertToInteractive('df-f00feecb-96fa-43a8-98a0-d405e88172e0')\"\n",
              "            title=\"Convert this dataframe to an interactive table.\"\n",
              "            style=\"display:none;\">\n",
              "\n",
              "  <svg xmlns=\"http://www.w3.org/2000/svg\" height=\"24px\" viewBox=\"0 -960 960 960\">\n",
              "    <path d=\"M120-120v-720h720v720H120Zm60-500h600v-160H180v160Zm220 220h160v-160H400v160Zm0 220h160v-160H400v160ZM180-400h160v-160H180v160Zm440 0h160v-160H620v160ZM180-180h160v-160H180v160Zm440 0h160v-160H620v160Z\"/>\n",
              "  </svg>\n",
              "    </button>\n",
              "\n",
              "  <style>\n",
              "    .colab-df-container {\n",
              "      display:flex;\n",
              "      gap: 12px;\n",
              "    }\n",
              "\n",
              "    .colab-df-convert {\n",
              "      background-color: #E8F0FE;\n",
              "      border: none;\n",
              "      border-radius: 50%;\n",
              "      cursor: pointer;\n",
              "      display: none;\n",
              "      fill: #1967D2;\n",
              "      height: 32px;\n",
              "      padding: 0 0 0 0;\n",
              "      width: 32px;\n",
              "    }\n",
              "\n",
              "    .colab-df-convert:hover {\n",
              "      background-color: #E2EBFA;\n",
              "      box-shadow: 0px 1px 2px rgba(60, 64, 67, 0.3), 0px 1px 3px 1px rgba(60, 64, 67, 0.15);\n",
              "      fill: #174EA6;\n",
              "    }\n",
              "\n",
              "    .colab-df-buttons div {\n",
              "      margin-bottom: 4px;\n",
              "    }\n",
              "\n",
              "    [theme=dark] .colab-df-convert {\n",
              "      background-color: #3B4455;\n",
              "      fill: #D2E3FC;\n",
              "    }\n",
              "\n",
              "    [theme=dark] .colab-df-convert:hover {\n",
              "      background-color: #434B5C;\n",
              "      box-shadow: 0px 1px 3px 1px rgba(0, 0, 0, 0.15);\n",
              "      filter: drop-shadow(0px 1px 2px rgba(0, 0, 0, 0.3));\n",
              "      fill: #FFFFFF;\n",
              "    }\n",
              "  </style>\n",
              "\n",
              "    <script>\n",
              "      const buttonEl =\n",
              "        document.querySelector('#df-f00feecb-96fa-43a8-98a0-d405e88172e0 button.colab-df-convert');\n",
              "      buttonEl.style.display =\n",
              "        google.colab.kernel.accessAllowed ? 'block' : 'none';\n",
              "\n",
              "      async function convertToInteractive(key) {\n",
              "        const element = document.querySelector('#df-f00feecb-96fa-43a8-98a0-d405e88172e0');\n",
              "        const dataTable =\n",
              "          await google.colab.kernel.invokeFunction('convertToInteractive',\n",
              "                                                    [key], {});\n",
              "        if (!dataTable) return;\n",
              "\n",
              "        const docLinkHtml = 'Like what you see? Visit the ' +\n",
              "          '<a target=\"_blank\" href=https://colab.research.google.com/notebooks/data_table.ipynb>data table notebook</a>'\n",
              "          + ' to learn more about interactive tables.';\n",
              "        element.innerHTML = '';\n",
              "        dataTable['output_type'] = 'display_data';\n",
              "        await google.colab.output.renderOutput(dataTable, element);\n",
              "        const docLink = document.createElement('div');\n",
              "        docLink.innerHTML = docLinkHtml;\n",
              "        element.appendChild(docLink);\n",
              "      }\n",
              "    </script>\n",
              "  </div>\n",
              "\n",
              "\n",
              "<div id=\"df-98826bc6-5c52-49d4-8c3d-85ecb343ad06\">\n",
              "  <button class=\"colab-df-quickchart\" onclick=\"quickchart('df-98826bc6-5c52-49d4-8c3d-85ecb343ad06')\"\n",
              "            title=\"Suggest charts\"\n",
              "            style=\"display:none;\">\n",
              "\n",
              "<svg xmlns=\"http://www.w3.org/2000/svg\" height=\"24px\"viewBox=\"0 0 24 24\"\n",
              "     width=\"24px\">\n",
              "    <g>\n",
              "        <path d=\"M19 3H5c-1.1 0-2 .9-2 2v14c0 1.1.9 2 2 2h14c1.1 0 2-.9 2-2V5c0-1.1-.9-2-2-2zM9 17H7v-7h2v7zm4 0h-2V7h2v10zm4 0h-2v-4h2v4z\"/>\n",
              "    </g>\n",
              "</svg>\n",
              "  </button>\n",
              "\n",
              "<style>\n",
              "  .colab-df-quickchart {\n",
              "      --bg-color: #E8F0FE;\n",
              "      --fill-color: #1967D2;\n",
              "      --hover-bg-color: #E2EBFA;\n",
              "      --hover-fill-color: #174EA6;\n",
              "      --disabled-fill-color: #AAA;\n",
              "      --disabled-bg-color: #DDD;\n",
              "  }\n",
              "\n",
              "  [theme=dark] .colab-df-quickchart {\n",
              "      --bg-color: #3B4455;\n",
              "      --fill-color: #D2E3FC;\n",
              "      --hover-bg-color: #434B5C;\n",
              "      --hover-fill-color: #FFFFFF;\n",
              "      --disabled-bg-color: #3B4455;\n",
              "      --disabled-fill-color: #666;\n",
              "  }\n",
              "\n",
              "  .colab-df-quickchart {\n",
              "    background-color: var(--bg-color);\n",
              "    border: none;\n",
              "    border-radius: 50%;\n",
              "    cursor: pointer;\n",
              "    display: none;\n",
              "    fill: var(--fill-color);\n",
              "    height: 32px;\n",
              "    padding: 0;\n",
              "    width: 32px;\n",
              "  }\n",
              "\n",
              "  .colab-df-quickchart:hover {\n",
              "    background-color: var(--hover-bg-color);\n",
              "    box-shadow: 0 1px 2px rgba(60, 64, 67, 0.3), 0 1px 3px 1px rgba(60, 64, 67, 0.15);\n",
              "    fill: var(--button-hover-fill-color);\n",
              "  }\n",
              "\n",
              "  .colab-df-quickchart-complete:disabled,\n",
              "  .colab-df-quickchart-complete:disabled:hover {\n",
              "    background-color: var(--disabled-bg-color);\n",
              "    fill: var(--disabled-fill-color);\n",
              "    box-shadow: none;\n",
              "  }\n",
              "\n",
              "  .colab-df-spinner {\n",
              "    border: 2px solid var(--fill-color);\n",
              "    border-color: transparent;\n",
              "    border-bottom-color: var(--fill-color);\n",
              "    animation:\n",
              "      spin 1s steps(1) infinite;\n",
              "  }\n",
              "\n",
              "  @keyframes spin {\n",
              "    0% {\n",
              "      border-color: transparent;\n",
              "      border-bottom-color: var(--fill-color);\n",
              "      border-left-color: var(--fill-color);\n",
              "    }\n",
              "    20% {\n",
              "      border-color: transparent;\n",
              "      border-left-color: var(--fill-color);\n",
              "      border-top-color: var(--fill-color);\n",
              "    }\n",
              "    30% {\n",
              "      border-color: transparent;\n",
              "      border-left-color: var(--fill-color);\n",
              "      border-top-color: var(--fill-color);\n",
              "      border-right-color: var(--fill-color);\n",
              "    }\n",
              "    40% {\n",
              "      border-color: transparent;\n",
              "      border-right-color: var(--fill-color);\n",
              "      border-top-color: var(--fill-color);\n",
              "    }\n",
              "    60% {\n",
              "      border-color: transparent;\n",
              "      border-right-color: var(--fill-color);\n",
              "    }\n",
              "    80% {\n",
              "      border-color: transparent;\n",
              "      border-right-color: var(--fill-color);\n",
              "      border-bottom-color: var(--fill-color);\n",
              "    }\n",
              "    90% {\n",
              "      border-color: transparent;\n",
              "      border-bottom-color: var(--fill-color);\n",
              "    }\n",
              "  }\n",
              "</style>\n",
              "\n",
              "  <script>\n",
              "    async function quickchart(key) {\n",
              "      const quickchartButtonEl =\n",
              "        document.querySelector('#' + key + ' button');\n",
              "      quickchartButtonEl.disabled = true;  // To prevent multiple clicks.\n",
              "      quickchartButtonEl.classList.add('colab-df-spinner');\n",
              "      try {\n",
              "        const charts = await google.colab.kernel.invokeFunction(\n",
              "            'suggestCharts', [key], {});\n",
              "      } catch (error) {\n",
              "        console.error('Error during call to suggestCharts:', error);\n",
              "      }\n",
              "      quickchartButtonEl.classList.remove('colab-df-spinner');\n",
              "      quickchartButtonEl.classList.add('colab-df-quickchart-complete');\n",
              "    }\n",
              "    (() => {\n",
              "      let quickchartButtonEl =\n",
              "        document.querySelector('#df-98826bc6-5c52-49d4-8c3d-85ecb343ad06 button');\n",
              "      quickchartButtonEl.style.display =\n",
              "        google.colab.kernel.accessAllowed ? 'block' : 'none';\n",
              "    })();\n",
              "  </script>\n",
              "</div>\n",
              "\n",
              "    </div>\n",
              "  </div>\n"
            ],
            "application/vnd.google.colaboratory.intrinsic+json": {
              "type": "dataframe",
              "variable_name": "df"
            }
          },
          "metadata": {},
          "execution_count": 10
        }
      ],
      "source": [
        "df.head(2)"
      ]
    },
    {
      "cell_type": "code",
      "execution_count": 11,
      "metadata": {
        "id": "NLbyJj-nBdM9",
        "colab": {
          "base_uri": "https://localhost:8080/"
        },
        "outputId": "599ceb95-d8f1-4e67-ebd5-5cb757108af0"
      },
      "outputs": [
        {
          "output_type": "stream",
          "name": "stdout",
          "text": [
            "<class 'pandas.core.frame.DataFrame'>\n",
            "RangeIndex: 522517 entries, 0 to 522516\n",
            "Data columns (total 28 columns):\n",
            " #   Column                      Non-Null Count   Dtype  \n",
            "---  ------                      --------------   -----  \n",
            " 0   RecipeId                    522517 non-null  int64  \n",
            " 1   Name                        522517 non-null  object \n",
            " 2   AuthorId                    522517 non-null  int64  \n",
            " 3   AuthorName                  522517 non-null  object \n",
            " 4   CookTime                    439972 non-null  object \n",
            " 5   PrepTime                    522517 non-null  object \n",
            " 6   TotalTime                   522517 non-null  object \n",
            " 7   DatePublished               522517 non-null  object \n",
            " 8   Description                 522512 non-null  object \n",
            " 9   Images                      522516 non-null  object \n",
            " 10  RecipeCategory              521766 non-null  object \n",
            " 11  Keywords                    505280 non-null  object \n",
            " 12  RecipeIngredientQuantities  522514 non-null  object \n",
            " 13  RecipeIngredientParts       522517 non-null  object \n",
            " 14  AggregatedRating            269294 non-null  float64\n",
            " 15  ReviewCount                 275028 non-null  float64\n",
            " 16  Calories                    522517 non-null  float64\n",
            " 17  FatContent                  522517 non-null  float64\n",
            " 18  SaturatedFatContent         522517 non-null  float64\n",
            " 19  CholesterolContent          522517 non-null  float64\n",
            " 20  SodiumContent               522517 non-null  float64\n",
            " 21  CarbohydrateContent         522517 non-null  float64\n",
            " 22  FiberContent                522517 non-null  float64\n",
            " 23  SugarContent                522517 non-null  float64\n",
            " 24  ProteinContent              522517 non-null  float64\n",
            " 25  RecipeServings              339606 non-null  float64\n",
            " 26  RecipeYield                 174446 non-null  object \n",
            " 27  RecipeInstructions          522517 non-null  object \n",
            "dtypes: float64(12), int64(2), object(14)\n",
            "memory usage: 111.6+ MB\n"
          ]
        }
      ],
      "source": [
        "df.info()"
      ]
    },
    {
      "cell_type": "markdown",
      "metadata": {
        "id": "9UFoE7nhBn3r"
      },
      "source": [
        "## **Data Visualization**"
      ]
    },
    {
      "cell_type": "code",
      "execution_count": 12,
      "metadata": {
        "id": "bAzAjxluBgUx",
        "colab": {
          "base_uri": "https://localhost:8080/",
          "height": 410
        },
        "outputId": "df05977d-7894-4000-f65c-f50ffa0611c8"
      },
      "outputs": [
        {
          "output_type": "display_data",
          "data": {
            "text/plain": [
              "<Figure size 600x400 with 1 Axes>"
            ],
            "image/png": "[encoded data removed]"
          },
          "metadata": {}
        }
      ],
      "source": [
        "fig, ax = plt.subplots(figsize=(6, 4))\n",
        "plt.title('Frequency Histogram')\n",
        "plt.ylabel('Frequency')\n",
        "plt.xlabel('Bins Center')\n",
        "ax.hist(df.Calories.to_numpy(),bins=[0,100,200,300,400,500,600,700,800,900,1000,2000,3000,5000],linewidth=0.5, edgecolor=\"white\")\n",
        "plt.show()"
      ]
    },
    {
      "cell_type": "markdown",
      "metadata": {
        "id": "saSsM0LSB0ZD"
      },
      "source": [
        "**Summary:** The histogram provides a visual representation of the distribution of calorie values in the dataset. This helps in understanding how calories are spread across different recipes.\n",
        "\n",
        "**Insight:** The histogram indicates that most recipes have calories within the lower range (0-1000 calories), with significantly fewer recipes having higher calorie counts."
      ]
    },
    {
      "cell_type": "code",
      "execution_count": 13,
      "metadata": {
        "id": "ETaAZvHDCHZz",
        "colab": {
          "base_uri": "https://localhost:8080/",
          "height": 472
        },
        "outputId": "6fb708f1-d380-49e7-f826-f7a6e3e6a1ae"
      },
      "outputs": [
        {
          "output_type": "display_data",
          "data": {
            "text/plain": [
              "<Figure size 640x480 with 1 Axes>"
            ],
            "image/png": "[encoded data removed]"
          },
          "metadata": {}
        }
      ],
      "source": [
        "stats.probplot(df.Calories.to_numpy(), dist=\"norm\", plot=pylab)\n",
        "pylab.show()"
      ]
    },
    {
      "cell_type": "markdown",
      "metadata": {
        "id": "xqIjiK9fEjaj"
      },
      "source": [
        "**Summary:**\n",
        "*   The majority of the recipes have calories in the lower range (0-1000 calories)\n",
        "*   The data is highly skewed towards the lower calorie range, indicating that most recipes are under 1000 in calories.\n",
        "*   There are several extreme values (outliers) in the higher calorie range, as indicated by the points far from the line.\n",
        "\n",
        "**Insights:**\n",
        "*   There is some outlier in calories (too high)"
      ]
    },
    {
      "cell_type": "markdown",
      "metadata": {
        "id": "CamLhULpFPLt"
      },
      "source": [
        "## **Data Preparation**"
      ]
    },
    {
      "cell_type": "markdown",
      "metadata": {
        "id": "IxPmTdiCFTzX"
      },
      "source": [
        "### Select Relevant Column for Building RecSys"
      ]
    },
    {
      "cell_type": "code",
      "execution_count": 14,
      "metadata": {
        "id": "jNRWx7eKFR0v"
      },
      "outputs": [],
      "source": [
        "columns=['RecipeId','Name','CookTime','PrepTime','TotalTime','RecipeIngredientParts','Calories','FatContent','SaturatedFatContent','CholesterolContent','SodiumContent','CarbohydrateContent','FiberContent','SugarContent','ProteinContent','RecipeInstructions']\n",
        "df=df[columns]"
      ]
    },
    {
      "cell_type": "markdown",
      "metadata": {
        "id": "rnulLcgWFnDo"
      },
      "source": [
        "### Filter Recipe to Follow this Max Nutritient"
      ]
    },
    {
      "cell_type": "code",
      "execution_count": 15,
      "metadata": {
        "id": "2I8_fcTQFd2W"
      },
      "outputs": [],
      "source": [
        "# https://www.dietaryguidelines.gov/\n",
        "max_Calories=1000\n",
        "\n",
        "# https://www.ncbi.nlm.nih.gov/books/NBK56068/\n",
        "max_daily_fat=100\n",
        "\n",
        "# https://www.heart.org/\n",
        "max_daily_Saturatedfat=13\n",
        "\n",
        "# https://www.dietaryguidelines.gov/\n",
        "max_daily_Cholesterol=300\n",
        "\n",
        "# https://www.ncbi.nlm.nih.gov/books/NBK56068/\n",
        "max_daily_Sodium=2300\n",
        "\n",
        "# https://www.ncbi.nlm.nih.gov/books/NBK56068/\n",
        "max_daily_Carbohydrate=325\n",
        "\n",
        "# https://www.ncbi.nlm.nih.gov/books/NBK56068/\n",
        "max_daily_Fiber=40\n",
        "\n",
        "# https://www.heart.org/\n",
        "max_daily_Sugar=40\n",
        "\n",
        "# https://www.ncbi.nlm.nih.gov/books/NBK56068/\n",
        "max_daily_Protein=200\n",
        "\n",
        "max_list=[max_Calories,max_daily_fat,max_daily_Saturatedfat,max_daily_Cholesterol,max_daily_Sodium,max_daily_Carbohydrate,max_daily_Fiber,max_daily_Sugar,max_daily_Protein]"
      ]
    },
    {
      "cell_type": "code",
      "execution_count": 16,
      "metadata": {
        "id": "Pp3_G6t7Fs-F"
      },
      "outputs": [],
      "source": [
        "# from index 6 to 14 which contain nutritional value with the corresponding maximum value in max_list\n",
        "for column,maximum in zip(df.columns[6:15],max_list):\n",
        "    df=df[df[column]<maximum]"
      ]
    },
    {
      "cell_type": "code",
      "execution_count": 17,
      "metadata": {
        "id": "2c9y57PqLLYn",
        "colab": {
          "base_uri": "https://localhost:8080/",
          "height": 254
        },
        "outputId": "c81a0868-fdea-4cfd-9cc7-78f4ac061676"
      },
      "outputs": [
        {
          "output_type": "execute_result",
          "data": {
            "text/plain": [
              "   RecipeId                               Name CookTime PrepTime TotalTime  \\\n",
              "0        38  Low-Fat Berry Blue Frozen Dessert    PT24H    PT45M  PT24H45M   \n",
              "3        41     Carina's Tofu-Vegetable Kebabs    PT20M    PT24H  PT24H20M   \n",
              "\n",
              "                               RecipeIngredientParts  Calories  FatContent  \\\n",
              "0  c(\"blueberries\", \"granulated sugar\", \"vanilla ...     170.9         2.5   \n",
              "3  c(\"extra firm tofu\", \"eggplant\", \"zucchini\", \"...     536.1        24.0   \n",
              "\n",
              "   SaturatedFatContent  CholesterolContent  SodiumContent  \\\n",
              "0                  1.3                 8.0           29.8   \n",
              "3                  3.8                 0.0         1558.6   \n",
              "\n",
              "   CarbohydrateContent  FiberContent  SugarContent  ProteinContent  \\\n",
              "0                 37.1           3.6          30.2             3.2   \n",
              "3                 64.2          17.3          32.1            29.3   \n",
              "\n",
              "                                  RecipeInstructions  \n",
              "0  c(\"Toss 2 cups berries with sugar.\", \"Let stan...  \n",
              "3  c(\"Drain the tofu, carefully squeezing out exc...  "
            ],
            "text/html": [
              "\n",
              "  <div id=\"df-452ac570-7981-4f37-ac4e-956f75e888f3\" class=\"colab-df-container\">\n",
              "    <div>\n",
              "<style scoped>\n",
              "    .dataframe tbody tr th:only-of-type {\n",
              "        vertical-align: middle;\n",
              "    }\n",
              "\n",
              "    .dataframe tbody tr th {\n",
              "        vertical-align: top;\n",
              "    }\n",
              "\n",
              "    .dataframe thead th {\n",
              "        text-align: right;\n",
              "    }\n",
              "</style>\n",
              "<table border=\"1\" class=\"dataframe\">\n",
              "  <thead>\n",
              "    <tr style=\"text-align: right;\">\n",
              "      <th></th>\n",
              "      <th>RecipeId</th>\n",
              "      <th>Name</th>\n",
              "      <th>CookTime</th>\n",
              "      <th>PrepTime</th>\n",
              "      <th>TotalTime</th>\n",
              "      <th>RecipeIngredientParts</th>\n",
              "      <th>Calories</th>\n",
              "      <th>FatContent</th>\n",
              "      <th>SaturatedFatContent</th>\n",
              "      <th>CholesterolContent</th>\n",
              "      <th>SodiumContent</th>\n",
              "      <th>CarbohydrateContent</th>\n",
              "      <th>FiberContent</th>\n",
              "      <th>SugarContent</th>\n",
              "      <th>ProteinContent</th>\n",
              "      <th>RecipeInstructions</th>\n",
              "    </tr>\n",
              "  </thead>\n",
              "  <tbody>\n",
              "    <tr>\n",
              "      <th>0</th>\n",
              "      <td>38</td>\n",
              "      <td>Low-Fat Berry Blue Frozen Dessert</td>\n",
              "      <td>PT24H</td>\n",
              "      <td>PT45M</td>\n",
              "      <td>PT24H45M</td>\n",
              "      <td>c(\"blueberries\", \"granulated sugar\", \"vanilla ...</td>\n",
              "      <td>170.9</td>\n",
              "      <td>2.5</td>\n",
              "      <td>1.3</td>\n",
              "      <td>8.0</td>\n",
              "      <td>29.8</td>\n",
              "      <td>37.1</td>\n",
              "      <td>3.6</td>\n",
              "      <td>30.2</td>\n",
              "      <td>3.2</td>\n",
              "      <td>c(\"Toss 2 cups berries with sugar.\", \"Let stan...</td>\n",
              "    </tr>\n",
              "    <tr>\n",
              "      <th>3</th>\n",
              "      <td>41</td>\n",
              "      <td>Carina's Tofu-Vegetable Kebabs</td>\n",
              "      <td>PT20M</td>\n",
              "      <td>PT24H</td>\n",
              "      <td>PT24H20M</td>\n",
              "      <td>c(\"extra firm tofu\", \"eggplant\", \"zucchini\", \"...</td>\n",
              "      <td>536.1</td>\n",
              "      <td>24.0</td>\n",
              "      <td>3.8</td>\n",
              "      <td>0.0</td>\n",
              "      <td>1558.6</td>\n",
              "      <td>64.2</td>\n",
              "      <td>17.3</td>\n",
              "      <td>32.1</td>\n",
              "      <td>29.3</td>\n",
              "      <td>c(\"Drain the tofu, carefully squeezing out exc...</td>\n",
              "    </tr>\n",
              "  </tbody>\n",
              "</table>\n",
              "</div>\n",
              "    <div class=\"colab-df-buttons\">\n",
              "\n",
              "  <div class=\"colab-df-container\">\n",
              "    <button class=\"colab-df-convert\" onclick=\"convertToInteractive('df-452ac570-7981-4f37-ac4e-956f75e888f3')\"\n",
              "            title=\"Convert this dataframe to an interactive table.\"\n",
              "            style=\"display:none;\">\n",
              "\n",
              "  <svg xmlns=\"http://www.w3.org/2000/svg\" height=\"24px\" viewBox=\"0 -960 960 960\">\n",
              "    <path d=\"M120-120v-720h720v720H120Zm60-500h600v-160H180v160Zm220 220h160v-160H400v160Zm0 220h160v-160H400v160ZM180-400h160v-160H180v160Zm440 0h160v-160H620v160ZM180-180h160v-160H180v160Zm440 0h160v-160H620v160Z\"/>\n",
              "  </svg>\n",
              "    </button>\n",
              "\n",
              "  <style>\n",
              "    .colab-df-container {\n",
              "      display:flex;\n",
              "      gap: 12px;\n",
              "    }\n",
              "\n",
              "    .colab-df-convert {\n",
              "      background-color: #E8F0FE;\n",
              "      border: none;\n",
              "      border-radius: 50%;\n",
              "      cursor: pointer;\n",
              "      display: none;\n",
              "      fill: #1967D2;\n",
              "      height: 32px;\n",
              "      padding: 0 0 0 0;\n",
              "      width: 32px;\n",
              "    }\n",
              "\n",
              "    .colab-df-convert:hover {\n",
              "      background-color: #E2EBFA;\n",
              "      box-shadow: 0px 1px 2px rgba(60, 64, 67, 0.3), 0px 1px 3px 1px rgba(60, 64, 67, 0.15);\n",
              "      fill: #174EA6;\n",
              "    }\n",
              "\n",
              "    .colab-df-buttons div {\n",
              "      margin-bottom: 4px;\n",
              "    }\n",
              "\n",
              "    [theme=dark] .colab-df-convert {\n",
              "      background-color: #3B4455;\n",
              "      fill: #D2E3FC;\n",
              "    }\n",
              "\n",
              "    [theme=dark] .colab-df-convert:hover {\n",
              "      background-color: #434B5C;\n",
              "      box-shadow: 0px 1px 3px 1px rgba(0, 0, 0, 0.15);\n",
              "      filter: drop-shadow(0px 1px 2px rgba(0, 0, 0, 0.3));\n",
              "      fill: #FFFFFF;\n",
              "    }\n",
              "  </style>\n",
              "\n",
              "    <script>\n",
              "      const buttonEl =\n",
              "        document.querySelector('#df-452ac570-7981-4f37-ac4e-956f75e888f3 button.colab-df-convert');\n",
              "      buttonEl.style.display =\n",
              "        google.colab.kernel.accessAllowed ? 'block' : 'none';\n",
              "\n",
              "      async function convertToInteractive(key) {\n",
              "        const element = document.querySelector('#df-452ac570-7981-4f37-ac4e-956f75e888f3');\n",
              "        const dataTable =\n",
              "          await google.colab.kernel.invokeFunction('convertToInteractive',\n",
              "                                                    [key], {});\n",
              "        if (!dataTable) return;\n",
              "\n",
              "        const docLinkHtml = 'Like what you see? Visit the ' +\n",
              "          '<a target=\"_blank\" href=https://colab.research.google.com/notebooks/data_table.ipynb>data table notebook</a>'\n",
              "          + ' to learn more about interactive tables.';\n",
              "        element.innerHTML = '';\n",
              "        dataTable['output_type'] = 'display_data';\n",
              "        await google.colab.output.renderOutput(dataTable, element);\n",
              "        const docLink = document.createElement('div');\n",
              "        docLink.innerHTML = docLinkHtml;\n",
              "        element.appendChild(docLink);\n",
              "      }\n",
              "    </script>\n",
              "  </div>\n",
              "\n",
              "\n",
              "<div id=\"df-910f1735-e9ab-41f4-9079-10d7a8fcc916\">\n",
              "  <button class=\"colab-df-quickchart\" onclick=\"quickchart('df-910f1735-e9ab-41f4-9079-10d7a8fcc916')\"\n",
              "            title=\"Suggest charts\"\n",
              "            style=\"display:none;\">\n",
              "\n",
              "<svg xmlns=\"http://www.w3.org/2000/svg\" height=\"24px\"viewBox=\"0 0 24 24\"\n",
              "     width=\"24px\">\n",
              "    <g>\n",
              "        <path d=\"M19 3H5c-1.1 0-2 .9-2 2v14c0 1.1.9 2 2 2h14c1.1 0 2-.9 2-2V5c0-1.1-.9-2-2-2zM9 17H7v-7h2v7zm4 0h-2V7h2v10zm4 0h-2v-4h2v4z\"/>\n",
              "    </g>\n",
              "</svg>\n",
              "  </button>\n",
              "\n",
              "<style>\n",
              "  .colab-df-quickchart {\n",
              "      --bg-color: #E8F0FE;\n",
              "      --fill-color: #1967D2;\n",
              "      --hover-bg-color: #E2EBFA;\n",
              "      --hover-fill-color: #174EA6;\n",
              "      --disabled-fill-color: #AAA;\n",
              "      --disabled-bg-color: #DDD;\n",
              "  }\n",
              "\n",
              "  [theme=dark] .colab-df-quickchart {\n",
              "      --bg-color: #3B4455;\n",
              "      --fill-color: #D2E3FC;\n",
              "      --hover-bg-color: #434B5C;\n",
              "      --hover-fill-color: #FFFFFF;\n",
              "      --disabled-bg-color: #3B4455;\n",
              "      --disabled-fill-color: #666;\n",
              "  }\n",
              "\n",
              "  .colab-df-quickchart {\n",
              "    background-color: var(--bg-color);\n",
              "    border: none;\n",
              "    border-radius: 50%;\n",
              "    cursor: pointer;\n",
              "    display: none;\n",
              "    fill: var(--fill-color);\n",
              "    height: 32px;\n",
              "    padding: 0;\n",
              "    width: 32px;\n",
              "  }\n",
              "\n",
              "  .colab-df-quickchart:hover {\n",
              "    background-color: var(--hover-bg-color);\n",
              "    box-shadow: 0 1px 2px rgba(60, 64, 67, 0.3), 0 1px 3px 1px rgba(60, 64, 67, 0.15);\n",
              "    fill: var(--button-hover-fill-color);\n",
              "  }\n",
              "\n",
              "  .colab-df-quickchart-complete:disabled,\n",
              "  .colab-df-quickchart-complete:disabled:hover {\n",
              "    background-color: var(--disabled-bg-color);\n",
              "    fill: var(--disabled-fill-color);\n",
              "    box-shadow: none;\n",
              "  }\n",
              "\n",
              "  .colab-df-spinner {\n",
              "    border: 2px solid var(--fill-color);\n",
              "    border-color: transparent;\n",
              "    border-bottom-color: var(--fill-color);\n",
              "    animation:\n",
              "      spin 1s steps(1) infinite;\n",
              "  }\n",
              "\n",
              "  @keyframes spin {\n",
              "    0% {\n",
              "      border-color: transparent;\n",
              "      border-bottom-color: var(--fill-color);\n",
              "      border-left-color: var(--fill-color);\n",
              "    }\n",
              "    20% {\n",
              "      border-color: transparent;\n",
              "      border-left-color: var(--fill-color);\n",
              "      border-top-color: var(--fill-color);\n",
              "    }\n",
              "    30% {\n",
              "      border-color: transparent;\n",
              "      border-left-color: var(--fill-color);\n",
              "      border-top-color: var(--fill-color);\n",
              "      border-right-color: var(--fill-color);\n",
              "    }\n",
              "    40% {\n",
              "      border-color: transparent;\n",
              "      border-right-color: var(--fill-color);\n",
              "      border-top-color: var(--fill-color);\n",
              "    }\n",
              "    60% {\n",
              "      border-color: transparent;\n",
              "      border-right-color: var(--fill-color);\n",
              "    }\n",
              "    80% {\n",
              "      border-color: transparent;\n",
              "      border-right-color: var(--fill-color);\n",
              "      border-bottom-color: var(--fill-color);\n",
              "    }\n",
              "    90% {\n",
              "      border-color: transparent;\n",
              "      border-bottom-color: var(--fill-color);\n",
              "    }\n",
              "  }\n",
              "</style>\n",
              "\n",
              "  <script>\n",
              "    async function quickchart(key) {\n",
              "      const quickchartButtonEl =\n",
              "        document.querySelector('#' + key + ' button');\n",
              "      quickchartButtonEl.disabled = true;  // To prevent multiple clicks.\n",
              "      quickchartButtonEl.classList.add('colab-df-spinner');\n",
              "      try {\n",
              "        const charts = await google.colab.kernel.invokeFunction(\n",
              "            'suggestCharts', [key], {});\n",
              "      } catch (error) {\n",
              "        console.error('Error during call to suggestCharts:', error);\n",
              "      }\n",
              "      quickchartButtonEl.classList.remove('colab-df-spinner');\n",
              "      quickchartButtonEl.classList.add('colab-df-quickchart-complete');\n",
              "    }\n",
              "    (() => {\n",
              "      let quickchartButtonEl =\n",
              "        document.querySelector('#df-910f1735-e9ab-41f4-9079-10d7a8fcc916 button');\n",
              "      quickchartButtonEl.style.display =\n",
              "        google.colab.kernel.accessAllowed ? 'block' : 'none';\n",
              "    })();\n",
              "  </script>\n",
              "</div>\n",
              "\n",
              "    </div>\n",
              "  </div>\n"
            ],
            "application/vnd.google.colaboratory.intrinsic+json": {
              "type": "dataframe",
              "variable_name": "df"
            }
          },
          "metadata": {},
          "execution_count": 17
        }
      ],
      "source": [
        "df.head(2)"
      ]
    },
    {
      "cell_type": "code",
      "source": [
        "# DropNaN, Reset Index, Drop Duplicates\n",
        "df = df.dropna()\n",
        "df = df.reset_index(drop=True)\n",
        "df = df.drop_duplicates(subset='Name', keep='first')\n",
        "df = df.drop_duplicates(subset='RecipeIngredientParts', keep='first')\n",
        "df = df.drop_duplicates(subset='RecipeInstructions', keep='first')"
      ],
      "metadata": {
        "id": "d60ZFcSCbGh3"
      },
      "execution_count": 18,
      "outputs": []
    },
    {
      "cell_type": "code",
      "source": [
        "df.isnull().sum()"
      ],
      "metadata": {
        "colab": {
          "base_uri": "https://localhost:8080/"
        },
        "id": "UtFKuetWgP8Z",
        "outputId": "905bcd67-97b5-487e-facc-d3a3f80418a2"
      },
      "execution_count": 19,
      "outputs": [
        {
          "output_type": "execute_result",
          "data": {
            "text/plain": [
              "RecipeId                 0\n",
              "Name                     0\n",
              "CookTime                 0\n",
              "PrepTime                 0\n",
              "TotalTime                0\n",
              "RecipeIngredientParts    0\n",
              "Calories                 0\n",
              "FatContent               0\n",
              "SaturatedFatContent      0\n",
              "CholesterolContent       0\n",
              "SodiumContent            0\n",
              "CarbohydrateContent      0\n",
              "FiberContent             0\n",
              "SugarContent             0\n",
              "ProteinContent           0\n",
              "RecipeInstructions       0\n",
              "dtype: int64"
            ]
          },
          "metadata": {},
          "execution_count": 19
        }
      ]
    },
    {
      "cell_type": "code",
      "execution_count": 20,
      "metadata": {
        "id": "yxNawr5kzitP",
        "colab": {
          "base_uri": "https://localhost:8080/"
        },
        "outputId": "fb7a9ba8-f755-47d1-c6b7-5f3002189c5e"
      },
      "outputs": [
        {
          "output_type": "stream",
          "name": "stdout",
          "text": [
            "<class 'pandas.core.frame.DataFrame'>\n",
            "Index: 261445 entries, 0 to 312110\n",
            "Data columns (total 16 columns):\n",
            " #   Column                 Non-Null Count   Dtype  \n",
            "---  ------                 --------------   -----  \n",
            " 0   RecipeId               261445 non-null  int64  \n",
            " 1   Name                   261445 non-null  object \n",
            " 2   CookTime               261445 non-null  object \n",
            " 3   PrepTime               261445 non-null  object \n",
            " 4   TotalTime              261445 non-null  object \n",
            " 5   RecipeIngredientParts  261445 non-null  object \n",
            " 6   Calories               261445 non-null  float64\n",
            " 7   FatContent             261445 non-null  float64\n",
            " 8   SaturatedFatContent    261445 non-null  float64\n",
            " 9   CholesterolContent     261445 non-null  float64\n",
            " 10  SodiumContent          261445 non-null  float64\n",
            " 11  CarbohydrateContent    261445 non-null  float64\n",
            " 12  FiberContent           261445 non-null  float64\n",
            " 13  SugarContent           261445 non-null  float64\n",
            " 14  ProteinContent         261445 non-null  float64\n",
            " 15  RecipeInstructions     261445 non-null  object \n",
            "dtypes: float64(9), int64(1), object(6)\n",
            "memory usage: 33.9+ MB\n"
          ]
        }
      ],
      "source": [
        "df.info()"
      ]
    },
    {
      "cell_type": "markdown",
      "metadata": {
        "id": "c38OmMN-sVel"
      },
      "source": [
        "## **Data Pre-Processing**"
      ]
    },
    {
      "cell_type": "code",
      "source": [
        "# Define column for pre-processing\n",
        "columns=['Name', 'RecipeIngredientParts','RecipeInstructions']\n",
        "df_preprocessing=df[columns]\n",
        "df_preprocessing.head(2)"
      ],
      "metadata": {
        "colab": {
          "base_uri": "https://localhost:8080/",
          "height": 112
        },
        "id": "iJ4zev92c2US",
        "outputId": "e334cae1-7e25-492d-9287-2a1492a89d01"
      },
      "execution_count": 21,
      "outputs": [
        {
          "output_type": "execute_result",
          "data": {
            "text/plain": [
              "                                Name  \\\n",
              "0  Low-Fat Berry Blue Frozen Dessert   \n",
              "1     Carina's Tofu-Vegetable Kebabs   \n",
              "\n",
              "                               RecipeIngredientParts  \\\n",
              "0  c(\"blueberries\", \"granulated sugar\", \"vanilla ...   \n",
              "1  c(\"extra firm tofu\", \"eggplant\", \"zucchini\", \"...   \n",
              "\n",
              "                                  RecipeInstructions  \n",
              "0  c(\"Toss 2 cups berries with sugar.\", \"Let stan...  \n",
              "1  c(\"Drain the tofu, carefully squeezing out exc...  "
            ],
            "text/html": [
              "\n",
              "  <div id=\"df-f6c16281-bf64-45bc-b1f4-51c3781e07cf\" class=\"colab-df-container\">\n",
              "    <div>\n",
              "<style scoped>\n",
              "    .dataframe tbody tr th:only-of-type {\n",
              "        vertical-align: middle;\n",
              "    }\n",
              "\n",
              "    .dataframe tbody tr th {\n",
              "        vertical-align: top;\n",
              "    }\n",
              "\n",
              "    .dataframe thead th {\n",
              "        text-align: right;\n",
              "    }\n",
              "</style>\n",
              "<table border=\"1\" class=\"dataframe\">\n",
              "  <thead>\n",
              "    <tr style=\"text-align: right;\">\n",
              "      <th></th>\n",
              "      <th>Name</th>\n",
              "      <th>RecipeIngredientParts</th>\n",
              "      <th>RecipeInstructions</th>\n",
              "    </tr>\n",
              "  </thead>\n",
              "  <tbody>\n",
              "    <tr>\n",
              "      <th>0</th>\n",
              "      <td>Low-Fat Berry Blue Frozen Dessert</td>\n",
              "      <td>c(\"blueberries\", \"granulated sugar\", \"vanilla ...</td>\n",
              "      <td>c(\"Toss 2 cups berries with sugar.\", \"Let stan...</td>\n",
              "    </tr>\n",
              "    <tr>\n",
              "      <th>1</th>\n",
              "      <td>Carina's Tofu-Vegetable Kebabs</td>\n",
              "      <td>c(\"extra firm tofu\", \"eggplant\", \"zucchini\", \"...</td>\n",
              "      <td>c(\"Drain the tofu, carefully squeezing out exc...</td>\n",
              "    </tr>\n",
              "  </tbody>\n",
              "</table>\n",
              "</div>\n",
              "    <div class=\"colab-df-buttons\">\n",
              "\n",
              "  <div class=\"colab-df-container\">\n",
              "    <button class=\"colab-df-convert\" onclick=\"convertToInteractive('df-f6c16281-bf64-45bc-b1f4-51c3781e07cf')\"\n",
              "            title=\"Convert this dataframe to an interactive table.\"\n",
              "            style=\"display:none;\">\n",
              "\n",
              "  <svg xmlns=\"http://www.w3.org/2000/svg\" height=\"24px\" viewBox=\"0 -960 960 960\">\n",
              "    <path d=\"M120-120v-720h720v720H120Zm60-500h600v-160H180v160Zm220 220h160v-160H400v160Zm0 220h160v-160H400v160ZM180-400h160v-160H180v160Zm440 0h160v-160H620v160ZM180-180h160v-160H180v160Zm440 0h160v-160H620v160Z\"/>\n",
              "  </svg>\n",
              "    </button>\n",
              "\n",
              "  <style>\n",
              "    .colab-df-container {\n",
              "      display:flex;\n",
              "      gap: 12px;\n",
              "    }\n",
              "\n",
              "    .colab-df-convert {\n",
              "      background-color: #E8F0FE;\n",
              "      border: none;\n",
              "      border-radius: 50%;\n",
              "      cursor: pointer;\n",
              "      display: none;\n",
              "      fill: #1967D2;\n",
              "      height: 32px;\n",
              "      padding: 0 0 0 0;\n",
              "      width: 32px;\n",
              "    }\n",
              "\n",
              "    .colab-df-convert:hover {\n",
              "      background-color: #E2EBFA;\n",
              "      box-shadow: 0px 1px 2px rgba(60, 64, 67, 0.3), 0px 1px 3px 1px rgba(60, 64, 67, 0.15);\n",
              "      fill: #174EA6;\n",
              "    }\n",
              "\n",
              "    .colab-df-buttons div {\n",
              "      margin-bottom: 4px;\n",
              "    }\n",
              "\n",
              "    [theme=dark] .colab-df-convert {\n",
              "      background-color: #3B4455;\n",
              "      fill: #D2E3FC;\n",
              "    }\n",
              "\n",
              "    [theme=dark] .colab-df-convert:hover {\n",
              "      background-color: #434B5C;\n",
              "      box-shadow: 0px 1px 3px 1px rgba(0, 0, 0, 0.15);\n",
              "      filter: drop-shadow(0px 1px 2px rgba(0, 0, 0, 0.3));\n",
              "      fill: #FFFFFF;\n",
              "    }\n",
              "  </style>\n",
              "\n",
              "    <script>\n",
              "      const buttonEl =\n",
              "        document.querySelector('#df-f6c16281-bf64-45bc-b1f4-51c3781e07cf button.colab-df-convert');\n",
              "      buttonEl.style.display =\n",
              "        google.colab.kernel.accessAllowed ? 'block' : 'none';\n",
              "\n",
              "      async function convertToInteractive(key) {\n",
              "        const element = document.querySelector('#df-f6c16281-bf64-45bc-b1f4-51c3781e07cf');\n",
              "        const dataTable =\n",
              "          await google.colab.kernel.invokeFunction('convertToInteractive',\n",
              "                                                    [key], {});\n",
              "        if (!dataTable) return;\n",
              "\n",
              "        const docLinkHtml = 'Like what you see? Visit the ' +\n",
              "          '<a target=\"_blank\" href=https://colab.research.google.com/notebooks/data_table.ipynb>data table notebook</a>'\n",
              "          + ' to learn more about interactive tables.';\n",
              "        element.innerHTML = '';\n",
              "        dataTable['output_type'] = 'display_data';\n",
              "        await google.colab.output.renderOutput(dataTable, element);\n",
              "        const docLink = document.createElement('div');\n",
              "        docLink.innerHTML = docLinkHtml;\n",
              "        element.appendChild(docLink);\n",
              "      }\n",
              "    </script>\n",
              "  </div>\n",
              "\n",
              "\n",
              "<div id=\"df-2750fbf8-eb22-42a0-a793-e1e89a2fabc7\">\n",
              "  <button class=\"colab-df-quickchart\" onclick=\"quickchart('df-2750fbf8-eb22-42a0-a793-e1e89a2fabc7')\"\n",
              "            title=\"Suggest charts\"\n",
              "            style=\"display:none;\">\n",
              "\n",
              "<svg xmlns=\"http://www.w3.org/2000/svg\" height=\"24px\"viewBox=\"0 0 24 24\"\n",
              "     width=\"24px\">\n",
              "    <g>\n",
              "        <path d=\"M19 3H5c-1.1 0-2 .9-2 2v14c0 1.1.9 2 2 2h14c1.1 0 2-.9 2-2V5c0-1.1-.9-2-2-2zM9 17H7v-7h2v7zm4 0h-2V7h2v10zm4 0h-2v-4h2v4z\"/>\n",
              "    </g>\n",
              "</svg>\n",
              "  </button>\n",
              "\n",
              "<style>\n",
              "  .colab-df-quickchart {\n",
              "      --bg-color: #E8F0FE;\n",
              "      --fill-color: #1967D2;\n",
              "      --hover-bg-color: #E2EBFA;\n",
              "      --hover-fill-color: #174EA6;\n",
              "      --disabled-fill-color: #AAA;\n",
              "      --disabled-bg-color: #DDD;\n",
              "  }\n",
              "\n",
              "  [theme=dark] .colab-df-quickchart {\n",
              "      --bg-color: #3B4455;\n",
              "      --fill-color: #D2E3FC;\n",
              "      --hover-bg-color: #434B5C;\n",
              "      --hover-fill-color: #FFFFFF;\n",
              "      --disabled-bg-color: #3B4455;\n",
              "      --disabled-fill-color: #666;\n",
              "  }\n",
              "\n",
              "  .colab-df-quickchart {\n",
              "    background-color: var(--bg-color);\n",
              "    border: none;\n",
              "    border-radius: 50%;\n",
              "    cursor: pointer;\n",
              "    display: none;\n",
              "    fill: var(--fill-color);\n",
              "    height: 32px;\n",
              "    padding: 0;\n",
              "    width: 32px;\n",
              "  }\n",
              "\n",
              "  .colab-df-quickchart:hover {\n",
              "    background-color: var(--hover-bg-color);\n",
              "    box-shadow: 0 1px 2px rgba(60, 64, 67, 0.3), 0 1px 3px 1px rgba(60, 64, 67, 0.15);\n",
              "    fill: var(--button-hover-fill-color);\n",
              "  }\n",
              "\n",
              "  .colab-df-quickchart-complete:disabled,\n",
              "  .colab-df-quickchart-complete:disabled:hover {\n",
              "    background-color: var(--disabled-bg-color);\n",
              "    fill: var(--disabled-fill-color);\n",
              "    box-shadow: none;\n",
              "  }\n",
              "\n",
              "  .colab-df-spinner {\n",
              "    border: 2px solid var(--fill-color);\n",
              "    border-color: transparent;\n",
              "    border-bottom-color: var(--fill-color);\n",
              "    animation:\n",
              "      spin 1s steps(1) infinite;\n",
              "  }\n",
              "\n",
              "  @keyframes spin {\n",
              "    0% {\n",
              "      border-color: transparent;\n",
              "      border-bottom-color: var(--fill-color);\n",
              "      border-left-color: var(--fill-color);\n",
              "    }\n",
              "    20% {\n",
              "      border-color: transparent;\n",
              "      border-left-color: var(--fill-color);\n",
              "      border-top-color: var(--fill-color);\n",
              "    }\n",
              "    30% {\n",
              "      border-color: transparent;\n",
              "      border-left-color: var(--fill-color);\n",
              "      border-top-color: var(--fill-color);\n",
              "      border-right-color: var(--fill-color);\n",
              "    }\n",
              "    40% {\n",
              "      border-color: transparent;\n",
              "      border-right-color: var(--fill-color);\n",
              "      border-top-color: var(--fill-color);\n",
              "    }\n",
              "    60% {\n",
              "      border-color: transparent;\n",
              "      border-right-color: var(--fill-color);\n",
              "    }\n",
              "    80% {\n",
              "      border-color: transparent;\n",
              "      border-right-color: var(--fill-color);\n",
              "      border-bottom-color: var(--fill-color);\n",
              "    }\n",
              "    90% {\n",
              "      border-color: transparent;\n",
              "      border-bottom-color: var(--fill-color);\n",
              "    }\n",
              "  }\n",
              "</style>\n",
              "\n",
              "  <script>\n",
              "    async function quickchart(key) {\n",
              "      const quickchartButtonEl =\n",
              "        document.querySelector('#' + key + ' button');\n",
              "      quickchartButtonEl.disabled = true;  // To prevent multiple clicks.\n",
              "      quickchartButtonEl.classList.add('colab-df-spinner');\n",
              "      try {\n",
              "        const charts = await google.colab.kernel.invokeFunction(\n",
              "            'suggestCharts', [key], {});\n",
              "      } catch (error) {\n",
              "        console.error('Error during call to suggestCharts:', error);\n",
              "      }\n",
              "      quickchartButtonEl.classList.remove('colab-df-spinner');\n",
              "      quickchartButtonEl.classList.add('colab-df-quickchart-complete');\n",
              "    }\n",
              "    (() => {\n",
              "      let quickchartButtonEl =\n",
              "        document.querySelector('#df-2750fbf8-eb22-42a0-a793-e1e89a2fabc7 button');\n",
              "      quickchartButtonEl.style.display =\n",
              "        google.colab.kernel.accessAllowed ? 'block' : 'none';\n",
              "    })();\n",
              "  </script>\n",
              "</div>\n",
              "\n",
              "    </div>\n",
              "  </div>\n"
            ],
            "application/vnd.google.colaboratory.intrinsic+json": {
              "type": "dataframe",
              "variable_name": "df_preprocessing"
            }
          },
          "metadata": {},
          "execution_count": 21
        }
      ]
    },
    {
      "cell_type": "markdown",
      "metadata": {
        "id": "E6h5AkeZ36z0"
      },
      "source": [
        "### Data Cleaning\n"
      ]
    },
    {
      "cell_type": "code",
      "execution_count": 22,
      "metadata": {
        "id": "-DA0-E0_3xgJ",
        "colab": {
          "base_uri": "https://localhost:8080/",
          "height": 35
        },
        "outputId": "5405a4f4-b5da-4a97-f4ce-4dd4fde59fc8"
      },
      "outputs": [
        {
          "output_type": "execute_result",
          "data": {
            "text/plain": [
              "'c(\"blueberries\", \"granulated sugar\", \"vanilla yogurt\", \"lemon juice\")'"
            ],
            "application/vnd.google.colaboratory.intrinsic+json": {
              "type": "string"
            }
          },
          "metadata": {},
          "execution_count": 22
        }
      ],
      "source": [
        "# Before\n",
        "df_preprocessing['RecipeIngredientParts'][0]"
      ]
    },
    {
      "cell_type": "code",
      "execution_count": 23,
      "metadata": {
        "id": "LlmG3Apx3z9q",
        "colab": {
          "base_uri": "https://localhost:8080/",
          "height": 87
        },
        "outputId": "d2c23649-e053-4e3a-abeb-296231e2bb67"
      },
      "outputs": [
        {
          "output_type": "execute_result",
          "data": {
            "text/plain": [
              "'c(\"Toss 2 cups berries with sugar.\", \"Let stand for 45 minutes, stirring occasionally.\", \"Transfer berry-sugar mixture to food processor.\", \"Add yogurt and process until smooth.\", \"Strain through fine sieve. Pour into baking pan (or transfer to ice cream maker and process according to manufacturers\\' directions). Freeze uncovered until edges are solid but centre is soft.  Transfer to processor and blend until smooth again.\", \"Return to pan and freeze until edges are solid.\", \"Transfer to processor and blend until smooth again.\", \\n\"Fold in remaining 2 cups of blueberries.\", \"Pour into plastic mold and freeze overnight. Let soften slightly to serve.\")'"
            ],
            "application/vnd.google.colaboratory.intrinsic+json": {
              "type": "string"
            }
          },
          "metadata": {},
          "execution_count": 23
        }
      ],
      "source": [
        "# Before\n",
        "df_preprocessing['RecipeInstructions'][0]"
      ]
    },
    {
      "cell_type": "code",
      "source": [
        "df_preprocessing['Name'][0]"
      ],
      "metadata": {
        "colab": {
          "base_uri": "https://localhost:8080/",
          "height": 35
        },
        "id": "d3GfALRPoskz",
        "outputId": "dded7e32-9ca9-4c7d-91ba-83c9be86b64d"
      },
      "execution_count": 24,
      "outputs": [
        {
          "output_type": "execute_result",
          "data": {
            "text/plain": [
              "'Low-Fat Berry Blue Frozen Dessert'"
            ],
            "application/vnd.google.colaboratory.intrinsic+json": {
              "type": "string"
            }
          },
          "metadata": {},
          "execution_count": 24
        }
      ]
    },
    {
      "cell_type": "code",
      "source": [
        "df_cleaning=df_preprocessing.copy()"
      ],
      "metadata": {
        "id": "oCtcmV-pcVPo"
      },
      "execution_count": 25,
      "outputs": []
    },
    {
      "cell_type": "code",
      "source": [
        "def cleaning(text):\n",
        "    text = re.sub(r\"[c\\(\\)\\\"]\", \"\", str(text))\n",
        "    return text"
      ],
      "metadata": {
        "id": "0GLwPxN4adZ3"
      },
      "execution_count": 26,
      "outputs": []
    },
    {
      "cell_type": "code",
      "source": [
        "df_cleaning['NameClean'] = df_cleaning['Name'].apply(cleaning)\n",
        "df_cleaning['RecipeIngredientPartsClean'] = df_cleaning['RecipeIngredientParts'].str.replace(r\"[c\\(\\)\\\"]\", \"\", regex=True) # Removing unwanted characters\n",
        "df_cleaning['RecipeInstructionsClean'] = df_cleaning['RecipeInstructions'].str.replace(r\"[c\\(\\)\\\"]\", \"\", regex=True).str.replace('\\n', '', regex=False)  # Removing unwanted characters"
      ],
      "metadata": {
        "id": "R45Luer35ld7"
      },
      "execution_count": 27,
      "outputs": []
    },
    {
      "cell_type": "code",
      "source": [
        "# After\n",
        "df_cleaning['NameClean'][0]"
      ],
      "metadata": {
        "colab": {
          "base_uri": "https://localhost:8080/",
          "height": 35
        },
        "id": "46hr9tsUpOov",
        "outputId": "251be682-7c1b-4b5a-f1d7-b0123c294119"
      },
      "execution_count": 28,
      "outputs": [
        {
          "output_type": "execute_result",
          "data": {
            "text/plain": [
              "'Low-Fat Berry Blue Frozen Dessert'"
            ],
            "application/vnd.google.colaboratory.intrinsic+json": {
              "type": "string"
            }
          },
          "metadata": {},
          "execution_count": 28
        }
      ]
    },
    {
      "cell_type": "code",
      "execution_count": 29,
      "metadata": {
        "id": "YhzGZc7O32R4",
        "colab": {
          "base_uri": "https://localhost:8080/",
          "height": 35
        },
        "outputId": "12df22ab-af80-4e3d-fd8c-cefda6eb8031"
      },
      "outputs": [
        {
          "output_type": "execute_result",
          "data": {
            "text/plain": [
              "'blueberries, granulated sugar, vanilla yogurt, lemon juie'"
            ],
            "application/vnd.google.colaboratory.intrinsic+json": {
              "type": "string"
            }
          },
          "metadata": {},
          "execution_count": 29
        }
      ],
      "source": [
        "# After\n",
        "df_cleaning['RecipeIngredientPartsClean'][0]"
      ]
    },
    {
      "cell_type": "code",
      "execution_count": 30,
      "metadata": {
        "id": "1ocr32y-34HH",
        "colab": {
          "base_uri": "https://localhost:8080/",
          "height": 87
        },
        "outputId": "db82d171-c67a-476d-f890-cc6929a8fbf7"
      },
      "outputs": [
        {
          "output_type": "execute_result",
          "data": {
            "text/plain": [
              "\"Toss 2 ups berries with sugar., Let stand for 45 minutes, stirring oasionally., Transfer berry-sugar mixture to food proessor., Add yogurt and proess until smooth., Strain through fine sieve. Pour into baking pan or transfer to ie ream maker and proess aording to manufaturers' diretions. Freeze unovered until edges are solid but entre is soft.  Transfer to proessor and blend until smooth again., Return to pan and freeze until edges are solid., Transfer to proessor and blend until smooth again., Fold in remaining 2 ups of blueberries., Pour into plasti mold and freeze overnight. Let soften slightly to serve.\""
            ],
            "application/vnd.google.colaboratory.intrinsic+json": {
              "type": "string"
            }
          },
          "metadata": {},
          "execution_count": 30
        }
      ],
      "source": [
        "# After\n",
        "df_cleaning['RecipeInstructionsClean'][0]"
      ]
    },
    {
      "cell_type": "markdown",
      "metadata": {
        "id": "aFnUkkvr4GCd"
      },
      "source": [
        "### Text Preprocessing (Remove Space, Case Folding) in RecipeIngredientParts & RecipeInstructions"
      ]
    },
    {
      "cell_type": "code",
      "execution_count": 31,
      "metadata": {
        "id": "4mvyKSbO3H7g"
      },
      "outputs": [],
      "source": [
        "def remove_space_case_folding(ingredients):\n",
        "    ingredients = re.sub(r'[^a-zA-Z0-9\\s]', '', ingredients)\n",
        "    ingredients = ingredients.lower() # Case folding\n",
        "    return ingredients"
      ]
    },
    {
      "cell_type": "code",
      "source": [
        "df_casefolding=df_cleaning.copy()"
      ],
      "metadata": {
        "id": "PqlH5O1fUUCJ"
      },
      "execution_count": 32,
      "outputs": []
    },
    {
      "cell_type": "code",
      "execution_count": 33,
      "metadata": {
        "id": "ppIoISY13mF6",
        "colab": {
          "base_uri": "https://localhost:8080/",
          "height": 35
        },
        "outputId": "7d5aca98-bdba-44ac-e267-de834f6cb475"
      },
      "outputs": [
        {
          "output_type": "execute_result",
          "data": {
            "text/plain": [
              "'blueberries, granulated sugar, vanilla yogurt, lemon juie'"
            ],
            "application/vnd.google.colaboratory.intrinsic+json": {
              "type": "string"
            }
          },
          "metadata": {},
          "execution_count": 33
        }
      ],
      "source": [
        "# Before\n",
        "df_cleaning['RecipeIngredientPartsClean'][0]"
      ]
    },
    {
      "cell_type": "code",
      "source": [
        "df_cleaning['RecipeIngredientPartsClean'][0]"
      ],
      "metadata": {
        "id": "zyRDOgMXUe9q",
        "colab": {
          "base_uri": "https://localhost:8080/",
          "height": 35
        },
        "outputId": "5dd575b7-be12-4775-bfec-eb9e8ce6878c"
      },
      "execution_count": 34,
      "outputs": [
        {
          "output_type": "execute_result",
          "data": {
            "text/plain": [
              "'blueberries, granulated sugar, vanilla yogurt, lemon juie'"
            ],
            "application/vnd.google.colaboratory.intrinsic+json": {
              "type": "string"
            }
          },
          "metadata": {},
          "execution_count": 34
        }
      ]
    },
    {
      "cell_type": "code",
      "source": [
        "df_cleaning['NameClean'][0]"
      ],
      "metadata": {
        "colab": {
          "base_uri": "https://localhost:8080/",
          "height": 35
        },
        "id": "ULge7U8sZe-S",
        "outputId": "68a49c6a-85b1-4467-fc90-8368f247a5db"
      },
      "execution_count": 35,
      "outputs": [
        {
          "output_type": "execute_result",
          "data": {
            "text/plain": [
              "'Low-Fat Berry Blue Frozen Dessert'"
            ],
            "application/vnd.google.colaboratory.intrinsic+json": {
              "type": "string"
            }
          },
          "metadata": {},
          "execution_count": 35
        }
      ]
    },
    {
      "cell_type": "code",
      "execution_count": 36,
      "metadata": {
        "id": "Y4NsMkXW3KQe"
      },
      "outputs": [],
      "source": [
        "df_casefolding['RecipeIngredientPartsClean'] = df_casefolding['RecipeIngredientPartsClean'].apply(remove_space_case_folding)"
      ]
    },
    {
      "cell_type": "code",
      "source": [
        "df_casefolding['RecipeInstructionsClean'] = df_casefolding['RecipeInstructionsClean'].apply(remove_space_case_folding)"
      ],
      "metadata": {
        "id": "3R8IEPMvVqsv"
      },
      "execution_count": 37,
      "outputs": []
    },
    {
      "cell_type": "code",
      "source": [
        "df_casefolding['NameClean'] = df_casefolding['NameClean'].apply(remove_space_case_folding)"
      ],
      "metadata": {
        "id": "mEx1dmuaZktY"
      },
      "execution_count": 38,
      "outputs": []
    },
    {
      "cell_type": "code",
      "execution_count": 39,
      "metadata": {
        "id": "dE-G-Y7P3cko",
        "colab": {
          "base_uri": "https://localhost:8080/",
          "height": 35
        },
        "outputId": "c05c1b36-a0f8-4f97-94da-1f9b24eec63f"
      },
      "outputs": [
        {
          "output_type": "execute_result",
          "data": {
            "text/plain": [
              "'blueberries granulated sugar vanilla yogurt lemon juie'"
            ],
            "application/vnd.google.colaboratory.intrinsic+json": {
              "type": "string"
            }
          },
          "metadata": {},
          "execution_count": 39
        }
      ],
      "source": [
        "# After\n",
        "df_casefolding['RecipeIngredientPartsClean'][0]"
      ]
    },
    {
      "cell_type": "code",
      "source": [
        "#After\n",
        "df_casefolding['RecipeInstructionsClean'][0]"
      ],
      "metadata": {
        "id": "wm4rWxFsVwdy",
        "colab": {
          "base_uri": "https://localhost:8080/",
          "height": 87
        },
        "outputId": "2c12132d-4450-4ea6-991b-a72532387b2c"
      },
      "execution_count": 40,
      "outputs": [
        {
          "output_type": "execute_result",
          "data": {
            "text/plain": [
              "'toss 2 ups berries with sugar let stand for 45 minutes stirring oasionally transfer berrysugar mixture to food proessor add yogurt and proess until smooth strain through fine sieve pour into baking pan or transfer to ie ream maker and proess aording to manufaturers diretions freeze unovered until edges are solid but entre is soft  transfer to proessor and blend until smooth again return to pan and freeze until edges are solid transfer to proessor and blend until smooth again fold in remaining 2 ups of blueberries pour into plasti mold and freeze overnight let soften slightly to serve'"
            ],
            "application/vnd.google.colaboratory.intrinsic+json": {
              "type": "string"
            }
          },
          "metadata": {},
          "execution_count": 40
        }
      ]
    },
    {
      "cell_type": "code",
      "source": [
        "# After\n",
        "df_casefolding['NameClean'][0]"
      ],
      "metadata": {
        "colab": {
          "base_uri": "https://localhost:8080/",
          "height": 35
        },
        "id": "20lvR3_vZnk0",
        "outputId": "1c58725a-9e72-4da9-b013-369fae71b55c"
      },
      "execution_count": 41,
      "outputs": [
        {
          "output_type": "execute_result",
          "data": {
            "text/plain": [
              "'lowfat berry blue frozen dessert'"
            ],
            "application/vnd.google.colaboratory.intrinsic+json": {
              "type": "string"
            }
          },
          "metadata": {},
          "execution_count": 41
        }
      ]
    },
    {
      "cell_type": "markdown",
      "source": [
        "### Lemmatization"
      ],
      "metadata": {
        "id": "LVffFa4sylLE"
      }
    },
    {
      "cell_type": "code",
      "source": [
        "def lemmatization(ingredients):\n",
        "  words = ingredients.split()\n",
        "  lemmatized_words = [lemmatizer.lemmatize(word) for word in words if word.lower() not in stop_words]\n",
        "  return ' '.join(lemmatized_words)"
      ],
      "metadata": {
        "id": "DdO0TRoeyn8Y"
      },
      "execution_count": 42,
      "outputs": []
    },
    {
      "cell_type": "code",
      "source": [
        "df_lemmatization=df_casefolding.copy()"
      ],
      "metadata": {
        "id": "TK6I175DzPO9"
      },
      "execution_count": 43,
      "outputs": []
    },
    {
      "cell_type": "code",
      "source": [
        "# Before\n",
        "df_casefolding['RecipeIngredientPartsClean'][0]"
      ],
      "metadata": {
        "id": "pT63nv7IzRL9",
        "colab": {
          "base_uri": "https://localhost:8080/",
          "height": 35
        },
        "outputId": "91bd6f66-ec93-4ae9-91cd-ac3b7c201186"
      },
      "execution_count": 44,
      "outputs": [
        {
          "output_type": "execute_result",
          "data": {
            "text/plain": [
              "'blueberries granulated sugar vanilla yogurt lemon juie'"
            ],
            "application/vnd.google.colaboratory.intrinsic+json": {
              "type": "string"
            }
          },
          "metadata": {},
          "execution_count": 44
        }
      ]
    },
    {
      "cell_type": "code",
      "source": [
        "# Before\n",
        "df_casefolding['RecipeInstructionsClean'][0]"
      ],
      "metadata": {
        "id": "nUXnRrURza90",
        "colab": {
          "base_uri": "https://localhost:8080/",
          "height": 87
        },
        "outputId": "bae19b4b-8984-4f69-a557-a16a838031da"
      },
      "execution_count": 45,
      "outputs": [
        {
          "output_type": "execute_result",
          "data": {
            "text/plain": [
              "'toss 2 ups berries with sugar let stand for 45 minutes stirring oasionally transfer berrysugar mixture to food proessor add yogurt and proess until smooth strain through fine sieve pour into baking pan or transfer to ie ream maker and proess aording to manufaturers diretions freeze unovered until edges are solid but entre is soft  transfer to proessor and blend until smooth again return to pan and freeze until edges are solid transfer to proessor and blend until smooth again fold in remaining 2 ups of blueberries pour into plasti mold and freeze overnight let soften slightly to serve'"
            ],
            "application/vnd.google.colaboratory.intrinsic+json": {
              "type": "string"
            }
          },
          "metadata": {},
          "execution_count": 45
        }
      ]
    },
    {
      "cell_type": "code",
      "source": [
        "df_lemmatization['RecipeIngredientPartsClean'] = df_lemmatization['RecipeIngredientPartsClean'].apply(lemmatization)"
      ],
      "metadata": {
        "id": "_3Kwwj0JzTGG"
      },
      "execution_count": 46,
      "outputs": []
    },
    {
      "cell_type": "code",
      "source": [
        "df_lemmatization['RecipeInstructionsClean'] = df_lemmatization['RecipeInstructionsClean'].apply(lemmatization)"
      ],
      "metadata": {
        "id": "owLd04K8ztZ-"
      },
      "execution_count": 47,
      "outputs": []
    },
    {
      "cell_type": "code",
      "source": [
        "# After\n",
        "df_lemmatization['RecipeIngredientPartsClean'][0]"
      ],
      "metadata": {
        "id": "q8MWn1RfzvGi",
        "colab": {
          "base_uri": "https://localhost:8080/",
          "height": 35
        },
        "outputId": "8bcf578d-c4de-4afd-9f76-587a6552e13e"
      },
      "execution_count": 48,
      "outputs": [
        {
          "output_type": "execute_result",
          "data": {
            "text/plain": [
              "'blueberry granulated sugar vanilla yogurt lemon juie'"
            ],
            "application/vnd.google.colaboratory.intrinsic+json": {
              "type": "string"
            }
          },
          "metadata": {},
          "execution_count": 48
        }
      ]
    },
    {
      "cell_type": "code",
      "source": [
        "df_lemmatization['RecipeInstructionsClean'][0]"
      ],
      "metadata": {
        "id": "obkx4q6pz6i1",
        "colab": {
          "base_uri": "https://localhost:8080/",
          "height": 70
        },
        "outputId": "f24f6848-3bbe-4d5a-86fd-99a0c8c647b5"
      },
      "execution_count": 49,
      "outputs": [
        {
          "output_type": "execute_result",
          "data": {
            "text/plain": [
              "'toss 2 ups berry sugar let stand 45 minute stirring oasionally transfer berrysugar mixture food proessor add yogurt proess smooth strain fine sieve pour baking pan transfer ie ream maker proess aording manufaturers diretions freeze unovered edge solid entre soft transfer proessor blend smooth return pan freeze edge solid transfer proessor blend smooth fold remaining 2 ups blueberry pour plasti mold freeze overnight let soften slightly serve'"
            ],
            "application/vnd.google.colaboratory.intrinsic+json": {
              "type": "string"
            }
          },
          "metadata": {},
          "execution_count": 49
        }
      ]
    },
    {
      "cell_type": "markdown",
      "source": [
        "### Tokennizer"
      ],
      "metadata": {
        "id": "yF11MEy93BN3"
      }
    },
    {
      "cell_type": "code",
      "source": [
        "def tokenize_sentence(text):\n",
        "    tokens = word_tokenize(text)  # Tokenize the input string\n",
        "    return ' '.join(tokens)  # Join the tokens back into a single string"
      ],
      "metadata": {
        "id": "OpXAW8Oz4ujo"
      },
      "execution_count": 50,
      "outputs": []
    },
    {
      "cell_type": "code",
      "source": [
        "df_tokenization=df_lemmatization.copy()"
      ],
      "metadata": {
        "id": "YBxkUds065PI"
      },
      "execution_count": 51,
      "outputs": []
    },
    {
      "cell_type": "code",
      "source": [
        "# Before\n",
        "df_lemmatization['RecipeIngredientPartsClean'][0]"
      ],
      "metadata": {
        "id": "Tagc9xF43umo",
        "colab": {
          "base_uri": "https://localhost:8080/",
          "height": 35
        },
        "outputId": "81707b0b-4f30-4075-9dac-6f6257d8def8"
      },
      "execution_count": 52,
      "outputs": [
        {
          "output_type": "execute_result",
          "data": {
            "text/plain": [
              "'blueberry granulated sugar vanilla yogurt lemon juie'"
            ],
            "application/vnd.google.colaboratory.intrinsic+json": {
              "type": "string"
            }
          },
          "metadata": {},
          "execution_count": 52
        }
      ]
    },
    {
      "cell_type": "code",
      "source": [
        "# Before\n",
        "df_lemmatization['NameClean'][0]"
      ],
      "metadata": {
        "colab": {
          "base_uri": "https://localhost:8080/",
          "height": 35
        },
        "id": "H5B-f_Kb9Zs3",
        "outputId": "c366805c-7cdb-4dd0-b8a2-356f3dc2589f"
      },
      "execution_count": 53,
      "outputs": [
        {
          "output_type": "execute_result",
          "data": {
            "text/plain": [
              "'lowfat berry blue frozen dessert'"
            ],
            "application/vnd.google.colaboratory.intrinsic+json": {
              "type": "string"
            }
          },
          "metadata": {},
          "execution_count": 53
        }
      ]
    },
    {
      "cell_type": "code",
      "source": [
        "df_tokenization['RecipeIngredientPartsToken'] = df_tokenization['RecipeIngredientPartsClean'].apply(tokenize_sentence)"
      ],
      "metadata": {
        "id": "uxq8Q_2C30Yr"
      },
      "execution_count": 54,
      "outputs": []
    },
    {
      "cell_type": "code",
      "source": [
        "df_tokenization['NameToken'] = df_tokenization['NameClean'].apply(tokenize_sentence)"
      ],
      "metadata": {
        "id": "IrhfQ4GP9dZT"
      },
      "execution_count": 55,
      "outputs": []
    },
    {
      "cell_type": "code",
      "source": [
        "# After\n",
        "df_tokenization['RecipeIngredientPartsToken'][0]"
      ],
      "metadata": {
        "id": "ZxG4FU9B6L8N",
        "colab": {
          "base_uri": "https://localhost:8080/",
          "height": 35
        },
        "outputId": "f9c7ff97-c034-4e93-b7cb-abdc48a7ae11"
      },
      "execution_count": 56,
      "outputs": [
        {
          "output_type": "execute_result",
          "data": {
            "text/plain": [
              "'blueberry granulated sugar vanilla yogurt lemon juie'"
            ],
            "application/vnd.google.colaboratory.intrinsic+json": {
              "type": "string"
            }
          },
          "metadata": {},
          "execution_count": 56
        }
      ]
    },
    {
      "cell_type": "code",
      "source": [
        "# After\n",
        "df_tokenization['NameToken'][0]"
      ],
      "metadata": {
        "colab": {
          "base_uri": "https://localhost:8080/",
          "height": 35
        },
        "id": "VLx6zHDR-NLx",
        "outputId": "e351c085-d7fd-4452-9bac-623ece7f48d2"
      },
      "execution_count": 57,
      "outputs": [
        {
          "output_type": "execute_result",
          "data": {
            "text/plain": [
              "'lowfat berry blue frozen dessert'"
            ],
            "application/vnd.google.colaboratory.intrinsic+json": {
              "type": "string"
            }
          },
          "metadata": {},
          "execution_count": 57
        }
      ]
    },
    {
      "cell_type": "markdown",
      "source": [
        "### Combined"
      ],
      "metadata": {
        "id": "L5H-7NHJy984"
      }
    },
    {
      "cell_type": "code",
      "source": [
        "df_tokenization['Combined'] = df_tokenization['RecipeIngredientPartsToken'] + df_tokenization['NameToken'] + df_tokenization['RecipeInstructionsClean']\n",
        "df_tokenization.head(2)"
      ],
      "metadata": {
        "colab": {
          "base_uri": "https://localhost:8080/",
          "height": 234
        },
        "id": "hQJYUSHQ_NdM",
        "outputId": "31634d7f-ac6d-455d-89cc-d98192cd5939"
      },
      "execution_count": 58,
      "outputs": [
        {
          "output_type": "execute_result",
          "data": {
            "text/plain": [
              "                                Name  \\\n",
              "0  Low-Fat Berry Blue Frozen Dessert   \n",
              "1     Carina's Tofu-Vegetable Kebabs   \n",
              "\n",
              "                               RecipeIngredientParts  \\\n",
              "0  c(\"blueberries\", \"granulated sugar\", \"vanilla ...   \n",
              "1  c(\"extra firm tofu\", \"eggplant\", \"zucchini\", \"...   \n",
              "\n",
              "                                  RecipeInstructions  \\\n",
              "0  c(\"Toss 2 cups berries with sugar.\", \"Let stan...   \n",
              "1  c(\"Drain the tofu, carefully squeezing out exc...   \n",
              "\n",
              "                          NameClean  \\\n",
              "0  lowfat berry blue frozen dessert   \n",
              "1      carinas tofuvegetable kebabs   \n",
              "\n",
              "                          RecipeIngredientPartsClean  \\\n",
              "0  blueberry granulated sugar vanilla yogurt lemo...   \n",
              "1  extra firm tofu eggplant zuhini mushroom soy s...   \n",
              "\n",
              "                             RecipeInstructionsClean  \\\n",
              "0  toss 2 ups berry sugar let stand 45 minute sti...   \n",
              "1  drain tofu arefully squeezing ex water pat dry...   \n",
              "\n",
              "                          RecipeIngredientPartsToken  \\\n",
              "0  blueberry granulated sugar vanilla yogurt lemo...   \n",
              "1  extra firm tofu eggplant zuhini mushroom soy s...   \n",
              "\n",
              "                          NameToken  \\\n",
              "0  lowfat berry blue frozen dessert   \n",
              "1      carinas tofuvegetable kebabs   \n",
              "\n",
              "                                            Combined  \n",
              "0  blueberry granulated sugar vanilla yogurt lemo...  \n",
              "1  extra firm tofu eggplant zuhini mushroom soy s...  "
            ],
            "text/html": [
              "\n",
              "  <div id=\"df-a58db52c-c3d9-4f33-9030-453af3ba1d70\" class=\"colab-df-container\">\n",
              "    <div>\n",
              "<style scoped>\n",
              "    .dataframe tbody tr th:only-of-type {\n",
              "        vertical-align: middle;\n",
              "    }\n",
              "\n",
              "    .dataframe tbody tr th {\n",
              "        vertical-align: top;\n",
              "    }\n",
              "\n",
              "    .dataframe thead th {\n",
              "        text-align: right;\n",
              "    }\n",
              "</style>\n",
              "<table border=\"1\" class=\"dataframe\">\n",
              "  <thead>\n",
              "    <tr style=\"text-align: right;\">\n",
              "      <th></th>\n",
              "      <th>Name</th>\n",
              "      <th>RecipeIngredientParts</th>\n",
              "      <th>RecipeInstructions</th>\n",
              "      <th>NameClean</th>\n",
              "      <th>RecipeIngredientPartsClean</th>\n",
              "      <th>RecipeInstructionsClean</th>\n",
              "      <th>RecipeIngredientPartsToken</th>\n",
              "      <th>NameToken</th>\n",
              "      <th>Combined</th>\n",
              "    </tr>\n",
              "  </thead>\n",
              "  <tbody>\n",
              "    <tr>\n",
              "      <th>0</th>\n",
              "      <td>Low-Fat Berry Blue Frozen Dessert</td>\n",
              "      <td>c(\"blueberries\", \"granulated sugar\", \"vanilla ...</td>\n",
              "      <td>c(\"Toss 2 cups berries with sugar.\", \"Let stan...</td>\n",
              "      <td>lowfat berry blue frozen dessert</td>\n",
              "      <td>blueberry granulated sugar vanilla yogurt lemo...</td>\n",
              "      <td>toss 2 ups berry sugar let stand 45 minute sti...</td>\n",
              "      <td>blueberry granulated sugar vanilla yogurt lemo...</td>\n",
              "      <td>lowfat berry blue frozen dessert</td>\n",
              "      <td>blueberry granulated sugar vanilla yogurt lemo...</td>\n",
              "    </tr>\n",
              "    <tr>\n",
              "      <th>1</th>\n",
              "      <td>Carina's Tofu-Vegetable Kebabs</td>\n",
              "      <td>c(\"extra firm tofu\", \"eggplant\", \"zucchini\", \"...</td>\n",
              "      <td>c(\"Drain the tofu, carefully squeezing out exc...</td>\n",
              "      <td>carinas tofuvegetable kebabs</td>\n",
              "      <td>extra firm tofu eggplant zuhini mushroom soy s...</td>\n",
              "      <td>drain tofu arefully squeezing ex water pat dry...</td>\n",
              "      <td>extra firm tofu eggplant zuhini mushroom soy s...</td>\n",
              "      <td>carinas tofuvegetable kebabs</td>\n",
              "      <td>extra firm tofu eggplant zuhini mushroom soy s...</td>\n",
              "    </tr>\n",
              "  </tbody>\n",
              "</table>\n",
              "</div>\n",
              "    <div class=\"colab-df-buttons\">\n",
              "\n",
              "  <div class=\"colab-df-container\">\n",
              "    <button class=\"colab-df-convert\" onclick=\"convertToInteractive('df-a58db52c-c3d9-4f33-9030-453af3ba1d70')\"\n",
              "            title=\"Convert this dataframe to an interactive table.\"\n",
              "            style=\"display:none;\">\n",
              "\n",
              "  <svg xmlns=\"http://www.w3.org/2000/svg\" height=\"24px\" viewBox=\"0 -960 960 960\">\n",
              "    <path d=\"M120-120v-720h720v720H120Zm60-500h600v-160H180v160Zm220 220h160v-160H400v160Zm0 220h160v-160H400v160ZM180-400h160v-160H180v160Zm440 0h160v-160H620v160ZM180-180h160v-160H180v160Zm440 0h160v-160H620v160Z\"/>\n",
              "  </svg>\n",
              "    </button>\n",
              "\n",
              "  <style>\n",
              "    .colab-df-container {\n",
              "      display:flex;\n",
              "      gap: 12px;\n",
              "    }\n",
              "\n",
              "    .colab-df-convert {\n",
              "      background-color: #E8F0FE;\n",
              "      border: none;\n",
              "      border-radius: 50%;\n",
              "      cursor: pointer;\n",
              "      display: none;\n",
              "      fill: #1967D2;\n",
              "      height: 32px;\n",
              "      padding: 0 0 0 0;\n",
              "      width: 32px;\n",
              "    }\n",
              "\n",
              "    .colab-df-convert:hover {\n",
              "      background-color: #E2EBFA;\n",
              "      box-shadow: 0px 1px 2px rgba(60, 64, 67, 0.3), 0px 1px 3px 1px rgba(60, 64, 67, 0.15);\n",
              "      fill: #174EA6;\n",
              "    }\n",
              "\n",
              "    .colab-df-buttons div {\n",
              "      margin-bottom: 4px;\n",
              "    }\n",
              "\n",
              "    [theme=dark] .colab-df-convert {\n",
              "      background-color: #3B4455;\n",
              "      fill: #D2E3FC;\n",
              "    }\n",
              "\n",
              "    [theme=dark] .colab-df-convert:hover {\n",
              "      background-color: #434B5C;\n",
              "      box-shadow: 0px 1px 3px 1px rgba(0, 0, 0, 0.15);\n",
              "      filter: drop-shadow(0px 1px 2px rgba(0, 0, 0, 0.3));\n",
              "      fill: #FFFFFF;\n",
              "    }\n",
              "  </style>\n",
              "\n",
              "    <script>\n",
              "      const buttonEl =\n",
              "        document.querySelector('#df-a58db52c-c3d9-4f33-9030-453af3ba1d70 button.colab-df-convert');\n",
              "      buttonEl.style.display =\n",
              "        google.colab.kernel.accessAllowed ? 'block' : 'none';\n",
              "\n",
              "      async function convertToInteractive(key) {\n",
              "        const element = document.querySelector('#df-a58db52c-c3d9-4f33-9030-453af3ba1d70');\n",
              "        const dataTable =\n",
              "          await google.colab.kernel.invokeFunction('convertToInteractive',\n",
              "                                                    [key], {});\n",
              "        if (!dataTable) return;\n",
              "\n",
              "        const docLinkHtml = 'Like what you see? Visit the ' +\n",
              "          '<a target=\"_blank\" href=https://colab.research.google.com/notebooks/data_table.ipynb>data table notebook</a>'\n",
              "          + ' to learn more about interactive tables.';\n",
              "        element.innerHTML = '';\n",
              "        dataTable['output_type'] = 'display_data';\n",
              "        await google.colab.output.renderOutput(dataTable, element);\n",
              "        const docLink = document.createElement('div');\n",
              "        docLink.innerHTML = docLinkHtml;\n",
              "        element.appendChild(docLink);\n",
              "      }\n",
              "    </script>\n",
              "  </div>\n",
              "\n",
              "\n",
              "<div id=\"df-67e20bc5-7765-42a4-9c9b-2c461c89c5a9\">\n",
              "  <button class=\"colab-df-quickchart\" onclick=\"quickchart('df-67e20bc5-7765-42a4-9c9b-2c461c89c5a9')\"\n",
              "            title=\"Suggest charts\"\n",
              "            style=\"display:none;\">\n",
              "\n",
              "<svg xmlns=\"http://www.w3.org/2000/svg\" height=\"24px\"viewBox=\"0 0 24 24\"\n",
              "     width=\"24px\">\n",
              "    <g>\n",
              "        <path d=\"M19 3H5c-1.1 0-2 .9-2 2v14c0 1.1.9 2 2 2h14c1.1 0 2-.9 2-2V5c0-1.1-.9-2-2-2zM9 17H7v-7h2v7zm4 0h-2V7h2v10zm4 0h-2v-4h2v4z\"/>\n",
              "    </g>\n",
              "</svg>\n",
              "  </button>\n",
              "\n",
              "<style>\n",
              "  .colab-df-quickchart {\n",
              "      --bg-color: #E8F0FE;\n",
              "      --fill-color: #1967D2;\n",
              "      --hover-bg-color: #E2EBFA;\n",
              "      --hover-fill-color: #174EA6;\n",
              "      --disabled-fill-color: #AAA;\n",
              "      --disabled-bg-color: #DDD;\n",
              "  }\n",
              "\n",
              "  [theme=dark] .colab-df-quickchart {\n",
              "      --bg-color: #3B4455;\n",
              "      --fill-color: #D2E3FC;\n",
              "      --hover-bg-color: #434B5C;\n",
              "      --hover-fill-color: #FFFFFF;\n",
              "      --disabled-bg-color: #3B4455;\n",
              "      --disabled-fill-color: #666;\n",
              "  }\n",
              "\n",
              "  .colab-df-quickchart {\n",
              "    background-color: var(--bg-color);\n",
              "    border: none;\n",
              "    border-radius: 50%;\n",
              "    cursor: pointer;\n",
              "    display: none;\n",
              "    fill: var(--fill-color);\n",
              "    height: 32px;\n",
              "    padding: 0;\n",
              "    width: 32px;\n",
              "  }\n",
              "\n",
              "  .colab-df-quickchart:hover {\n",
              "    background-color: var(--hover-bg-color);\n",
              "    box-shadow: 0 1px 2px rgba(60, 64, 67, 0.3), 0 1px 3px 1px rgba(60, 64, 67, 0.15);\n",
              "    fill: var(--button-hover-fill-color);\n",
              "  }\n",
              "\n",
              "  .colab-df-quickchart-complete:disabled,\n",
              "  .colab-df-quickchart-complete:disabled:hover {\n",
              "    background-color: var(--disabled-bg-color);\n",
              "    fill: var(--disabled-fill-color);\n",
              "    box-shadow: none;\n",
              "  }\n",
              "\n",
              "  .colab-df-spinner {\n",
              "    border: 2px solid var(--fill-color);\n",
              "    border-color: transparent;\n",
              "    border-bottom-color: var(--fill-color);\n",
              "    animation:\n",
              "      spin 1s steps(1) infinite;\n",
              "  }\n",
              "\n",
              "  @keyframes spin {\n",
              "    0% {\n",
              "      border-color: transparent;\n",
              "      border-bottom-color: var(--fill-color);\n",
              "      border-left-color: var(--fill-color);\n",
              "    }\n",
              "    20% {\n",
              "      border-color: transparent;\n",
              "      border-left-color: var(--fill-color);\n",
              "      border-top-color: var(--fill-color);\n",
              "    }\n",
              "    30% {\n",
              "      border-color: transparent;\n",
              "      border-left-color: var(--fill-color);\n",
              "      border-top-color: var(--fill-color);\n",
              "      border-right-color: var(--fill-color);\n",
              "    }\n",
              "    40% {\n",
              "      border-color: transparent;\n",
              "      border-right-color: var(--fill-color);\n",
              "      border-top-color: var(--fill-color);\n",
              "    }\n",
              "    60% {\n",
              "      border-color: transparent;\n",
              "      border-right-color: var(--fill-color);\n",
              "    }\n",
              "    80% {\n",
              "      border-color: transparent;\n",
              "      border-right-color: var(--fill-color);\n",
              "      border-bottom-color: var(--fill-color);\n",
              "    }\n",
              "    90% {\n",
              "      border-color: transparent;\n",
              "      border-bottom-color: var(--fill-color);\n",
              "    }\n",
              "  }\n",
              "</style>\n",
              "\n",
              "  <script>\n",
              "    async function quickchart(key) {\n",
              "      const quickchartButtonEl =\n",
              "        document.querySelector('#' + key + ' button');\n",
              "      quickchartButtonEl.disabled = true;  // To prevent multiple clicks.\n",
              "      quickchartButtonEl.classList.add('colab-df-spinner');\n",
              "      try {\n",
              "        const charts = await google.colab.kernel.invokeFunction(\n",
              "            'suggestCharts', [key], {});\n",
              "      } catch (error) {\n",
              "        console.error('Error during call to suggestCharts:', error);\n",
              "      }\n",
              "      quickchartButtonEl.classList.remove('colab-df-spinner');\n",
              "      quickchartButtonEl.classList.add('colab-df-quickchart-complete');\n",
              "    }\n",
              "    (() => {\n",
              "      let quickchartButtonEl =\n",
              "        document.querySelector('#df-67e20bc5-7765-42a4-9c9b-2c461c89c5a9 button');\n",
              "      quickchartButtonEl.style.display =\n",
              "        google.colab.kernel.accessAllowed ? 'block' : 'none';\n",
              "    })();\n",
              "  </script>\n",
              "</div>\n",
              "\n",
              "    </div>\n",
              "  </div>\n"
            ],
            "application/vnd.google.colaboratory.intrinsic+json": {
              "type": "dataframe",
              "variable_name": "df_tokenization"
            }
          },
          "metadata": {},
          "execution_count": 58
        }
      ]
    },
    {
      "cell_type": "code",
      "source": [
        "df_combined = df.drop(columns=['Name', 'RecipeIngredientParts','RecipeInstructions']).join(df_tokenization)\n",
        "df_combined = df_combined.drop(columns=['RecipeIngredientParts', 'RecipeInstructions', 'Name', 'NameToken', 'RecipeIngredientPartsToken', 'CookTime', 'PrepTime', 'TotalTime'])"
      ],
      "metadata": {
        "id": "I2KQ6YkEzHaV"
      },
      "execution_count": 59,
      "outputs": []
    },
    {
      "cell_type": "code",
      "source": [
        "df_combined.head(1)"
      ],
      "metadata": {
        "colab": {
          "base_uri": "https://localhost:8080/",
          "height": 188
        },
        "id": "U0wzr5Z119U3",
        "outputId": "2eef8e06-4b8d-4d97-9de6-e3fcbe5f17d4"
      },
      "execution_count": 60,
      "outputs": [
        {
          "output_type": "execute_result",
          "data": {
            "text/plain": [
              "   RecipeId  Calories  FatContent  SaturatedFatContent  CholesterolContent  \\\n",
              "0        38     170.9         2.5                  1.3                 8.0   \n",
              "\n",
              "   SodiumContent  CarbohydrateContent  FiberContent  SugarContent  \\\n",
              "0           29.8                 37.1           3.6          30.2   \n",
              "\n",
              "   ProteinContent                         NameClean  \\\n",
              "0             3.2  lowfat berry blue frozen dessert   \n",
              "\n",
              "                          RecipeIngredientPartsClean  \\\n",
              "0  blueberry granulated sugar vanilla yogurt lemo...   \n",
              "\n",
              "                             RecipeInstructionsClean  \\\n",
              "0  toss 2 ups berry sugar let stand 45 minute sti...   \n",
              "\n",
              "                                            Combined  \n",
              "0  blueberry granulated sugar vanilla yogurt lemo...  "
            ],
            "text/html": [
              "\n",
              "  <div id=\"df-d4de3928-3aa8-4b96-b94d-5e8552eef83d\" class=\"colab-df-container\">\n",
              "    <div>\n",
              "<style scoped>\n",
              "    .dataframe tbody tr th:only-of-type {\n",
              "        vertical-align: middle;\n",
              "    }\n",
              "\n",
              "    .dataframe tbody tr th {\n",
              "        vertical-align: top;\n",
              "    }\n",
              "\n",
              "    .dataframe thead th {\n",
              "        text-align: right;\n",
              "    }\n",
              "</style>\n",
              "<table border=\"1\" class=\"dataframe\">\n",
              "  <thead>\n",
              "    <tr style=\"text-align: right;\">\n",
              "      <th></th>\n",
              "      <th>RecipeId</th>\n",
              "      <th>Calories</th>\n",
              "      <th>FatContent</th>\n",
              "      <th>SaturatedFatContent</th>\n",
              "      <th>CholesterolContent</th>\n",
              "      <th>SodiumContent</th>\n",
              "      <th>CarbohydrateContent</th>\n",
              "      <th>FiberContent</th>\n",
              "      <th>SugarContent</th>\n",
              "      <th>ProteinContent</th>\n",
              "      <th>NameClean</th>\n",
              "      <th>RecipeIngredientPartsClean</th>\n",
              "      <th>RecipeInstructionsClean</th>\n",
              "      <th>Combined</th>\n",
              "    </tr>\n",
              "  </thead>\n",
              "  <tbody>\n",
              "    <tr>\n",
              "      <th>0</th>\n",
              "      <td>38</td>\n",
              "      <td>170.9</td>\n",
              "      <td>2.5</td>\n",
              "      <td>1.3</td>\n",
              "      <td>8.0</td>\n",
              "      <td>29.8</td>\n",
              "      <td>37.1</td>\n",
              "      <td>3.6</td>\n",
              "      <td>30.2</td>\n",
              "      <td>3.2</td>\n",
              "      <td>lowfat berry blue frozen dessert</td>\n",
              "      <td>blueberry granulated sugar vanilla yogurt lemo...</td>\n",
              "      <td>toss 2 ups berry sugar let stand 45 minute sti...</td>\n",
              "      <td>blueberry granulated sugar vanilla yogurt lemo...</td>\n",
              "    </tr>\n",
              "  </tbody>\n",
              "</table>\n",
              "</div>\n",
              "    <div class=\"colab-df-buttons\">\n",
              "\n",
              "  <div class=\"colab-df-container\">\n",
              "    <button class=\"colab-df-convert\" onclick=\"convertToInteractive('df-d4de3928-3aa8-4b96-b94d-5e8552eef83d')\"\n",
              "            title=\"Convert this dataframe to an interactive table.\"\n",
              "            style=\"display:none;\">\n",
              "\n",
              "  <svg xmlns=\"http://www.w3.org/2000/svg\" height=\"24px\" viewBox=\"0 -960 960 960\">\n",
              "    <path d=\"M120-120v-720h720v720H120Zm60-500h600v-160H180v160Zm220 220h160v-160H400v160Zm0 220h160v-160H400v160ZM180-400h160v-160H180v160Zm440 0h160v-160H620v160ZM180-180h160v-160H180v160Zm440 0h160v-160H620v160Z\"/>\n",
              "  </svg>\n",
              "    </button>\n",
              "\n",
              "  <style>\n",
              "    .colab-df-container {\n",
              "      display:flex;\n",
              "      gap: 12px;\n",
              "    }\n",
              "\n",
              "    .colab-df-convert {\n",
              "      background-color: #E8F0FE;\n",
              "      border: none;\n",
              "      border-radius: 50%;\n",
              "      cursor: pointer;\n",
              "      display: none;\n",
              "      fill: #1967D2;\n",
              "      height: 32px;\n",
              "      padding: 0 0 0 0;\n",
              "      width: 32px;\n",
              "    }\n",
              "\n",
              "    .colab-df-convert:hover {\n",
              "      background-color: #E2EBFA;\n",
              "      box-shadow: 0px 1px 2px rgba(60, 64, 67, 0.3), 0px 1px 3px 1px rgba(60, 64, 67, 0.15);\n",
              "      fill: #174EA6;\n",
              "    }\n",
              "\n",
              "    .colab-df-buttons div {\n",
              "      margin-bottom: 4px;\n",
              "    }\n",
              "\n",
              "    [theme=dark] .colab-df-convert {\n",
              "      background-color: #3B4455;\n",
              "      fill: #D2E3FC;\n",
              "    }\n",
              "\n",
              "    [theme=dark] .colab-df-convert:hover {\n",
              "      background-color: #434B5C;\n",
              "      box-shadow: 0px 1px 3px 1px rgba(0, 0, 0, 0.15);\n",
              "      filter: drop-shadow(0px 1px 2px rgba(0, 0, 0, 0.3));\n",
              "      fill: #FFFFFF;\n",
              "    }\n",
              "  </style>\n",
              "\n",
              "    <script>\n",
              "      const buttonEl =\n",
              "        document.querySelector('#df-d4de3928-3aa8-4b96-b94d-5e8552eef83d button.colab-df-convert');\n",
              "      buttonEl.style.display =\n",
              "        google.colab.kernel.accessAllowed ? 'block' : 'none';\n",
              "\n",
              "      async function convertToInteractive(key) {\n",
              "        const element = document.querySelector('#df-d4de3928-3aa8-4b96-b94d-5e8552eef83d');\n",
              "        const dataTable =\n",
              "          await google.colab.kernel.invokeFunction('convertToInteractive',\n",
              "                                                    [key], {});\n",
              "        if (!dataTable) return;\n",
              "\n",
              "        const docLinkHtml = 'Like what you see? Visit the ' +\n",
              "          '<a target=\"_blank\" href=https://colab.research.google.com/notebooks/data_table.ipynb>data table notebook</a>'\n",
              "          + ' to learn more about interactive tables.';\n",
              "        element.innerHTML = '';\n",
              "        dataTable['output_type'] = 'display_data';\n",
              "        await google.colab.output.renderOutput(dataTable, element);\n",
              "        const docLink = document.createElement('div');\n",
              "        docLink.innerHTML = docLinkHtml;\n",
              "        element.appendChild(docLink);\n",
              "      }\n",
              "    </script>\n",
              "  </div>\n",
              "\n",
              "\n",
              "    </div>\n",
              "  </div>\n"
            ],
            "application/vnd.google.colaboratory.intrinsic+json": {
              "type": "dataframe",
              "variable_name": "df_combined"
            }
          },
          "metadata": {},
          "execution_count": 60
        }
      ]
    },
    {
      "cell_type": "markdown",
      "metadata": {
        "id": "Zy4fHUm_LZNG"
      },
      "source": [
        "## **Export Cleaned Data**"
      ]
    },
    {
      "cell_type": "code",
      "execution_count": 61,
      "metadata": {
        "id": "AX1sNPQ2LkGV"
      },
      "outputs": [],
      "source": [
        "df_combined.to_csv('./dataset/preprocessed_recipes.csv', index=False)"
      ]
    }
  ],
  "metadata": {
    "colab": {
      "provenance": [],
      "collapsed_sections": [
        "fuqWunN3AqCQ",
        "9UFoE7nhBn3r",
        "IxPmTdiCFTzX",
        "rnulLcgWFnDo"
      ]
    },
    "kernelspec": {
      "display_name": "Python 3",
      "name": "python3"
    },
    "language_info": {
      "name": "python"
    }
  },
  "nbformat": 4,
  "nbformat_minor": 0
}