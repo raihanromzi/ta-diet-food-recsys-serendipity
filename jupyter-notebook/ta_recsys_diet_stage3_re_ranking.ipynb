{
  "nbformat": 4,
  "nbformat_minor": 0,
  "metadata": {
    "colab": {
      "provenance": []
    },
    "kernelspec": {
      "name": "python3",
      "display_name": "Python 3"
    },
    "language_info": {
      "name": "python"
    }
  },
  "cells": [
    {
      "cell_type": "markdown",
      "source": [
        "Notes: Stage 3 is Re ranking. This will re arrage based on Serendipity Score so the output will be Top 20."
      ],
      "metadata": {
        "id": "sGdOh5RMuT7-"
      }
    },
    {
      "cell_type": "markdown",
      "source": [
        "## **Import Library**"
      ],
      "metadata": {
        "id": "tuTeqh2UufIX"
      }
    },
    {
      "cell_type": "code",
      "execution_count": 29,
      "metadata": {
        "id": "3EbPZp9KRkGs"
      },
      "outputs": [],
      "source": [
        "import pandas as pd\n",
        "import numpy as np\n",
        "from sklearn.metrics.pairwise import cosine_similarity\n",
        "from sklearn.feature_extraction.text import TfidfVectorizer\n",
        "import random"
      ]
    },
    {
      "cell_type": "code",
      "source": [
        "df = pd.read_csv('./dataset/final_candidates.csv')"
      ],
      "metadata": {
        "id": "4uz1twJgqaG5"
      },
      "execution_count": 30,
      "outputs": []
    },
    {
      "cell_type": "code",
      "source": [
        "top_50_df = pd.read_csv('./dataset/top_50_recipes.csv')"
      ],
      "metadata": {
        "id": "XrycoQUCiK9M"
      },
      "execution_count": 31,
      "outputs": []
    },
    {
      "cell_type": "markdown",
      "source": [
        "## **Diversity Score, Serendipity Score**\n",
        "\n",
        "Enhance Diversity and Serendipity:\n",
        "\n",
        "\n",
        "1. Calculate Diversity Scores: Use cosine similarity to calculate a diversity score for each item.\n",
        "2. Calculate Serendipity Scores: Combine relevance scores with diversity scores using a weight (alpha).\n",
        "3. Rank Items by Serendipity: Rank items based on the combined serendipity scores and select the top-N recommendations."
      ],
      "metadata": {
        "id": "GiUgQ1peu7xK"
      }
    },
    {
      "cell_type": "code",
      "source": [
        "# Function to calculate diversity scores\n",
        "def calculate_diversity_scores(similarity_matrix):\n",
        "    diversity_scores = np.sum(similarity_matrix, axis=1) / similarity_matrix.shape[1]\n",
        "    return diversity_scores"
      ],
      "metadata": {
        "id": "nZ3tvosdtRA5"
      },
      "execution_count": 33,
      "outputs": []
    },
    {
      "cell_type": "code",
      "source": [
        "# Function to calculate serendipity scores\n",
        "def calculate_serendipity_scores(relevance_scores, diversity_scores, alpha=0.5):\n",
        "    serendipity_scores = (1 - alpha) * relevance_scores + alpha * diversity_scores\n",
        "    return serendipity_scores"
      ],
      "metadata": {
        "id": "R6aMDG_2tSsc"
      },
      "execution_count": 34,
      "outputs": []
    },
    {
      "cell_type": "code",
      "source": [
        "# Function to rank items by serendipity\n",
        "def rank_items_by_serendipity(serendipity_scores, top_n=20):\n",
        "    ranked_indices = np.argsort(serendipity_scores)[::-1]\n",
        "    return ranked_indices[:top_n]"
      ],
      "metadata": {
        "id": "1JLWIyubtTvn"
      },
      "execution_count": 35,
      "outputs": []
    },
    {
      "cell_type": "code",
      "source": [
        "# Compute TF-IDF vectors for the top 50 foods\n",
        "tfidf_vectorizer = TfidfVectorizer(stop_words='english')\n",
        "tfidf_matrix_top_50 = tfidf_vectorizer.fit_transform(top_50_df['Combined'].fillna(''))"
      ],
      "metadata": {
        "id": "EcNV68iftWJA"
      },
      "execution_count": 36,
      "outputs": []
    },
    {
      "cell_type": "code",
      "source": [
        "# Compute cosine similarity matrix for the top 50 foods\n",
        "cosine_sim_top_50 = cosine_similarity(tfidf_matrix_top_50, tfidf_matrix_top_50)"
      ],
      "metadata": {
        "id": "n0fl9pa9tXOB"
      },
      "execution_count": 37,
      "outputs": []
    },
    {
      "cell_type": "code",
      "source": [
        "# Calculate diversity scores for the top 50 foods\n",
        "diversity_scores_top_50 = calculate_diversity_scores(cosine_sim_top_50)"
      ],
      "metadata": {
        "id": "JP6d1p1wtZ1-"
      },
      "execution_count": 38,
      "outputs": []
    },
    {
      "cell_type": "code",
      "source": [
        "# Use the relevance scores from the neural network\n",
        "relevance_scores_top_50 = top_50_df['relevance_score'].values"
      ],
      "metadata": {
        "id": "6y1JJkqftbG-"
      },
      "execution_count": 39,
      "outputs": []
    },
    {
      "cell_type": "code",
      "source": [
        "# Calculate serendipity scores\n",
        "alpha = 0.5  # Weight for combining relevance and diversity (tune as needed)\n",
        "serendipity_scores_top_50 = calculate_serendipity_scores(relevance_scores_top_50, diversity_scores_top_50, alpha)"
      ],
      "metadata": {
        "id": "MZcgrDGJtcB_"
      },
      "execution_count": 40,
      "outputs": []
    },
    {
      "cell_type": "markdown",
      "source": [
        "## **Ranking The Recommendation Final**\n",
        "\n",
        "Combine and Finalize Recommendations: Extract and display the final recommendations based on the serendipity ranking."
      ],
      "metadata": {
        "id": "wFQ0mskHvNwa"
      }
    },
    {
      "cell_type": "code",
      "source": [
        "# Rank items by serendipity\n",
        "top_n = 20  # Number of final recommendations\n",
        "ranked_indices = rank_items_by_serendipity(serendipity_scores_top_50, top_n)"
      ],
      "metadata": {
        "id": "LvgS5v7Dtc_j"
      },
      "execution_count": 41,
      "outputs": []
    },
    {
      "cell_type": "code",
      "source": [
        "# Extract the final recommendations DataFrame\n",
        "final_recommendations_df = top_50_df.iloc[ranked_indices]"
      ],
      "metadata": {
        "id": "PzAul365tdq5"
      },
      "execution_count": 42,
      "outputs": []
    },
    {
      "cell_type": "code",
      "source": [
        "# Print the final recommendations\n",
        "final_recommendations_df.info()"
      ],
      "metadata": {
        "colab": {
          "base_uri": "https://localhost:8080/"
        },
        "id": "uUsvKJM7teaS",
        "outputId": "9edba68f-2f06-41bf-9554-019154081d22"
      },
      "execution_count": 49,
      "outputs": [
        {
          "output_type": "stream",
          "name": "stdout",
          "text": [
            "<class 'pandas.core.frame.DataFrame'>\n",
            "Index: 20 entries, 1 to 17\n",
            "Data columns (total 19 columns):\n",
            " #   Column                      Non-Null Count  Dtype  \n",
            "---  ------                      --------------  -----  \n",
            " 0   RecipeId                    20 non-null     int64  \n",
            " 1   Calories                    20 non-null     float64\n",
            " 2   FatContent                  20 non-null     float64\n",
            " 3   SaturatedFatContent         20 non-null     float64\n",
            " 4   CholesterolContent          20 non-null     float64\n",
            " 5   SodiumContent               20 non-null     float64\n",
            " 6   CarbohydrateContent         20 non-null     float64\n",
            " 7   FiberContent                20 non-null     float64\n",
            " 8   SugarContent                20 non-null     float64\n",
            " 9   ProteinContent              20 non-null     float64\n",
            " 10  NameClean                   20 non-null     object \n",
            " 11  RecipeIngredientPartsClean  20 non-null     object \n",
            " 12  RecipeInstructionsClean     20 non-null     object \n",
            " 13  Combined                    20 non-null     object \n",
            " 14  cosine_similarity           20 non-null     float64\n",
            " 15  CombinedTokenized           20 non-null     object \n",
            " 16  Embedding                   20 non-null     object \n",
            " 17  relevance_score             20 non-null     float64\n",
            " 18  RelevanceScore              20 non-null     float64\n",
            "dtypes: float64(12), int64(1), object(6)\n",
            "memory usage: 3.1+ KB\n"
          ]
        }
      ]
    },
    {
      "cell_type": "markdown",
      "source": [
        "## **Export The Final Recommendation**"
      ],
      "metadata": {
        "id": "fdHN3N7Auu6v"
      }
    },
    {
      "cell_type": "code",
      "source": [
        "final_recommendations_df.to_csv('./dataset/final_recommendations.csv', index=False)"
      ],
      "metadata": {
        "id": "v74nzziwuwrb"
      },
      "execution_count": 50,
      "outputs": []
    }
  ]
}