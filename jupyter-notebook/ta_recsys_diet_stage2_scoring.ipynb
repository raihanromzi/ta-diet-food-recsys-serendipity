{
  "nbformat": 4,
  "nbformat_minor": 0,
  "metadata": {
    "colab": {
      "provenance": []
    },
    "kernelspec": {
      "name": "python3",
      "display_name": "Python 3"
    },
    "language_info": {
      "name": "python"
    }
  },
  "cells": [
    {
      "cell_type": "markdown",
      "source": [
        "Notes: Stage 2 after Candidate Generation is Scoring. This Step used Neural Networks to Filter top 50 Foods"
      ],
      "metadata": {
        "id": "OT5bC4LpS3-I"
      }
    },
    {
      "cell_type": "markdown",
      "source": [
        "## **Import Library**"
      ],
      "metadata": {
        "id": "lqto6rFGPsca"
      }
    },
    {
      "cell_type": "code",
      "execution_count": 1,
      "metadata": {
        "id": "YMmlO9AZCAxu"
      },
      "outputs": [],
      "source": [
        "import pandas as pd\n",
        "import numpy as np\n",
        "from gensim.models import KeyedVectors\n",
        "from gensim.utils import simple_preprocess\n",
        "import gensim.downloader as api\n",
        "from sklearn.model_selection import train_test_split\n",
        "from tensorflow.keras.models import Sequential\n",
        "from tensorflow.keras.layers import Dense, Dropout\n",
        "from tensorflow.keras.optimizers import Adam\n",
        "from sklearn.metrics import accuracy_score\n",
        "from sklearn.preprocessing import StandardScaler"
      ]
    },
    {
      "cell_type": "code",
      "source": [
        "df = pd.read_csv('./dataset/final_candidates.csv')"
      ],
      "metadata": {
        "id": "SI7c57j4FGab"
      },
      "execution_count": 2,
      "outputs": []
    },
    {
      "cell_type": "code",
      "source": [
        "df.head(2)"
      ],
      "metadata": {
        "colab": {
          "base_uri": "https://localhost:8080/",
          "height": 271
        },
        "id": "3VbS4BNgHxqs",
        "outputId": "23950d82-29c0-49ef-a36f-3d73d32e6e71"
      },
      "execution_count": 3,
      "outputs": [
        {
          "output_type": "execute_result",
          "data": {
            "text/plain": [
              "   RecipeId  Calories  FatContent  SaturatedFatContent  CholesterolContent  \\\n",
              "0     72665     436.4         8.8                  1.6               268.0   \n",
              "1    512673     179.7         9.7                  2.6                82.2   \n",
              "\n",
              "   SodiumContent  CarbohydrateContent  FiberContent  SugarContent  \\\n",
              "0          985.1                 12.2           1.2           7.9   \n",
              "1          815.2                  0.8           0.1           0.2   \n",
              "\n",
              "   ProteinContent                       NameClean  \\\n",
              "0            74.3    ginger and chilli baked fish   \n",
              "1            21.4  fresh fillet of sole in a snap   \n",
              "\n",
              "                          RecipeIngredientPartsClean  \\\n",
              "0  lime fresh ginger fish saue fresh ginger garli...   \n",
              "1  fillet sole garli salt pepper butter olive oil...   \n",
              "\n",
              "                             RecipeInstructionsClean  \\\n",
              "0  preheat oven hot 220 degree c make 4 deep slit...   \n",
              "1  spread garli side fish sprinkle salt pepper la...   \n",
              "\n",
              "                                            Combined  cosine_similarity  \n",
              "0  lime fresh ginger fish saue fresh ginger garli...           0.788153  \n",
              "1  fillet sole garli salt pepper butter olive oil...           0.729026  "
            ],
            "text/html": [
              "\n",
              "  <div id=\"df-fa320a25-7a59-4df0-bec2-6efeb9659681\" class=\"colab-df-container\">\n",
              "    <div>\n",
              "<style scoped>\n",
              "    .dataframe tbody tr th:only-of-type {\n",
              "        vertical-align: middle;\n",
              "    }\n",
              "\n",
              "    .dataframe tbody tr th {\n",
              "        vertical-align: top;\n",
              "    }\n",
              "\n",
              "    .dataframe thead th {\n",
              "        text-align: right;\n",
              "    }\n",
              "</style>\n",
              "<table border=\"1\" class=\"dataframe\">\n",
              "  <thead>\n",
              "    <tr style=\"text-align: right;\">\n",
              "      <th></th>\n",
              "      <th>RecipeId</th>\n",
              "      <th>Calories</th>\n",
              "      <th>FatContent</th>\n",
              "      <th>SaturatedFatContent</th>\n",
              "      <th>CholesterolContent</th>\n",
              "      <th>SodiumContent</th>\n",
              "      <th>CarbohydrateContent</th>\n",
              "      <th>FiberContent</th>\n",
              "      <th>SugarContent</th>\n",
              "      <th>ProteinContent</th>\n",
              "      <th>NameClean</th>\n",
              "      <th>RecipeIngredientPartsClean</th>\n",
              "      <th>RecipeInstructionsClean</th>\n",
              "      <th>Combined</th>\n",
              "      <th>cosine_similarity</th>\n",
              "    </tr>\n",
              "  </thead>\n",
              "  <tbody>\n",
              "    <tr>\n",
              "      <th>0</th>\n",
              "      <td>72665</td>\n",
              "      <td>436.4</td>\n",
              "      <td>8.8</td>\n",
              "      <td>1.6</td>\n",
              "      <td>268.0</td>\n",
              "      <td>985.1</td>\n",
              "      <td>12.2</td>\n",
              "      <td>1.2</td>\n",
              "      <td>7.9</td>\n",
              "      <td>74.3</td>\n",
              "      <td>ginger and chilli baked fish</td>\n",
              "      <td>lime fresh ginger fish saue fresh ginger garli...</td>\n",
              "      <td>preheat oven hot 220 degree c make 4 deep slit...</td>\n",
              "      <td>lime fresh ginger fish saue fresh ginger garli...</td>\n",
              "      <td>0.788153</td>\n",
              "    </tr>\n",
              "    <tr>\n",
              "      <th>1</th>\n",
              "      <td>512673</td>\n",
              "      <td>179.7</td>\n",
              "      <td>9.7</td>\n",
              "      <td>2.6</td>\n",
              "      <td>82.2</td>\n",
              "      <td>815.2</td>\n",
              "      <td>0.8</td>\n",
              "      <td>0.1</td>\n",
              "      <td>0.2</td>\n",
              "      <td>21.4</td>\n",
              "      <td>fresh fillet of sole in a snap</td>\n",
              "      <td>fillet sole garli salt pepper butter olive oil...</td>\n",
              "      <td>spread garli side fish sprinkle salt pepper la...</td>\n",
              "      <td>fillet sole garli salt pepper butter olive oil...</td>\n",
              "      <td>0.729026</td>\n",
              "    </tr>\n",
              "  </tbody>\n",
              "</table>\n",
              "</div>\n",
              "    <div class=\"colab-df-buttons\">\n",
              "\n",
              "  <div class=\"colab-df-container\">\n",
              "    <button class=\"colab-df-convert\" onclick=\"convertToInteractive('df-fa320a25-7a59-4df0-bec2-6efeb9659681')\"\n",
              "            title=\"Convert this dataframe to an interactive table.\"\n",
              "            style=\"display:none;\">\n",
              "\n",
              "  <svg xmlns=\"http://www.w3.org/2000/svg\" height=\"24px\" viewBox=\"0 -960 960 960\">\n",
              "    <path d=\"M120-120v-720h720v720H120Zm60-500h600v-160H180v160Zm220 220h160v-160H400v160Zm0 220h160v-160H400v160ZM180-400h160v-160H180v160Zm440 0h160v-160H620v160ZM180-180h160v-160H180v160Zm440 0h160v-160H620v160Z\"/>\n",
              "  </svg>\n",
              "    </button>\n",
              "\n",
              "  <style>\n",
              "    .colab-df-container {\n",
              "      display:flex;\n",
              "      gap: 12px;\n",
              "    }\n",
              "\n",
              "    .colab-df-convert {\n",
              "      background-color: #E8F0FE;\n",
              "      border: none;\n",
              "      border-radius: 50%;\n",
              "      cursor: pointer;\n",
              "      display: none;\n",
              "      fill: #1967D2;\n",
              "      height: 32px;\n",
              "      padding: 0 0 0 0;\n",
              "      width: 32px;\n",
              "    }\n",
              "\n",
              "    .colab-df-convert:hover {\n",
              "      background-color: #E2EBFA;\n",
              "      box-shadow: 0px 1px 2px rgba(60, 64, 67, 0.3), 0px 1px 3px 1px rgba(60, 64, 67, 0.15);\n",
              "      fill: #174EA6;\n",
              "    }\n",
              "\n",
              "    .colab-df-buttons div {\n",
              "      margin-bottom: 4px;\n",
              "    }\n",
              "\n",
              "    [theme=dark] .colab-df-convert {\n",
              "      background-color: #3B4455;\n",
              "      fill: #D2E3FC;\n",
              "    }\n",
              "\n",
              "    [theme=dark] .colab-df-convert:hover {\n",
              "      background-color: #434B5C;\n",
              "      box-shadow: 0px 1px 3px 1px rgba(0, 0, 0, 0.15);\n",
              "      filter: drop-shadow(0px 1px 2px rgba(0, 0, 0, 0.3));\n",
              "      fill: #FFFFFF;\n",
              "    }\n",
              "  </style>\n",
              "\n",
              "    <script>\n",
              "      const buttonEl =\n",
              "        document.querySelector('#df-fa320a25-7a59-4df0-bec2-6efeb9659681 button.colab-df-convert');\n",
              "      buttonEl.style.display =\n",
              "        google.colab.kernel.accessAllowed ? 'block' : 'none';\n",
              "\n",
              "      async function convertToInteractive(key) {\n",
              "        const element = document.querySelector('#df-fa320a25-7a59-4df0-bec2-6efeb9659681');\n",
              "        const dataTable =\n",
              "          await google.colab.kernel.invokeFunction('convertToInteractive',\n",
              "                                                    [key], {});\n",
              "        if (!dataTable) return;\n",
              "\n",
              "        const docLinkHtml = 'Like what you see? Visit the ' +\n",
              "          '<a target=\"_blank\" href=https://colab.research.google.com/notebooks/data_table.ipynb>data table notebook</a>'\n",
              "          + ' to learn more about interactive tables.';\n",
              "        element.innerHTML = '';\n",
              "        dataTable['output_type'] = 'display_data';\n",
              "        await google.colab.output.renderOutput(dataTable, element);\n",
              "        const docLink = document.createElement('div');\n",
              "        docLink.innerHTML = docLinkHtml;\n",
              "        element.appendChild(docLink);\n",
              "      }\n",
              "    </script>\n",
              "  </div>\n",
              "\n",
              "\n",
              "<div id=\"df-0c425769-a28a-42db-a3cf-9d9e5d86ab27\">\n",
              "  <button class=\"colab-df-quickchart\" onclick=\"quickchart('df-0c425769-a28a-42db-a3cf-9d9e5d86ab27')\"\n",
              "            title=\"Suggest charts\"\n",
              "            style=\"display:none;\">\n",
              "\n",
              "<svg xmlns=\"http://www.w3.org/2000/svg\" height=\"24px\"viewBox=\"0 0 24 24\"\n",
              "     width=\"24px\">\n",
              "    <g>\n",
              "        <path d=\"M19 3H5c-1.1 0-2 .9-2 2v14c0 1.1.9 2 2 2h14c1.1 0 2-.9 2-2V5c0-1.1-.9-2-2-2zM9 17H7v-7h2v7zm4 0h-2V7h2v10zm4 0h-2v-4h2v4z\"/>\n",
              "    </g>\n",
              "</svg>\n",
              "  </button>\n",
              "\n",
              "<style>\n",
              "  .colab-df-quickchart {\n",
              "      --bg-color: #E8F0FE;\n",
              "      --fill-color: #1967D2;\n",
              "      --hover-bg-color: #E2EBFA;\n",
              "      --hover-fill-color: #174EA6;\n",
              "      --disabled-fill-color: #AAA;\n",
              "      --disabled-bg-color: #DDD;\n",
              "  }\n",
              "\n",
              "  [theme=dark] .colab-df-quickchart {\n",
              "      --bg-color: #3B4455;\n",
              "      --fill-color: #D2E3FC;\n",
              "      --hover-bg-color: #434B5C;\n",
              "      --hover-fill-color: #FFFFFF;\n",
              "      --disabled-bg-color: #3B4455;\n",
              "      --disabled-fill-color: #666;\n",
              "  }\n",
              "\n",
              "  .colab-df-quickchart {\n",
              "    background-color: var(--bg-color);\n",
              "    border: none;\n",
              "    border-radius: 50%;\n",
              "    cursor: pointer;\n",
              "    display: none;\n",
              "    fill: var(--fill-color);\n",
              "    height: 32px;\n",
              "    padding: 0;\n",
              "    width: 32px;\n",
              "  }\n",
              "\n",
              "  .colab-df-quickchart:hover {\n",
              "    background-color: var(--hover-bg-color);\n",
              "    box-shadow: 0 1px 2px rgba(60, 64, 67, 0.3), 0 1px 3px 1px rgba(60, 64, 67, 0.15);\n",
              "    fill: var(--button-hover-fill-color);\n",
              "  }\n",
              "\n",
              "  .colab-df-quickchart-complete:disabled,\n",
              "  .colab-df-quickchart-complete:disabled:hover {\n",
              "    background-color: var(--disabled-bg-color);\n",
              "    fill: var(--disabled-fill-color);\n",
              "    box-shadow: none;\n",
              "  }\n",
              "\n",
              "  .colab-df-spinner {\n",
              "    border: 2px solid var(--fill-color);\n",
              "    border-color: transparent;\n",
              "    border-bottom-color: var(--fill-color);\n",
              "    animation:\n",
              "      spin 1s steps(1) infinite;\n",
              "  }\n",
              "\n",
              "  @keyframes spin {\n",
              "    0% {\n",
              "      border-color: transparent;\n",
              "      border-bottom-color: var(--fill-color);\n",
              "      border-left-color: var(--fill-color);\n",
              "    }\n",
              "    20% {\n",
              "      border-color: transparent;\n",
              "      border-left-color: var(--fill-color);\n",
              "      border-top-color: var(--fill-color);\n",
              "    }\n",
              "    30% {\n",
              "      border-color: transparent;\n",
              "      border-left-color: var(--fill-color);\n",
              "      border-top-color: var(--fill-color);\n",
              "      border-right-color: var(--fill-color);\n",
              "    }\n",
              "    40% {\n",
              "      border-color: transparent;\n",
              "      border-right-color: var(--fill-color);\n",
              "      border-top-color: var(--fill-color);\n",
              "    }\n",
              "    60% {\n",
              "      border-color: transparent;\n",
              "      border-right-color: var(--fill-color);\n",
              "    }\n",
              "    80% {\n",
              "      border-color: transparent;\n",
              "      border-right-color: var(--fill-color);\n",
              "      border-bottom-color: var(--fill-color);\n",
              "    }\n",
              "    90% {\n",
              "      border-color: transparent;\n",
              "      border-bottom-color: var(--fill-color);\n",
              "    }\n",
              "  }\n",
              "</style>\n",
              "\n",
              "  <script>\n",
              "    async function quickchart(key) {\n",
              "      const quickchartButtonEl =\n",
              "        document.querySelector('#' + key + ' button');\n",
              "      quickchartButtonEl.disabled = true;  // To prevent multiple clicks.\n",
              "      quickchartButtonEl.classList.add('colab-df-spinner');\n",
              "      try {\n",
              "        const charts = await google.colab.kernel.invokeFunction(\n",
              "            'suggestCharts', [key], {});\n",
              "      } catch (error) {\n",
              "        console.error('Error during call to suggestCharts:', error);\n",
              "      }\n",
              "      quickchartButtonEl.classList.remove('colab-df-spinner');\n",
              "      quickchartButtonEl.classList.add('colab-df-quickchart-complete');\n",
              "    }\n",
              "    (() => {\n",
              "      let quickchartButtonEl =\n",
              "        document.querySelector('#df-0c425769-a28a-42db-a3cf-9d9e5d86ab27 button');\n",
              "      quickchartButtonEl.style.display =\n",
              "        google.colab.kernel.accessAllowed ? 'block' : 'none';\n",
              "    })();\n",
              "  </script>\n",
              "</div>\n",
              "\n",
              "    </div>\n",
              "  </div>\n"
            ],
            "application/vnd.google.colaboratory.intrinsic+json": {
              "type": "dataframe",
              "variable_name": "df",
              "summary": "{\n  \"name\": \"df\",\n  \"rows\": 165,\n  \"fields\": [\n    {\n      \"column\": \"RecipeId\",\n      \"properties\": {\n        \"dtype\": \"number\",\n        \"std\": 168219,\n        \"min\": 2710,\n        \"max\": 536596,\n        \"num_unique_values\": 110,\n        \"samples\": [\n          19007,\n          169289,\n          26262\n        ],\n        \"semantic_type\": \"\",\n        \"description\": \"\"\n      }\n    },\n    {\n      \"column\": \"Calories\",\n      \"properties\": {\n        \"dtype\": \"number\",\n        \"std\": 158.4767819791269,\n        \"min\": 22.9,\n        \"max\": 891.0,\n        \"num_unique_values\": 110,\n        \"samples\": [\n          404.2,\n          526.9,\n          49.5\n        ],\n        \"semantic_type\": \"\",\n        \"description\": \"\"\n      }\n    },\n    {\n      \"column\": \"FatContent\",\n      \"properties\": {\n        \"dtype\": \"number\",\n        \"std\": 10.213263878601893,\n        \"min\": 0.1,\n        \"max\": 70.4,\n        \"num_unique_values\": 89,\n        \"samples\": [\n          1.5,\n          17.6,\n          11.9\n        ],\n        \"semantic_type\": \"\",\n        \"description\": \"\"\n      }\n    },\n    {\n      \"column\": \"SaturatedFatContent\",\n      \"properties\": {\n        \"dtype\": \"number\",\n        \"std\": 3.168656549882937,\n        \"min\": 0.0,\n        \"max\": 12.6,\n        \"num_unique_values\": 63,\n        \"samples\": [\n          3.4,\n          5.5,\n          1.6\n        ],\n        \"semantic_type\": \"\",\n        \"description\": \"\"\n      }\n    },\n    {\n      \"column\": \"CholesterolContent\",\n      \"properties\": {\n        \"dtype\": \"number\",\n        \"std\": 58.932960189930796,\n        \"min\": 0.0,\n        \"max\": 269.3,\n        \"num_unique_values\": 83,\n        \"samples\": [\n          6.8,\n          268.0,\n          61.6\n        ],\n        \"semantic_type\": \"\",\n        \"description\": \"\"\n      }\n    },\n    {\n      \"column\": \"SodiumContent\",\n      \"properties\": {\n        \"dtype\": \"number\",\n        \"std\": 446.06398392701095,\n        \"min\": 1.4,\n        \"max\": 2026.8,\n        \"num_unique_values\": 107,\n        \"samples\": [\n          1198.3,\n          208.4,\n          146.8\n        ],\n        \"semantic_type\": \"\",\n        \"description\": \"\"\n      }\n    },\n    {\n      \"column\": \"CarbohydrateContent\",\n      \"properties\": {\n        \"dtype\": \"number\",\n        \"std\": 21.769923582805305,\n        \"min\": 0.2,\n        \"max\": 87.1,\n        \"num_unique_values\": 100,\n        \"samples\": [\n          14.8,\n          29.7,\n          14.3\n        ],\n        \"semantic_type\": \"\",\n        \"description\": \"\"\n      }\n    },\n    {\n      \"column\": \"FiberContent\",\n      \"properties\": {\n        \"dtype\": \"number\",\n        \"std\": 2.5515298368821067,\n        \"min\": 0.0,\n        \"max\": 14.1,\n        \"num_unique_values\": 57,\n        \"samples\": [\n          1.2,\n          0.9,\n          1.9\n        ],\n        \"semantic_type\": \"\",\n        \"description\": \"\"\n      }\n    },\n    {\n      \"column\": \"SugarContent\",\n      \"properties\": {\n        \"dtype\": \"number\",\n        \"std\": 3.9715067020098793,\n        \"min\": 0.0,\n        \"max\": 17.8,\n        \"num_unique_values\": 72,\n        \"samples\": [\n          0.3,\n          6.9,\n          3.7\n        ],\n        \"semantic_type\": \"\",\n        \"description\": \"\"\n      }\n    },\n    {\n      \"column\": \"ProteinContent\",\n      \"properties\": {\n        \"dtype\": \"number\",\n        \"std\": 18.228057144357027,\n        \"min\": 0.1,\n        \"max\": 75.7,\n        \"num_unique_values\": 98,\n        \"samples\": [\n          24.2,\n          22.7,\n          22.0\n        ],\n        \"semantic_type\": \"\",\n        \"description\": \"\"\n      }\n    },\n    {\n      \"column\": \"NameClean\",\n      \"properties\": {\n        \"dtype\": \"string\",\n        \"num_unique_values\": 110,\n        \"samples\": [\n          \"burgundy barley beef stew\",\n          \"emblano white fish soup\",\n          \"grilled marinated tuna steaks\"\n        ],\n        \"semantic_type\": \"\",\n        \"description\": \"\"\n      }\n    },\n    {\n      \"column\": \"RecipeIngredientPartsClean\",\n      \"properties\": {\n        \"dtype\": \"string\",\n        \"num_unique_values\": 110,\n        \"samples\": [\n          \"flour salt pepper anola oil onion elery garli beef broth died tomato baby red potato mushroom barley red wine oregano thyme basil\",\n          \"water onion parsley potato lemon zest\",\n          \"tuna steak dry white wine lemon juie olive oil garli fresh rosemary fresh oregano salt\"\n        ],\n        \"semantic_type\": \"\",\n        \"description\": \"\"\n      }\n    },\n    {\n      \"column\": \"RecipeInstructionsClean\",\n      \"properties\": {\n        \"dtype\": \"string\",\n        \"num_unique_values\": 110,\n        \"samples\": [\n          \"combine flour salt pepper beef large ziplo bag shake oat beef heat oil large skillet mediumhigh add beef onion elery garli cook 67 minute beef longer pink vegetable little tender plae beef mixture rokpot add remaining ingredient cook high 56 hour low 1012 hour\",\n          \"boil fish drain keep water removing bone fish water keep water set aside set fish aside boil ingredient exept lemon soft add water fish add lemon plae fish soup plate pour ingredient water\",\n          \"marinade ombine ingredient exept fish plae fish plasti ziplo bag add marinade seal bag turn bag oat fish well chill 2 hour turning fish one remove fish disard marinade grill fish greased rak unovered grill medium oals 12 minute fish flake easily tested fork make sure turn fish least one ooking\"\n        ],\n        \"semantic_type\": \"\",\n        \"description\": \"\"\n      }\n    },\n    {\n      \"column\": \"Combined\",\n      \"properties\": {\n        \"dtype\": \"string\",\n        \"num_unique_values\": 110,\n        \"samples\": [\n          \"flour salt pepper anola oil onion elery garli beef broth died tomato baby red potato mushroom barley red wine oregano thyme basilburgundy barley beef stewcombine flour salt pepper beef large ziplo bag shake oat beef heat oil large skillet mediumhigh add beef onion elery garli cook 67 minute beef longer pink vegetable little tender plae beef mixture rokpot add remaining ingredient cook high 56 hour low 1012 hour\",\n          \"water onion parsley potato lemon zestemblano white fish soupboil fish drain keep water removing bone fish water keep water set aside set fish aside boil ingredient exept lemon soft add water fish add lemon plae fish soup plate pour ingredient water\",\n          \"tuna steak dry white wine lemon juie olive oil garli fresh rosemary fresh oregano saltgrilled marinated tuna steaksmarinade ombine ingredient exept fish plae fish plasti ziplo bag add marinade seal bag turn bag oat fish well chill 2 hour turning fish one remove fish disard marinade grill fish greased rak unovered grill medium oals 12 minute fish flake easily tested fork make sure turn fish least one ooking\"\n        ],\n        \"semantic_type\": \"\",\n        \"description\": \"\"\n      }\n    },\n    {\n      \"column\": \"cosine_similarity\",\n      \"properties\": {\n        \"dtype\": \"number\",\n        \"std\": 0.17753236435048184,\n        \"min\": 0.0079988889861203,\n        \"max\": 0.7881533508167528,\n        \"num_unique_values\": 165,\n        \"samples\": [\n          0.5039983081493188,\n          0.5265366405894564,\n          0.5054574777982753\n        ],\n        \"semantic_type\": \"\",\n        \"description\": \"\"\n      }\n    }\n  ]\n}"
            }
          },
          "metadata": {},
          "execution_count": 3
        }
      ]
    },
    {
      "cell_type": "code",
      "source": [
        "df.info()"
      ],
      "metadata": {
        "colab": {
          "base_uri": "https://localhost:8080/"
        },
        "id": "DYDUMSijJrDR",
        "outputId": "addef599-7dd3-4820-f0e7-361ad3c16727"
      },
      "execution_count": 4,
      "outputs": [
        {
          "output_type": "stream",
          "name": "stdout",
          "text": [
            "<class 'pandas.core.frame.DataFrame'>\n",
            "RangeIndex: 165 entries, 0 to 164\n",
            "Data columns (total 15 columns):\n",
            " #   Column                      Non-Null Count  Dtype  \n",
            "---  ------                      --------------  -----  \n",
            " 0   RecipeId                    165 non-null    int64  \n",
            " 1   Calories                    165 non-null    float64\n",
            " 2   FatContent                  165 non-null    float64\n",
            " 3   SaturatedFatContent         165 non-null    float64\n",
            " 4   CholesterolContent          165 non-null    float64\n",
            " 5   SodiumContent               165 non-null    float64\n",
            " 6   CarbohydrateContent         165 non-null    float64\n",
            " 7   FiberContent                165 non-null    float64\n",
            " 8   SugarContent                165 non-null    float64\n",
            " 9   ProteinContent              165 non-null    float64\n",
            " 10  NameClean                   165 non-null    object \n",
            " 11  RecipeIngredientPartsClean  165 non-null    object \n",
            " 12  RecipeInstructionsClean     165 non-null    object \n",
            " 13  Combined                    165 non-null    object \n",
            " 14  cosine_similarity           165 non-null    float64\n",
            "dtypes: float64(10), int64(1), object(4)\n",
            "memory usage: 19.5+ KB\n"
          ]
        }
      ]
    },
    {
      "cell_type": "markdown",
      "source": [
        "# **Tokenizer**"
      ],
      "metadata": {
        "id": "XfZMK7iQP6RB"
      }
    },
    {
      "cell_type": "code",
      "source": [
        "# Tokenize the combined recipe text. This splits the text into lowercase tokens, removing punctuations and special characters.\n",
        "df['CombinedTokenized'] = df['Combined'].apply(simple_preprocess)"
      ],
      "metadata": {
        "id": "OncXs_ETF3OM"
      },
      "execution_count": 5,
      "outputs": []
    },
    {
      "cell_type": "code",
      "source": [
        "# Load the pre-trained Word2Vec model from Google News using\n",
        "model = api.load('word2vec-google-news-300')"
      ],
      "metadata": {
        "id": "Bl7gPMkzFmxj"
      },
      "execution_count": 6,
      "outputs": []
    },
    {
      "cell_type": "markdown",
      "source": [
        "# **Compute Average Word2Vec Embedding**\n",
        "\n",
        "This function computes the average Word2Vec embedding for a list of words. It initializes a zero vector, then iterates through the words to accumulate their vectors. The result is the average vector for the input words."
      ],
      "metadata": {
        "id": "wHbCbbHHP_DU"
      }
    },
    {
      "cell_type": "code",
      "source": [
        "# Function to average word vectors for a text\n",
        "def average_word_vectors(words, model, vocabulary, num_features):\n",
        "    feature_vector = np.zeros((num_features,), dtype=\"float64\")\n",
        "    nwords = 0.\n",
        "\n",
        "    for word in words:\n",
        "        if word in vocabulary:\n",
        "            nwords += 1.\n",
        "            feature_vector = np.add(feature_vector, model[word])\n",
        "\n",
        "    if nwords:\n",
        "        feature_vector = np.divide(feature_vector, nwords)\n",
        "\n",
        "    return feature_vector"
      ],
      "metadata": {
        "id": "tRLJEs-IFvkR"
      },
      "execution_count": 7,
      "outputs": []
    },
    {
      "cell_type": "markdown",
      "source": [
        "Compute the average Word2Vec embeddings for each recipe's tokenized content."
      ],
      "metadata": {
        "id": "24S0heRyQS5i"
      }
    },
    {
      "cell_type": "code",
      "source": [
        "# Compute average word vectors for all recipes\n",
        "vocabulary = set(model.index_to_key)\n",
        "df['Embedding'] = df['CombinedTokenized'].apply(lambda x: average_word_vectors(x, model, vocabulary, 300))"
      ],
      "metadata": {
        "id": "oxE9Vy_MGUht"
      },
      "execution_count": 8,
      "outputs": []
    },
    {
      "cell_type": "markdown",
      "source": [
        "# **Split Embeddings into Separate Columns**\n",
        "\n",
        "Split the 300-dimensional embeddings into separate columns to integrate with other features in the dataframe."
      ],
      "metadata": {
        "id": "t4EdHxr9QL_4"
      }
    },
    {
      "cell_type": "code",
      "source": [
        "embeddings = np.vstack(df['Embedding'])\n",
        "embedding_df = pd.DataFrame(embeddings, columns=[f'emb_{i}' for i in range(300)])"
      ],
      "metadata": {
        "id": "h1UdytRaGblQ"
      },
      "execution_count": 9,
      "outputs": []
    },
    {
      "cell_type": "code",
      "source": [
        "# Combine embeddings with the original data\n",
        "feature_matrix = pd.concat([df.reset_index(drop=True), embedding_df], axis=1)"
      ],
      "metadata": {
        "id": "84si3FbJGcxo"
      },
      "execution_count": 10,
      "outputs": []
    },
    {
      "cell_type": "markdown",
      "source": [
        "# **Add User-Specific Features**"
      ],
      "metadata": {
        "id": "Z3PMyzOzQaT2"
      }
    },
    {
      "cell_type": "markdown",
      "source": [
        "Add dummy user-specific features, such as age and dietary preference, to the feature matrix."
      ],
      "metadata": {
        "id": "8-naYlTcQeXH"
      }
    },
    {
      "cell_type": "code",
      "source": [
        "# Dummy user-specific features (e.g., age, dietary preferences)\n",
        "user_features = pd.DataFrame({\n",
        "    'age': np.random.randint(18, 60, size=len(feature_matrix)),\n",
        "    'dietary_preference': np.random.choice([0, 1, 2], size=len(feature_matrix))  # Encoding dietary preference as integers\n",
        "})"
      ],
      "metadata": {
        "id": "UkZOW_xZGhhq"
      },
      "execution_count": 11,
      "outputs": []
    },
    {
      "cell_type": "code",
      "source": [
        "feature_matrix = pd.concat([feature_matrix, user_features], axis=1)"
      ],
      "metadata": {
        "id": "JPKN_As5GotV"
      },
      "execution_count": 12,
      "outputs": []
    },
    {
      "cell_type": "markdown",
      "source": [
        "# **Generate Dummy Labels**"
      ],
      "metadata": {
        "id": "ixCTi6YmQklC"
      }
    },
    {
      "cell_type": "markdown",
      "source": [
        "Generate dummy relevance labels for training. In a real-world scenario, these labels would come from historical user interaction data."
      ],
      "metadata": {
        "id": "K7Jt4IO0Qm8s"
      }
    },
    {
      "cell_type": "code",
      "source": [
        "# Generate dummy relevance labels (1 for relevant, 0 for not relevant)\n",
        "# In practice, this should be based on historical user interaction data\n",
        "np.random.seed(42)\n",
        "labels = np.random.randint(0, 2, size=len(feature_matrix))"
      ],
      "metadata": {
        "id": "wK3GTRpJGqY9"
      },
      "execution_count": 13,
      "outputs": []
    },
    {
      "cell_type": "code",
      "source": [
        "X = feature_matrix.drop(columns=['RecipeId', 'NameClean', 'RecipeIngredientPartsClean', 'RecipeInstructionsClean', 'Combined', 'Embedding', 'CombinedTokenized'])"
      ],
      "metadata": {
        "id": "gNDV_Kj_Ia7B"
      },
      "execution_count": 14,
      "outputs": []
    },
    {
      "cell_type": "code",
      "source": [
        "X_train, X_test, y_train, y_test = train_test_split(X, labels, test_size=0.2, random_state=42)"
      ],
      "metadata": {
        "id": "Uvo0-dItGtY0"
      },
      "execution_count": 15,
      "outputs": []
    },
    {
      "cell_type": "code",
      "source": [
        "# Normalize the features using StandardScaler\n",
        "scaler = StandardScaler()\n",
        "X_train = scaler.fit_transform(X_train)\n",
        "X_test = scaler.transform(X_test)"
      ],
      "metadata": {
        "id": "31kn0ol7Ieas"
      },
      "execution_count": 16,
      "outputs": []
    },
    {
      "cell_type": "markdown",
      "source": [
        "# **Define and Train Neural Network**"
      ],
      "metadata": {
        "id": "qiIIMf21QqcS"
      }
    },
    {
      "cell_type": "code",
      "source": [
        "# Define a simple neural network model\n",
        "model = Sequential([\n",
        "    Dense(128, input_shape=(X_train.shape[1],), activation='relu'),\n",
        "    Dropout(0.5),\n",
        "    Dense(64, activation='relu'),\n",
        "    Dropout(0.5),\n",
        "    Dense(1, activation='sigmoid')\n",
        "])"
      ],
      "metadata": {
        "id": "2aw125ACHiSY"
      },
      "execution_count": 17,
      "outputs": []
    },
    {
      "cell_type": "code",
      "source": [
        "# Compile the model\n",
        "model.compile(optimizer=Adam(lr=0.001), loss='binary_crossentropy', metrics=['accuracy'])\n",
        "\n",
        "# Train the model\n",
        "model.fit(X_train, y_train, epochs=10, batch_size=32, validation_split=0.1)"
      ],
      "metadata": {
        "colab": {
          "base_uri": "https://localhost:8080/"
        },
        "id": "Ih9SO0TAG91q",
        "outputId": "f0a4b684-2a5b-499c-e3c9-dfc3f94946d5"
      },
      "execution_count": 18,
      "outputs": [
        {
          "output_type": "stream",
          "name": "stderr",
          "text": [
            "WARNING:absl:`lr` is deprecated in Keras optimizer, please use `learning_rate` or use the legacy optimizer, e.g.,tf.keras.optimizers.legacy.Adam.\n"
          ]
        },
        {
          "output_type": "stream",
          "name": "stdout",
          "text": [
            "Epoch 1/10\n",
            "4/4 [==============================] - 2s 86ms/step - loss: 0.8923 - accuracy: 0.4746 - val_loss: 0.6960 - val_accuracy: 0.5714\n",
            "Epoch 2/10\n",
            "4/4 [==============================] - 0s 14ms/step - loss: 0.8610 - accuracy: 0.5424 - val_loss: 0.6603 - val_accuracy: 0.6429\n",
            "Epoch 3/10\n",
            "4/4 [==============================] - 0s 19ms/step - loss: 0.8580 - accuracy: 0.5085 - val_loss: 0.6298 - val_accuracy: 0.6429\n",
            "Epoch 4/10\n",
            "4/4 [==============================] - 0s 18ms/step - loss: 0.7008 - accuracy: 0.5932 - val_loss: 0.6207 - val_accuracy: 0.5714\n",
            "Epoch 5/10\n",
            "4/4 [==============================] - 0s 13ms/step - loss: 0.6695 - accuracy: 0.6610 - val_loss: 0.6296 - val_accuracy: 0.5714\n",
            "Epoch 6/10\n",
            "4/4 [==============================] - 0s 13ms/step - loss: 0.6412 - accuracy: 0.6695 - val_loss: 0.6497 - val_accuracy: 0.5000\n",
            "Epoch 7/10\n",
            "4/4 [==============================] - 0s 19ms/step - loss: 0.7006 - accuracy: 0.5763 - val_loss: 0.6602 - val_accuracy: 0.5000\n",
            "Epoch 8/10\n",
            "4/4 [==============================] - 0s 19ms/step - loss: 0.5827 - accuracy: 0.6525 - val_loss: 0.6733 - val_accuracy: 0.5714\n",
            "Epoch 9/10\n",
            "4/4 [==============================] - 0s 13ms/step - loss: 0.6406 - accuracy: 0.6949 - val_loss: 0.6875 - val_accuracy: 0.5714\n",
            "Epoch 10/10\n",
            "4/4 [==============================] - 0s 19ms/step - loss: 0.5835 - accuracy: 0.6949 - val_loss: 0.6977 - val_accuracy: 0.5714\n"
          ]
        },
        {
          "output_type": "execute_result",
          "data": {
            "text/plain": [
              "<keras.src.callbacks.History at 0x7a54fc77d2a0>"
            ]
          },
          "metadata": {},
          "execution_count": 18
        }
      ]
    },
    {
      "cell_type": "code",
      "source": [
        "# Predict the relevance scores for the test set\n",
        "y_pred = model.predict(X_test)\n",
        "y_pred_binary = (y_pred > 0.5).astype(int)\n",
        "print(\"Test Accuracy:\", accuracy_score(y_test, y_pred_binary))"
      ],
      "metadata": {
        "colab": {
          "base_uri": "https://localhost:8080/"
        },
        "id": "ftBo2Y1nHRi4",
        "outputId": "89f4ddd5-54c5-4f11-a179-10e30351a2c3"
      },
      "execution_count": 19,
      "outputs": [
        {
          "output_type": "stream",
          "name": "stdout",
          "text": [
            "2/2 [==============================] - 0s 5ms/step\n",
            "Test Accuracy: 0.5757575757575758\n"
          ]
        }
      ]
    },
    {
      "cell_type": "code",
      "source": [
        "# Predict the relevance scores for all candidate recipes\n",
        "relevance_scores = model.predict(scaler.transform(X))\n",
        "df['RelevanceScore'] = relevance_scores"
      ],
      "metadata": {
        "colab": {
          "base_uri": "https://localhost:8080/"
        },
        "id": "GklutMmmImjR",
        "outputId": "b602868c-d29b-4ada-affb-f2f135b86369"
      },
      "execution_count": 22,
      "outputs": [
        {
          "output_type": "stream",
          "name": "stdout",
          "text": [
            "6/6 [==============================] - 0s 4ms/step\n"
          ]
        }
      ]
    },
    {
      "cell_type": "code",
      "source": [
        "# Sort the DataFrame by relevance_score in descending order\n",
        "sorted_df = df.sort_values(by='RelevanceScore', ascending=False)\n",
        "\n",
        "# Drop duplicates based on RecipeId, keeping the first occurrence\n",
        "unique_sorted_df = sorted_df.drop_duplicates(subset='RecipeId', keep='first')\n",
        "\n",
        "# Select the top 50 recipes\n",
        "top_50_recipes = unique_sorted_df.head(50)\n",
        "\n",
        "# Print the top 50 recipes\n",
        "top_50_recipes[['RecipeId', 'NameClean', 'RelevanceScore']].head(5)"
      ],
      "metadata": {
        "colab": {
          "base_uri": "https://localhost:8080/",
          "height": 206
        },
        "id": "wHAMKWKaIm91",
        "outputId": "e58fa182-f901-4de6-8bdf-46a2337a99cb"
      },
      "execution_count": 25,
      "outputs": [
        {
          "output_type": "execute_result",
          "data": {
            "text/plain": [
              "     RecipeId                   NameClean  RelevanceScore\n",
              "44     493208            broiled flounder        0.920063\n",
              "91      40263             spiy garli beef        0.885103\n",
              "120     29049  steamed fish chinese style        0.868919\n",
              "65     178948    simple beef stew for two        0.867998\n",
              "70     407257        slowcooker beef taos        0.865091"
            ],
            "text/html": [
              "\n",
              "  <div id=\"df-8e4be534-0f89-47bf-9f79-201b33d0511e\" class=\"colab-df-container\">\n",
              "    <div>\n",
              "<style scoped>\n",
              "    .dataframe tbody tr th:only-of-type {\n",
              "        vertical-align: middle;\n",
              "    }\n",
              "\n",
              "    .dataframe tbody tr th {\n",
              "        vertical-align: top;\n",
              "    }\n",
              "\n",
              "    .dataframe thead th {\n",
              "        text-align: right;\n",
              "    }\n",
              "</style>\n",
              "<table border=\"1\" class=\"dataframe\">\n",
              "  <thead>\n",
              "    <tr style=\"text-align: right;\">\n",
              "      <th></th>\n",
              "      <th>RecipeId</th>\n",
              "      <th>NameClean</th>\n",
              "      <th>RelevanceScore</th>\n",
              "    </tr>\n",
              "  </thead>\n",
              "  <tbody>\n",
              "    <tr>\n",
              "      <th>44</th>\n",
              "      <td>493208</td>\n",
              "      <td>broiled flounder</td>\n",
              "      <td>0.920063</td>\n",
              "    </tr>\n",
              "    <tr>\n",
              "      <th>91</th>\n",
              "      <td>40263</td>\n",
              "      <td>spiy garli beef</td>\n",
              "      <td>0.885103</td>\n",
              "    </tr>\n",
              "    <tr>\n",
              "      <th>120</th>\n",
              "      <td>29049</td>\n",
              "      <td>steamed fish chinese style</td>\n",
              "      <td>0.868919</td>\n",
              "    </tr>\n",
              "    <tr>\n",
              "      <th>65</th>\n",
              "      <td>178948</td>\n",
              "      <td>simple beef stew for two</td>\n",
              "      <td>0.867998</td>\n",
              "    </tr>\n",
              "    <tr>\n",
              "      <th>70</th>\n",
              "      <td>407257</td>\n",
              "      <td>slowcooker beef taos</td>\n",
              "      <td>0.865091</td>\n",
              "    </tr>\n",
              "  </tbody>\n",
              "</table>\n",
              "</div>\n",
              "    <div class=\"colab-df-buttons\">\n",
              "\n",
              "  <div class=\"colab-df-container\">\n",
              "    <button class=\"colab-df-convert\" onclick=\"convertToInteractive('df-8e4be534-0f89-47bf-9f79-201b33d0511e')\"\n",
              "            title=\"Convert this dataframe to an interactive table.\"\n",
              "            style=\"display:none;\">\n",
              "\n",
              "  <svg xmlns=\"http://www.w3.org/2000/svg\" height=\"24px\" viewBox=\"0 -960 960 960\">\n",
              "    <path d=\"M120-120v-720h720v720H120Zm60-500h600v-160H180v160Zm220 220h160v-160H400v160Zm0 220h160v-160H400v160ZM180-400h160v-160H180v160Zm440 0h160v-160H620v160ZM180-180h160v-160H180v160Zm440 0h160v-160H620v160Z\"/>\n",
              "  </svg>\n",
              "    </button>\n",
              "\n",
              "  <style>\n",
              "    .colab-df-container {\n",
              "      display:flex;\n",
              "      gap: 12px;\n",
              "    }\n",
              "\n",
              "    .colab-df-convert {\n",
              "      background-color: #E8F0FE;\n",
              "      border: none;\n",
              "      border-radius: 50%;\n",
              "      cursor: pointer;\n",
              "      display: none;\n",
              "      fill: #1967D2;\n",
              "      height: 32px;\n",
              "      padding: 0 0 0 0;\n",
              "      width: 32px;\n",
              "    }\n",
              "\n",
              "    .colab-df-convert:hover {\n",
              "      background-color: #E2EBFA;\n",
              "      box-shadow: 0px 1px 2px rgba(60, 64, 67, 0.3), 0px 1px 3px 1px rgba(60, 64, 67, 0.15);\n",
              "      fill: #174EA6;\n",
              "    }\n",
              "\n",
              "    .colab-df-buttons div {\n",
              "      margin-bottom: 4px;\n",
              "    }\n",
              "\n",
              "    [theme=dark] .colab-df-convert {\n",
              "      background-color: #3B4455;\n",
              "      fill: #D2E3FC;\n",
              "    }\n",
              "\n",
              "    [theme=dark] .colab-df-convert:hover {\n",
              "      background-color: #434B5C;\n",
              "      box-shadow: 0px 1px 3px 1px rgba(0, 0, 0, 0.15);\n",
              "      filter: drop-shadow(0px 1px 2px rgba(0, 0, 0, 0.3));\n",
              "      fill: #FFFFFF;\n",
              "    }\n",
              "  </style>\n",
              "\n",
              "    <script>\n",
              "      const buttonEl =\n",
              "        document.querySelector('#df-8e4be534-0f89-47bf-9f79-201b33d0511e button.colab-df-convert');\n",
              "      buttonEl.style.display =\n",
              "        google.colab.kernel.accessAllowed ? 'block' : 'none';\n",
              "\n",
              "      async function convertToInteractive(key) {\n",
              "        const element = document.querySelector('#df-8e4be534-0f89-47bf-9f79-201b33d0511e');\n",
              "        const dataTable =\n",
              "          await google.colab.kernel.invokeFunction('convertToInteractive',\n",
              "                                                    [key], {});\n",
              "        if (!dataTable) return;\n",
              "\n",
              "        const docLinkHtml = 'Like what you see? Visit the ' +\n",
              "          '<a target=\"_blank\" href=https://colab.research.google.com/notebooks/data_table.ipynb>data table notebook</a>'\n",
              "          + ' to learn more about interactive tables.';\n",
              "        element.innerHTML = '';\n",
              "        dataTable['output_type'] = 'display_data';\n",
              "        await google.colab.output.renderOutput(dataTable, element);\n",
              "        const docLink = document.createElement('div');\n",
              "        docLink.innerHTML = docLinkHtml;\n",
              "        element.appendChild(docLink);\n",
              "      }\n",
              "    </script>\n",
              "  </div>\n",
              "\n",
              "\n",
              "<div id=\"df-c0fb3954-62c4-485a-b4ec-1f0d8474baa0\">\n",
              "  <button class=\"colab-df-quickchart\" onclick=\"quickchart('df-c0fb3954-62c4-485a-b4ec-1f0d8474baa0')\"\n",
              "            title=\"Suggest charts\"\n",
              "            style=\"display:none;\">\n",
              "\n",
              "<svg xmlns=\"http://www.w3.org/2000/svg\" height=\"24px\"viewBox=\"0 0 24 24\"\n",
              "     width=\"24px\">\n",
              "    <g>\n",
              "        <path d=\"M19 3H5c-1.1 0-2 .9-2 2v14c0 1.1.9 2 2 2h14c1.1 0 2-.9 2-2V5c0-1.1-.9-2-2-2zM9 17H7v-7h2v7zm4 0h-2V7h2v10zm4 0h-2v-4h2v4z\"/>\n",
              "    </g>\n",
              "</svg>\n",
              "  </button>\n",
              "\n",
              "<style>\n",
              "  .colab-df-quickchart {\n",
              "      --bg-color: #E8F0FE;\n",
              "      --fill-color: #1967D2;\n",
              "      --hover-bg-color: #E2EBFA;\n",
              "      --hover-fill-color: #174EA6;\n",
              "      --disabled-fill-color: #AAA;\n",
              "      --disabled-bg-color: #DDD;\n",
              "  }\n",
              "\n",
              "  [theme=dark] .colab-df-quickchart {\n",
              "      --bg-color: #3B4455;\n",
              "      --fill-color: #D2E3FC;\n",
              "      --hover-bg-color: #434B5C;\n",
              "      --hover-fill-color: #FFFFFF;\n",
              "      --disabled-bg-color: #3B4455;\n",
              "      --disabled-fill-color: #666;\n",
              "  }\n",
              "\n",
              "  .colab-df-quickchart {\n",
              "    background-color: var(--bg-color);\n",
              "    border: none;\n",
              "    border-radius: 50%;\n",
              "    cursor: pointer;\n",
              "    display: none;\n",
              "    fill: var(--fill-color);\n",
              "    height: 32px;\n",
              "    padding: 0;\n",
              "    width: 32px;\n",
              "  }\n",
              "\n",
              "  .colab-df-quickchart:hover {\n",
              "    background-color: var(--hover-bg-color);\n",
              "    box-shadow: 0 1px 2px rgba(60, 64, 67, 0.3), 0 1px 3px 1px rgba(60, 64, 67, 0.15);\n",
              "    fill: var(--button-hover-fill-color);\n",
              "  }\n",
              "\n",
              "  .colab-df-quickchart-complete:disabled,\n",
              "  .colab-df-quickchart-complete:disabled:hover {\n",
              "    background-color: var(--disabled-bg-color);\n",
              "    fill: var(--disabled-fill-color);\n",
              "    box-shadow: none;\n",
              "  }\n",
              "\n",
              "  .colab-df-spinner {\n",
              "    border: 2px solid var(--fill-color);\n",
              "    border-color: transparent;\n",
              "    border-bottom-color: var(--fill-color);\n",
              "    animation:\n",
              "      spin 1s steps(1) infinite;\n",
              "  }\n",
              "\n",
              "  @keyframes spin {\n",
              "    0% {\n",
              "      border-color: transparent;\n",
              "      border-bottom-color: var(--fill-color);\n",
              "      border-left-color: var(--fill-color);\n",
              "    }\n",
              "    20% {\n",
              "      border-color: transparent;\n",
              "      border-left-color: var(--fill-color);\n",
              "      border-top-color: var(--fill-color);\n",
              "    }\n",
              "    30% {\n",
              "      border-color: transparent;\n",
              "      border-left-color: var(--fill-color);\n",
              "      border-top-color: var(--fill-color);\n",
              "      border-right-color: var(--fill-color);\n",
              "    }\n",
              "    40% {\n",
              "      border-color: transparent;\n",
              "      border-right-color: var(--fill-color);\n",
              "      border-top-color: var(--fill-color);\n",
              "    }\n",
              "    60% {\n",
              "      border-color: transparent;\n",
              "      border-right-color: var(--fill-color);\n",
              "    }\n",
              "    80% {\n",
              "      border-color: transparent;\n",
              "      border-right-color: var(--fill-color);\n",
              "      border-bottom-color: var(--fill-color);\n",
              "    }\n",
              "    90% {\n",
              "      border-color: transparent;\n",
              "      border-bottom-color: var(--fill-color);\n",
              "    }\n",
              "  }\n",
              "</style>\n",
              "\n",
              "  <script>\n",
              "    async function quickchart(key) {\n",
              "      const quickchartButtonEl =\n",
              "        document.querySelector('#' + key + ' button');\n",
              "      quickchartButtonEl.disabled = true;  // To prevent multiple clicks.\n",
              "      quickchartButtonEl.classList.add('colab-df-spinner');\n",
              "      try {\n",
              "        const charts = await google.colab.kernel.invokeFunction(\n",
              "            'suggestCharts', [key], {});\n",
              "      } catch (error) {\n",
              "        console.error('Error during call to suggestCharts:', error);\n",
              "      }\n",
              "      quickchartButtonEl.classList.remove('colab-df-spinner');\n",
              "      quickchartButtonEl.classList.add('colab-df-quickchart-complete');\n",
              "    }\n",
              "    (() => {\n",
              "      let quickchartButtonEl =\n",
              "        document.querySelector('#df-c0fb3954-62c4-485a-b4ec-1f0d8474baa0 button');\n",
              "      quickchartButtonEl.style.display =\n",
              "        google.colab.kernel.accessAllowed ? 'block' : 'none';\n",
              "    })();\n",
              "  </script>\n",
              "</div>\n",
              "\n",
              "    </div>\n",
              "  </div>\n"
            ],
            "application/vnd.google.colaboratory.intrinsic+json": {
              "type": "dataframe",
              "summary": "{\n  \"name\": \"top_50_recipes[['RecipeId', 'NameClean', 'RelevanceScore']]\",\n  \"rows\": 5,\n  \"fields\": [\n    {\n      \"column\": \"RecipeId\",\n      \"properties\": {\n        \"dtype\": \"number\",\n        \"std\": 211946,\n        \"min\": 29049,\n        \"max\": 493208,\n        \"num_unique_values\": 5,\n        \"samples\": [\n          40263,\n          407257,\n          29049\n        ],\n        \"semantic_type\": \"\",\n        \"description\": \"\"\n      }\n    },\n    {\n      \"column\": \"NameClean\",\n      \"properties\": {\n        \"dtype\": \"string\",\n        \"num_unique_values\": 5,\n        \"samples\": [\n          \"spiy garli beef\",\n          \"slowcooker beef taos\",\n          \"steamed fish chinese style\"\n        ],\n        \"semantic_type\": \"\",\n        \"description\": \"\"\n      }\n    },\n    {\n      \"column\": \"RelevanceScore\",\n      \"properties\": {\n        \"dtype\": \"float32\",\n        \"num_unique_values\": 5,\n        \"samples\": [\n          0.8851029276847839,\n          0.8650906085968018,\n          0.8689192533493042\n        ],\n        \"semantic_type\": \"\",\n        \"description\": \"\"\n      }\n    }\n  ]\n}"
            }
          },
          "metadata": {},
          "execution_count": 25
        }
      ]
    },
    {
      "cell_type": "markdown",
      "source": [
        "# **Export Data Top 50 Recipes**"
      ],
      "metadata": {
        "id": "Y8I_XcU9QvhC"
      }
    },
    {
      "cell_type": "code",
      "source": [
        "top_50_recipes.to_csv('./dataset/top_50_recipes.csv', index=False)"
      ],
      "metadata": {
        "id": "eFaeF8N5QyCB"
      },
      "execution_count": 28,
      "outputs": []
    }
  ]
}