{
  "nbformat": 4,
  "nbformat_minor": 0,
  "metadata": {
    "colab": {
      "provenance": [],
      "toc_visible": true
    },
    "kernelspec": {
      "name": "python3",
      "display_name": "Python 3"
    },
    "language_info": {
      "name": "python"
    }
  },
  "cells": [
    {
      "cell_type": "markdown",
      "source": [
        "Notes: Stage 1 is Candidate Generation. This step using TF-IDF and Cosine Similarity to Filter top 100 foods."
      ],
      "metadata": {
        "id": "5NudD1yJTFbl"
      }
    },
    {
      "cell_type": "markdown",
      "source": [
        "## **Import Library**"
      ],
      "metadata": {
        "id": "ddHCeRPiPxkS"
      }
    },
    {
      "cell_type": "code",
      "execution_count": null,
      "metadata": {
        "id": "pDYhFO5bAMw8"
      },
      "outputs": [],
      "source": [
        "import pandas as pd\n",
        "from sklearn.metrics.pairwise import cosine_similarity\n",
        "from sklearn.feature_extraction.text import TfidfVectorizer\n",
        "import nltk\n",
        "import re\n",
        "from nltk.corpus import stopwords\n",
        "from nltk.stem import WordNetLemmatizer\n",
        "from nltk.tokenize import word_tokenize\n",
        "from autocorrect import Speller\n",
        "import numpy as np"
      ]
    },
    {
      "cell_type": "code",
      "source": [
        "# Text Preprocessing\n",
        "stop_words = set(stopwords.words('english'))\n",
        "lemmatizer = WordNetLemmatizer()"
      ],
      "metadata": {
        "id": "5r6WHwMpYDvC"
      },
      "execution_count": null,
      "outputs": []
    },
    {
      "cell_type": "code",
      "source": [
        "df=pd.read_csv('./dataset/preprocessed_recipes.csv')"
      ],
      "metadata": {
        "id": "1r16nmBj1e2D"
      },
      "execution_count": null,
      "outputs": []
    },
    {
      "cell_type": "code",
      "source": [
        "df.head(2)"
      ],
      "metadata": {
        "colab": {
          "base_uri": "https://localhost:8080/",
          "height": 306
        },
        "id": "GfYZr9klVRde",
        "outputId": "75323ff8-6fc5-4c93-9ae0-2fe5cc23ace0"
      },
      "execution_count": null,
      "outputs": [
        {
          "output_type": "execute_result",
          "data": {
            "text/plain": [
              "   RecipeId  Calories  FatContent  SaturatedFatContent  CholesterolContent  \\\n",
              "0        38     170.9         2.5                  1.3                 8.0   \n",
              "1        41     536.1        24.0                  3.8                 0.0   \n",
              "\n",
              "   SodiumContent  CarbohydrateContent  FiberContent  SugarContent  \\\n",
              "0           29.8                 37.1           3.6          30.2   \n",
              "1         1558.6                 64.2          17.3          32.1   \n",
              "\n",
              "   ProteinContent                         NameClean  \\\n",
              "0             3.2  lowfat berry blue frozen dessert   \n",
              "1            29.3      carinas tofuvegetable kebabs   \n",
              "\n",
              "                          RecipeIngredientPartsClean  \\\n",
              "0  blueberry granulated sugar vanilla yogurt lemo...   \n",
              "1  extra firm tofu eggplant zuhini mushroom soy s...   \n",
              "\n",
              "                             RecipeInstructionsClean  \\\n",
              "0  toss 2 ups berry sugar let stand 45 minute sti...   \n",
              "1  drain tofu arefully squeezing ex water pat dry...   \n",
              "\n",
              "                                            Combined  \n",
              "0  blueberry granulated sugar vanilla yogurt lemo...  \n",
              "1  extra firm tofu eggplant zuhini mushroom soy s...  "
            ],
            "text/html": [
              "\n",
              "  <div id=\"df-b07f2273-01a6-43e5-9c2b-8b8162eba68d\" class=\"colab-df-container\">\n",
              "    <div>\n",
              "<style scoped>\n",
              "    .dataframe tbody tr th:only-of-type {\n",
              "        vertical-align: middle;\n",
              "    }\n",
              "\n",
              "    .dataframe tbody tr th {\n",
              "        vertical-align: top;\n",
              "    }\n",
              "\n",
              "    .dataframe thead th {\n",
              "        text-align: right;\n",
              "    }\n",
              "</style>\n",
              "<table border=\"1\" class=\"dataframe\">\n",
              "  <thead>\n",
              "    <tr style=\"text-align: right;\">\n",
              "      <th></th>\n",
              "      <th>RecipeId</th>\n",
              "      <th>Calories</th>\n",
              "      <th>FatContent</th>\n",
              "      <th>SaturatedFatContent</th>\n",
              "      <th>CholesterolContent</th>\n",
              "      <th>SodiumContent</th>\n",
              "      <th>CarbohydrateContent</th>\n",
              "      <th>FiberContent</th>\n",
              "      <th>SugarContent</th>\n",
              "      <th>ProteinContent</th>\n",
              "      <th>NameClean</th>\n",
              "      <th>RecipeIngredientPartsClean</th>\n",
              "      <th>RecipeInstructionsClean</th>\n",
              "      <th>Combined</th>\n",
              "    </tr>\n",
              "  </thead>\n",
              "  <tbody>\n",
              "    <tr>\n",
              "      <th>0</th>\n",
              "      <td>38</td>\n",
              "      <td>170.9</td>\n",
              "      <td>2.5</td>\n",
              "      <td>1.3</td>\n",
              "      <td>8.0</td>\n",
              "      <td>29.8</td>\n",
              "      <td>37.1</td>\n",
              "      <td>3.6</td>\n",
              "      <td>30.2</td>\n",
              "      <td>3.2</td>\n",
              "      <td>lowfat berry blue frozen dessert</td>\n",
              "      <td>blueberry granulated sugar vanilla yogurt lemo...</td>\n",
              "      <td>toss 2 ups berry sugar let stand 45 minute sti...</td>\n",
              "      <td>blueberry granulated sugar vanilla yogurt lemo...</td>\n",
              "    </tr>\n",
              "    <tr>\n",
              "      <th>1</th>\n",
              "      <td>41</td>\n",
              "      <td>536.1</td>\n",
              "      <td>24.0</td>\n",
              "      <td>3.8</td>\n",
              "      <td>0.0</td>\n",
              "      <td>1558.6</td>\n",
              "      <td>64.2</td>\n",
              "      <td>17.3</td>\n",
              "      <td>32.1</td>\n",
              "      <td>29.3</td>\n",
              "      <td>carinas tofuvegetable kebabs</td>\n",
              "      <td>extra firm tofu eggplant zuhini mushroom soy s...</td>\n",
              "      <td>drain tofu arefully squeezing ex water pat dry...</td>\n",
              "      <td>extra firm tofu eggplant zuhini mushroom soy s...</td>\n",
              "    </tr>\n",
              "  </tbody>\n",
              "</table>\n",
              "</div>\n",
              "    <div class=\"colab-df-buttons\">\n",
              "\n",
              "  <div class=\"colab-df-container\">\n",
              "    <button class=\"colab-df-convert\" onclick=\"convertToInteractive('df-b07f2273-01a6-43e5-9c2b-8b8162eba68d')\"\n",
              "            title=\"Convert this dataframe to an interactive table.\"\n",
              "            style=\"display:none;\">\n",
              "\n",
              "  <svg xmlns=\"http://www.w3.org/2000/svg\" height=\"24px\" viewBox=\"0 -960 960 960\">\n",
              "    <path d=\"M120-120v-720h720v720H120Zm60-500h600v-160H180v160Zm220 220h160v-160H400v160Zm0 220h160v-160H400v160ZM180-400h160v-160H180v160Zm440 0h160v-160H620v160ZM180-180h160v-160H180v160Zm440 0h160v-160H620v160Z\"/>\n",
              "  </svg>\n",
              "    </button>\n",
              "\n",
              "  <style>\n",
              "    .colab-df-container {\n",
              "      display:flex;\n",
              "      gap: 12px;\n",
              "    }\n",
              "\n",
              "    .colab-df-convert {\n",
              "      background-color: #E8F0FE;\n",
              "      border: none;\n",
              "      border-radius: 50%;\n",
              "      cursor: pointer;\n",
              "      display: none;\n",
              "      fill: #1967D2;\n",
              "      height: 32px;\n",
              "      padding: 0 0 0 0;\n",
              "      width: 32px;\n",
              "    }\n",
              "\n",
              "    .colab-df-convert:hover {\n",
              "      background-color: #E2EBFA;\n",
              "      box-shadow: 0px 1px 2px rgba(60, 64, 67, 0.3), 0px 1px 3px 1px rgba(60, 64, 67, 0.15);\n",
              "      fill: #174EA6;\n",
              "    }\n",
              "\n",
              "    .colab-df-buttons div {\n",
              "      margin-bottom: 4px;\n",
              "    }\n",
              "\n",
              "    [theme=dark] .colab-df-convert {\n",
              "      background-color: #3B4455;\n",
              "      fill: #D2E3FC;\n",
              "    }\n",
              "\n",
              "    [theme=dark] .colab-df-convert:hover {\n",
              "      background-color: #434B5C;\n",
              "      box-shadow: 0px 1px 3px 1px rgba(0, 0, 0, 0.15);\n",
              "      filter: drop-shadow(0px 1px 2px rgba(0, 0, 0, 0.3));\n",
              "      fill: #FFFFFF;\n",
              "    }\n",
              "  </style>\n",
              "\n",
              "    <script>\n",
              "      const buttonEl =\n",
              "        document.querySelector('#df-b07f2273-01a6-43e5-9c2b-8b8162eba68d button.colab-df-convert');\n",
              "      buttonEl.style.display =\n",
              "        google.colab.kernel.accessAllowed ? 'block' : 'none';\n",
              "\n",
              "      async function convertToInteractive(key) {\n",
              "        const element = document.querySelector('#df-b07f2273-01a6-43e5-9c2b-8b8162eba68d');\n",
              "        const dataTable =\n",
              "          await google.colab.kernel.invokeFunction('convertToInteractive',\n",
              "                                                    [key], {});\n",
              "        if (!dataTable) return;\n",
              "\n",
              "        const docLinkHtml = 'Like what you see? Visit the ' +\n",
              "          '<a target=\"_blank\" href=https://colab.research.google.com/notebooks/data_table.ipynb>data table notebook</a>'\n",
              "          + ' to learn more about interactive tables.';\n",
              "        element.innerHTML = '';\n",
              "        dataTable['output_type'] = 'display_data';\n",
              "        await google.colab.output.renderOutput(dataTable, element);\n",
              "        const docLink = document.createElement('div');\n",
              "        docLink.innerHTML = docLinkHtml;\n",
              "        element.appendChild(docLink);\n",
              "      }\n",
              "    </script>\n",
              "  </div>\n",
              "\n",
              "\n",
              "<div id=\"df-722a2888-6a68-48b0-9fc9-709933bc20f0\">\n",
              "  <button class=\"colab-df-quickchart\" onclick=\"quickchart('df-722a2888-6a68-48b0-9fc9-709933bc20f0')\"\n",
              "            title=\"Suggest charts\"\n",
              "            style=\"display:none;\">\n",
              "\n",
              "<svg xmlns=\"http://www.w3.org/2000/svg\" height=\"24px\"viewBox=\"0 0 24 24\"\n",
              "     width=\"24px\">\n",
              "    <g>\n",
              "        <path d=\"M19 3H5c-1.1 0-2 .9-2 2v14c0 1.1.9 2 2 2h14c1.1 0 2-.9 2-2V5c0-1.1-.9-2-2-2zM9 17H7v-7h2v7zm4 0h-2V7h2v10zm4 0h-2v-4h2v4z\"/>\n",
              "    </g>\n",
              "</svg>\n",
              "  </button>\n",
              "\n",
              "<style>\n",
              "  .colab-df-quickchart {\n",
              "      --bg-color: #E8F0FE;\n",
              "      --fill-color: #1967D2;\n",
              "      --hover-bg-color: #E2EBFA;\n",
              "      --hover-fill-color: #174EA6;\n",
              "      --disabled-fill-color: #AAA;\n",
              "      --disabled-bg-color: #DDD;\n",
              "  }\n",
              "\n",
              "  [theme=dark] .colab-df-quickchart {\n",
              "      --bg-color: #3B4455;\n",
              "      --fill-color: #D2E3FC;\n",
              "      --hover-bg-color: #434B5C;\n",
              "      --hover-fill-color: #FFFFFF;\n",
              "      --disabled-bg-color: #3B4455;\n",
              "      --disabled-fill-color: #666;\n",
              "  }\n",
              "\n",
              "  .colab-df-quickchart {\n",
              "    background-color: var(--bg-color);\n",
              "    border: none;\n",
              "    border-radius: 50%;\n",
              "    cursor: pointer;\n",
              "    display: none;\n",
              "    fill: var(--fill-color);\n",
              "    height: 32px;\n",
              "    padding: 0;\n",
              "    width: 32px;\n",
              "  }\n",
              "\n",
              "  .colab-df-quickchart:hover {\n",
              "    background-color: var(--hover-bg-color);\n",
              "    box-shadow: 0 1px 2px rgba(60, 64, 67, 0.3), 0 1px 3px 1px rgba(60, 64, 67, 0.15);\n",
              "    fill: var(--button-hover-fill-color);\n",
              "  }\n",
              "\n",
              "  .colab-df-quickchart-complete:disabled,\n",
              "  .colab-df-quickchart-complete:disabled:hover {\n",
              "    background-color: var(--disabled-bg-color);\n",
              "    fill: var(--disabled-fill-color);\n",
              "    box-shadow: none;\n",
              "  }\n",
              "\n",
              "  .colab-df-spinner {\n",
              "    border: 2px solid var(--fill-color);\n",
              "    border-color: transparent;\n",
              "    border-bottom-color: var(--fill-color);\n",
              "    animation:\n",
              "      spin 1s steps(1) infinite;\n",
              "  }\n",
              "\n",
              "  @keyframes spin {\n",
              "    0% {\n",
              "      border-color: transparent;\n",
              "      border-bottom-color: var(--fill-color);\n",
              "      border-left-color: var(--fill-color);\n",
              "    }\n",
              "    20% {\n",
              "      border-color: transparent;\n",
              "      border-left-color: var(--fill-color);\n",
              "      border-top-color: var(--fill-color);\n",
              "    }\n",
              "    30% {\n",
              "      border-color: transparent;\n",
              "      border-left-color: var(--fill-color);\n",
              "      border-top-color: var(--fill-color);\n",
              "      border-right-color: var(--fill-color);\n",
              "    }\n",
              "    40% {\n",
              "      border-color: transparent;\n",
              "      border-right-color: var(--fill-color);\n",
              "      border-top-color: var(--fill-color);\n",
              "    }\n",
              "    60% {\n",
              "      border-color: transparent;\n",
              "      border-right-color: var(--fill-color);\n",
              "    }\n",
              "    80% {\n",
              "      border-color: transparent;\n",
              "      border-right-color: var(--fill-color);\n",
              "      border-bottom-color: var(--fill-color);\n",
              "    }\n",
              "    90% {\n",
              "      border-color: transparent;\n",
              "      border-bottom-color: var(--fill-color);\n",
              "    }\n",
              "  }\n",
              "</style>\n",
              "\n",
              "  <script>\n",
              "    async function quickchart(key) {\n",
              "      const quickchartButtonEl =\n",
              "        document.querySelector('#' + key + ' button');\n",
              "      quickchartButtonEl.disabled = true;  // To prevent multiple clicks.\n",
              "      quickchartButtonEl.classList.add('colab-df-spinner');\n",
              "      try {\n",
              "        const charts = await google.colab.kernel.invokeFunction(\n",
              "            'suggestCharts', [key], {});\n",
              "      } catch (error) {\n",
              "        console.error('Error during call to suggestCharts:', error);\n",
              "      }\n",
              "      quickchartButtonEl.classList.remove('colab-df-spinner');\n",
              "      quickchartButtonEl.classList.add('colab-df-quickchart-complete');\n",
              "    }\n",
              "    (() => {\n",
              "      let quickchartButtonEl =\n",
              "        document.querySelector('#df-722a2888-6a68-48b0-9fc9-709933bc20f0 button');\n",
              "      quickchartButtonEl.style.display =\n",
              "        google.colab.kernel.accessAllowed ? 'block' : 'none';\n",
              "    })();\n",
              "  </script>\n",
              "</div>\n",
              "\n",
              "    </div>\n",
              "  </div>\n"
            ],
            "application/vnd.google.colaboratory.intrinsic+json": {
              "type": "dataframe",
              "variable_name": "df"
            }
          },
          "metadata": {},
          "execution_count": 4
        }
      ]
    },
    {
      "cell_type": "markdown",
      "source": [
        "# **Stage 1: Candidate Generation**\n",
        "## **Content-Based Filtering**\n",
        "\n",
        "*Desc:*\n",
        "\n",
        "Similar items, such as Reels about dogs, are close together in the embedding space. The candidate generator works as follows:\n",
        "- given a user, the system looks for items that are close to them in the embedding space.\n",
        "- The notion of “closeness” is defined by a similarity measure\n",
        "\n",
        "\n",
        "*Vectorization:*\n",
        "\n",
        "For dietary food recommender system, TF-IDF is the most suitable method because it effectively highlights important ingredients and instructions, capturing the essence of the recipes better than binary features or BoW.\n",
        "\n",
        "*Similarity:*\n",
        "\n",
        "For dietary food recommender system, Cosine Similarity is the most appropriate choice due to its effectiveness in handling high-dimensional sparse data, such as TF-IDF vectors. It focuses on the direction of the vectors rather than their magnitude, making it robust for text-based features."
      ],
      "metadata": {
        "id": "uDaPKlwI8WOw"
      }
    },
    {
      "cell_type": "markdown",
      "source": [
        "## User Input"
      ],
      "metadata": {
        "id": "gNbDGtYBWd-Z"
      }
    },
    {
      "cell_type": "code",
      "source": [
        "user_favorite_foods = ['fish', 'beef']\n",
        "\n",
        "# Generate combinations for similarity calculations\n",
        "user_favorites = user_favorite_foods + [' '.join(user_favorite_foods)]"
      ],
      "metadata": {
        "id": "15ZmdOwhWn0g"
      },
      "execution_count": null,
      "outputs": []
    },
    {
      "cell_type": "code",
      "source": [
        "user_favorites"
      ],
      "metadata": {
        "colab": {
          "base_uri": "https://localhost:8080/"
        },
        "id": "TmMMzGgoYJdv",
        "outputId": "4030939e-3d29-45c5-e7a3-ec954d744757"
      },
      "execution_count": null,
      "outputs": [
        {
          "output_type": "execute_result",
          "data": {
            "text/plain": [
              "['fish', 'beef', 'fish beef']"
            ]
          },
          "metadata": {},
          "execution_count": 6
        }
      ]
    },
    {
      "cell_type": "markdown",
      "source": [
        "## Vectorization: TF-IDF & Cosine Similarity"
      ],
      "metadata": {
        "id": "HVwBhm9b9-ih"
      }
    },
    {
      "cell_type": "markdown",
      "source": [
        "TF-IDF: Converts text into numerical vectors by capturing term importance within a document and across the corpus."
      ],
      "metadata": {
        "id": "7MfhWVSZeD2u"
      }
    },
    {
      "cell_type": "code",
      "source": [
        "df_combined=df[\"Combined\"]\n",
        "df_combined"
      ],
      "metadata": {
        "colab": {
          "base_uri": "https://localhost:8080/"
        },
        "id": "Kyz7GeWu4tpk",
        "outputId": "e9d4b0b9-cff0-4277-9999-fcd08144effd"
      },
      "execution_count": null,
      "outputs": [
        {
          "output_type": "execute_result",
          "data": {
            "text/plain": [
              "0         blueberry granulated sugar vanilla yogurt lemo...\n",
              "1         extra firm tofu eggplant zuhini mushroom soy s...\n",
              "2         plain tomato juie abbage onion arrots elerycab...\n",
              "3         sugar margarine egg flour salt buttermilk grah...\n",
              "4         butter brown sugar granulated sugar vanilla ex...\n",
              "                                ...                        \n",
              "261440    selfrising flour shortening milk buttermilk sh...\n",
              "261441    salted butter allpurpose flour iing sugar whit...\n",
              "261442    hamburger onion elery water hestnut dried dill...\n",
              "261443    allpurpose flour brown sugar butter ground inn...\n",
              "261444    fresh ginger unsalted butter dark brown sugar ...\n",
              "Name: Combined, Length: 261445, dtype: object"
            ]
          },
          "metadata": {},
          "execution_count": 7
        }
      ]
    },
    {
      "cell_type": "code",
      "source": [
        "# Create a TfidfVectorizer object to transform the movie genres into a Tf-idf representation\n",
        "tfidf = TfidfVectorizer()\n",
        "tfidf_matrix = tfidf.fit_transform(df_combined)"
      ],
      "metadata": {
        "id": "28Kp0KGB77zy"
      },
      "execution_count": null,
      "outputs": []
    },
    {
      "cell_type": "code",
      "source": [
        "# Transform user's favorite foods to TF-IDF vector\n",
        "user_favorite_vector = tfidf.transform(user_favorites)"
      ],
      "metadata": {
        "id": "XdtQ57u9YPmu"
      },
      "execution_count": null,
      "outputs": []
    },
    {
      "cell_type": "markdown",
      "source": [
        "Cosine Similarity: Measures the similarity between two vectors, providing a metric to compare documents."
      ],
      "metadata": {
        "id": "sq_iEeqJeGLJ"
      }
    },
    {
      "cell_type": "code",
      "source": [
        "# Calculate the cosine similarity matrix between the food\n",
        "cosine_similarities = cosine_similarity(user_favorite_vector, tfidf_matrix).flatten()"
      ],
      "metadata": {
        "id": "rmjFLoTl4gy3"
      },
      "execution_count": null,
      "outputs": []
    },
    {
      "cell_type": "code",
      "source": [
        "# Initialize a dictionary to store similarities\n",
        "similarity_dict = {}\n",
        "\n",
        "# Calculate similarities for each string\n",
        "for favorite in user_favorites:\n",
        "    # Transform the string to a TF-IDF vector\n",
        "    favorite_vector = tfidf.transform([favorite])\n",
        "\n",
        "    # Calculate cosine similarities\n",
        "    similarities = cosine_similarity(favorite_vector, tfidf_matrix).flatten()\n",
        "\n",
        "    # Store the similarities in the dictionary\n",
        "    similarity_dict[favorite] = similarities"
      ],
      "metadata": {
        "id": "F3LEvD00s2iD"
      },
      "execution_count": null,
      "outputs": []
    },
    {
      "cell_type": "code",
      "source": [
        "similarity_df = pd.DataFrame(similarity_dict, index=df_combined)\n",
        "similarity_df.head(2)"
      ],
      "metadata": {
        "colab": {
          "base_uri": "https://localhost:8080/",
          "height": 282
        },
        "id": "UXYWGWwm0o-r",
        "outputId": "8b16e9ea-5763-482d-c08d-d7e5172d087c"
      },
      "execution_count": null,
      "outputs": [
        {
          "output_type": "execute_result",
          "data": {
            "text/plain": [
              "                                                    fish  beef  fish beef\n",
              "Combined                                                                 \n",
              "blueberry granulated sugar vanilla yogurt lemon...   0.0   0.0        0.0\n",
              "extra firm tofu eggplant zuhini mushroom soy sa...   0.0   0.0        0.0"
            ],
            "text/html": [
              "\n",
              "  <div id=\"df-a266d552-e819-4117-9ba5-5dca81949bbe\" class=\"colab-df-container\">\n",
              "    <div>\n",
              "<style scoped>\n",
              "    .dataframe tbody tr th:only-of-type {\n",
              "        vertical-align: middle;\n",
              "    }\n",
              "\n",
              "    .dataframe tbody tr th {\n",
              "        vertical-align: top;\n",
              "    }\n",
              "\n",
              "    .dataframe thead th {\n",
              "        text-align: right;\n",
              "    }\n",
              "</style>\n",
              "<table border=\"1\" class=\"dataframe\">\n",
              "  <thead>\n",
              "    <tr style=\"text-align: right;\">\n",
              "      <th></th>\n",
              "      <th>fish</th>\n",
              "      <th>beef</th>\n",
              "      <th>fish beef</th>\n",
              "    </tr>\n",
              "    <tr>\n",
              "      <th>Combined</th>\n",
              "      <th></th>\n",
              "      <th></th>\n",
              "      <th></th>\n",
              "    </tr>\n",
              "  </thead>\n",
              "  <tbody>\n",
              "    <tr>\n",
              "      <th>blueberry granulated sugar vanilla yogurt lemon juielowfat berry blue frozen desserttoss 2 ups berry sugar let stand 45 minute stirring oasionally transfer berrysugar mixture food proessor add yogurt proess smooth strain fine sieve pour baking pan transfer ie ream maker proess aording manufaturers diretions freeze unovered edge solid entre soft transfer proessor blend smooth return pan freeze edge solid transfer proessor blend smooth fold remaining 2 ups blueberry pour plasti mold freeze overnight let soften slightly serve</th>\n",
              "      <td>0.0</td>\n",
              "      <td>0.0</td>\n",
              "      <td>0.0</td>\n",
              "    </tr>\n",
              "    <tr>\n",
              "      <th>extra firm tofu eggplant zuhini mushroom soy saue low sodium soy saue olive oil maple syrup honey red wine vinegar lemon juie garli love mustard powder blak peppercarinas tofuvegetable kebabsdrain tofu arefully squeezing ex water pat dry paper towel cut tofu oneinh square set aside cut eggplant lengthwise half ut eah half approximately three strip cut strip rosswise oneinh ubes slie zuhini halfinh thik slies cut red pepper half removing stem seed ut eah half oneinh square wipe mushroom lean moist paper towel remove stem thread tofu vegetable barbeue skewer alternating olor ombinations example first piee eggplant slie tofu zuhini red pepper baby orn mushroom continue way skewer full make marinade putting ingredient blender blend high speed one minute mixed alternatively put ingredient glass jar tightly lid shake well mixed lay kebab long shallow baking pan nonmetal tray making sure lie flat evenly pour marinade kebab turning one tofu vegetable oated refrigerate kebab three eight hour oasionally spooning marinade broil grill kebab 450 f 1520 minute grill vegetable browned suggestion meal served ooked brown rie amount easily doubled make four serving</th>\n",
              "      <td>0.0</td>\n",
              "      <td>0.0</td>\n",
              "      <td>0.0</td>\n",
              "    </tr>\n",
              "  </tbody>\n",
              "</table>\n",
              "</div>\n",
              "    <div class=\"colab-df-buttons\">\n",
              "\n",
              "  <div class=\"colab-df-container\">\n",
              "    <button class=\"colab-df-convert\" onclick=\"convertToInteractive('df-a266d552-e819-4117-9ba5-5dca81949bbe')\"\n",
              "            title=\"Convert this dataframe to an interactive table.\"\n",
              "            style=\"display:none;\">\n",
              "\n",
              "  <svg xmlns=\"http://www.w3.org/2000/svg\" height=\"24px\" viewBox=\"0 -960 960 960\">\n",
              "    <path d=\"M120-120v-720h720v720H120Zm60-500h600v-160H180v160Zm220 220h160v-160H400v160Zm0 220h160v-160H400v160ZM180-400h160v-160H180v160Zm440 0h160v-160H620v160ZM180-180h160v-160H180v160Zm440 0h160v-160H620v160Z\"/>\n",
              "  </svg>\n",
              "    </button>\n",
              "\n",
              "  <style>\n",
              "    .colab-df-container {\n",
              "      display:flex;\n",
              "      gap: 12px;\n",
              "    }\n",
              "\n",
              "    .colab-df-convert {\n",
              "      background-color: #E8F0FE;\n",
              "      border: none;\n",
              "      border-radius: 50%;\n",
              "      cursor: pointer;\n",
              "      display: none;\n",
              "      fill: #1967D2;\n",
              "      height: 32px;\n",
              "      padding: 0 0 0 0;\n",
              "      width: 32px;\n",
              "    }\n",
              "\n",
              "    .colab-df-convert:hover {\n",
              "      background-color: #E2EBFA;\n",
              "      box-shadow: 0px 1px 2px rgba(60, 64, 67, 0.3), 0px 1px 3px 1px rgba(60, 64, 67, 0.15);\n",
              "      fill: #174EA6;\n",
              "    }\n",
              "\n",
              "    .colab-df-buttons div {\n",
              "      margin-bottom: 4px;\n",
              "    }\n",
              "\n",
              "    [theme=dark] .colab-df-convert {\n",
              "      background-color: #3B4455;\n",
              "      fill: #D2E3FC;\n",
              "    }\n",
              "\n",
              "    [theme=dark] .colab-df-convert:hover {\n",
              "      background-color: #434B5C;\n",
              "      box-shadow: 0px 1px 3px 1px rgba(0, 0, 0, 0.15);\n",
              "      filter: drop-shadow(0px 1px 2px rgba(0, 0, 0, 0.3));\n",
              "      fill: #FFFFFF;\n",
              "    }\n",
              "  </style>\n",
              "\n",
              "    <script>\n",
              "      const buttonEl =\n",
              "        document.querySelector('#df-a266d552-e819-4117-9ba5-5dca81949bbe button.colab-df-convert');\n",
              "      buttonEl.style.display =\n",
              "        google.colab.kernel.accessAllowed ? 'block' : 'none';\n",
              "\n",
              "      async function convertToInteractive(key) {\n",
              "        const element = document.querySelector('#df-a266d552-e819-4117-9ba5-5dca81949bbe');\n",
              "        const dataTable =\n",
              "          await google.colab.kernel.invokeFunction('convertToInteractive',\n",
              "                                                    [key], {});\n",
              "        if (!dataTable) return;\n",
              "\n",
              "        const docLinkHtml = 'Like what you see? Visit the ' +\n",
              "          '<a target=\"_blank\" href=https://colab.research.google.com/notebooks/data_table.ipynb>data table notebook</a>'\n",
              "          + ' to learn more about interactive tables.';\n",
              "        element.innerHTML = '';\n",
              "        dataTable['output_type'] = 'display_data';\n",
              "        await google.colab.output.renderOutput(dataTable, element);\n",
              "        const docLink = document.createElement('div');\n",
              "        docLink.innerHTML = docLinkHtml;\n",
              "        element.appendChild(docLink);\n",
              "      }\n",
              "    </script>\n",
              "  </div>\n",
              "\n",
              "\n",
              "<div id=\"df-8a66aaed-6432-44ef-8cbd-b9086bd13f71\">\n",
              "  <button class=\"colab-df-quickchart\" onclick=\"quickchart('df-8a66aaed-6432-44ef-8cbd-b9086bd13f71')\"\n",
              "            title=\"Suggest charts\"\n",
              "            style=\"display:none;\">\n",
              "\n",
              "<svg xmlns=\"http://www.w3.org/2000/svg\" height=\"24px\"viewBox=\"0 0 24 24\"\n",
              "     width=\"24px\">\n",
              "    <g>\n",
              "        <path d=\"M19 3H5c-1.1 0-2 .9-2 2v14c0 1.1.9 2 2 2h14c1.1 0 2-.9 2-2V5c0-1.1-.9-2-2-2zM9 17H7v-7h2v7zm4 0h-2V7h2v10zm4 0h-2v-4h2v4z\"/>\n",
              "    </g>\n",
              "</svg>\n",
              "  </button>\n",
              "\n",
              "<style>\n",
              "  .colab-df-quickchart {\n",
              "      --bg-color: #E8F0FE;\n",
              "      --fill-color: #1967D2;\n",
              "      --hover-bg-color: #E2EBFA;\n",
              "      --hover-fill-color: #174EA6;\n",
              "      --disabled-fill-color: #AAA;\n",
              "      --disabled-bg-color: #DDD;\n",
              "  }\n",
              "\n",
              "  [theme=dark] .colab-df-quickchart {\n",
              "      --bg-color: #3B4455;\n",
              "      --fill-color: #D2E3FC;\n",
              "      --hover-bg-color: #434B5C;\n",
              "      --hover-fill-color: #FFFFFF;\n",
              "      --disabled-bg-color: #3B4455;\n",
              "      --disabled-fill-color: #666;\n",
              "  }\n",
              "\n",
              "  .colab-df-quickchart {\n",
              "    background-color: var(--bg-color);\n",
              "    border: none;\n",
              "    border-radius: 50%;\n",
              "    cursor: pointer;\n",
              "    display: none;\n",
              "    fill: var(--fill-color);\n",
              "    height: 32px;\n",
              "    padding: 0;\n",
              "    width: 32px;\n",
              "  }\n",
              "\n",
              "  .colab-df-quickchart:hover {\n",
              "    background-color: var(--hover-bg-color);\n",
              "    box-shadow: 0 1px 2px rgba(60, 64, 67, 0.3), 0 1px 3px 1px rgba(60, 64, 67, 0.15);\n",
              "    fill: var(--button-hover-fill-color);\n",
              "  }\n",
              "\n",
              "  .colab-df-quickchart-complete:disabled,\n",
              "  .colab-df-quickchart-complete:disabled:hover {\n",
              "    background-color: var(--disabled-bg-color);\n",
              "    fill: var(--disabled-fill-color);\n",
              "    box-shadow: none;\n",
              "  }\n",
              "\n",
              "  .colab-df-spinner {\n",
              "    border: 2px solid var(--fill-color);\n",
              "    border-color: transparent;\n",
              "    border-bottom-color: var(--fill-color);\n",
              "    animation:\n",
              "      spin 1s steps(1) infinite;\n",
              "  }\n",
              "\n",
              "  @keyframes spin {\n",
              "    0% {\n",
              "      border-color: transparent;\n",
              "      border-bottom-color: var(--fill-color);\n",
              "      border-left-color: var(--fill-color);\n",
              "    }\n",
              "    20% {\n",
              "      border-color: transparent;\n",
              "      border-left-color: var(--fill-color);\n",
              "      border-top-color: var(--fill-color);\n",
              "    }\n",
              "    30% {\n",
              "      border-color: transparent;\n",
              "      border-left-color: var(--fill-color);\n",
              "      border-top-color: var(--fill-color);\n",
              "      border-right-color: var(--fill-color);\n",
              "    }\n",
              "    40% {\n",
              "      border-color: transparent;\n",
              "      border-right-color: var(--fill-color);\n",
              "      border-top-color: var(--fill-color);\n",
              "    }\n",
              "    60% {\n",
              "      border-color: transparent;\n",
              "      border-right-color: var(--fill-color);\n",
              "    }\n",
              "    80% {\n",
              "      border-color: transparent;\n",
              "      border-right-color: var(--fill-color);\n",
              "      border-bottom-color: var(--fill-color);\n",
              "    }\n",
              "    90% {\n",
              "      border-color: transparent;\n",
              "      border-bottom-color: var(--fill-color);\n",
              "    }\n",
              "  }\n",
              "</style>\n",
              "\n",
              "  <script>\n",
              "    async function quickchart(key) {\n",
              "      const quickchartButtonEl =\n",
              "        document.querySelector('#' + key + ' button');\n",
              "      quickchartButtonEl.disabled = true;  // To prevent multiple clicks.\n",
              "      quickchartButtonEl.classList.add('colab-df-spinner');\n",
              "      try {\n",
              "        const charts = await google.colab.kernel.invokeFunction(\n",
              "            'suggestCharts', [key], {});\n",
              "      } catch (error) {\n",
              "        console.error('Error during call to suggestCharts:', error);\n",
              "      }\n",
              "      quickchartButtonEl.classList.remove('colab-df-spinner');\n",
              "      quickchartButtonEl.classList.add('colab-df-quickchart-complete');\n",
              "    }\n",
              "    (() => {\n",
              "      let quickchartButtonEl =\n",
              "        document.querySelector('#df-8a66aaed-6432-44ef-8cbd-b9086bd13f71 button');\n",
              "      quickchartButtonEl.style.display =\n",
              "        google.colab.kernel.accessAllowed ? 'block' : 'none';\n",
              "    })();\n",
              "  </script>\n",
              "</div>\n",
              "\n",
              "    </div>\n",
              "  </div>\n"
            ],
            "application/vnd.google.colaboratory.intrinsic+json": {
              "type": "dataframe",
              "variable_name": "similarity_df"
            }
          },
          "metadata": {},
          "execution_count": 12
        }
      ]
    },
    {
      "cell_type": "markdown",
      "source": [
        "## Filter High Similarity"
      ],
      "metadata": {
        "id": "w2k2Osc1BYkU"
      }
    },
    {
      "cell_type": "code",
      "source": [
        "top_n_high = 50\n",
        "high_similarity_candidates = []\n",
        "\n",
        "for favorite, similarities in similarity_dict.items():\n",
        "    # Get top n indices\n",
        "    top_n_indices = similarities.argsort()[-top_n_high:][::-1]\n",
        "\n",
        "    # Select the top n candidate recipes\n",
        "    candidate_recipes = df.iloc[top_n_indices].copy()\n",
        "    candidate_recipes['cosine_similarity'] = similarities[top_n_indices]\n",
        "\n",
        "    # Append the candidate DataFrame to the list\n",
        "    high_similarity_candidates.append(candidate_recipes)"
      ],
      "metadata": {
        "id": "BXZfxYO0wTIl"
      },
      "execution_count": null,
      "outputs": []
    },
    {
      "cell_type": "code",
      "source": [
        "high_similarity_df = pd.concat(high_similarity_candidates).drop_duplicates().reset_index(drop=True)"
      ],
      "metadata": {
        "id": "NUxypbrG3Buq"
      },
      "execution_count": null,
      "outputs": []
    },
    {
      "cell_type": "markdown",
      "source": [
        "## Filter Low Random Similarity"
      ],
      "metadata": {
        "id": "h-CBs9TEBgDJ"
      }
    },
    {
      "cell_type": "code",
      "source": [
        "top_n_low = 5\n",
        "low_similarity_candidates = []\n",
        "\n",
        "for favorite, similarities in similarity_dict.items():\n",
        "    # Get indices of foods with non-zero and low similarity\n",
        "    non_zero_indices = np.where(similarities > 0)[0]\n",
        "    low_similarity_indices = non_zero_indices[similarities[non_zero_indices].argsort()[:top_n_low]]\n",
        "\n",
        "    # Select random foods from these low similarity candidates\n",
        "    random_low_sim_candidates = df.iloc[low_similarity_indices].sample(top_n_low, random_state=42)\n",
        "    random_low_sim_candidates['cosine_similarity'] = similarities[low_similarity_indices]\n",
        "\n",
        "    # Append the low similarity DataFrame to the list\n",
        "    low_similarity_candidates.append(random_low_sim_candidates)"
      ],
      "metadata": {
        "id": "QmPy1LCe9Itg"
      },
      "execution_count": null,
      "outputs": []
    },
    {
      "cell_type": "code",
      "source": [
        "low_similarity_df = pd.concat(low_similarity_candidates).drop_duplicates().reset_index(drop=True)"
      ],
      "metadata": {
        "id": "gvWGq-It9ML2"
      },
      "execution_count": null,
      "outputs": []
    },
    {
      "cell_type": "code",
      "source": [
        "high_similarity_df.info()"
      ],
      "metadata": {
        "colab": {
          "base_uri": "https://localhost:8080/"
        },
        "id": "dSrVHSszA92O",
        "outputId": "cd1cec9e-3047-4a6b-bce3-7607f26e6593"
      },
      "execution_count": null,
      "outputs": [
        {
          "output_type": "stream",
          "name": "stdout",
          "text": [
            "<class 'pandas.core.frame.DataFrame'>\n",
            "RangeIndex: 150 entries, 0 to 149\n",
            "Data columns (total 15 columns):\n",
            " #   Column                      Non-Null Count  Dtype  \n",
            "---  ------                      --------------  -----  \n",
            " 0   RecipeId                    150 non-null    int64  \n",
            " 1   Calories                    150 non-null    float64\n",
            " 2   FatContent                  150 non-null    float64\n",
            " 3   SaturatedFatContent         150 non-null    float64\n",
            " 4   CholesterolContent          150 non-null    float64\n",
            " 5   SodiumContent               150 non-null    float64\n",
            " 6   CarbohydrateContent         150 non-null    float64\n",
            " 7   FiberContent                150 non-null    float64\n",
            " 8   SugarContent                150 non-null    float64\n",
            " 9   ProteinContent              150 non-null    float64\n",
            " 10  NameClean                   150 non-null    object \n",
            " 11  RecipeIngredientPartsClean  150 non-null    object \n",
            " 12  RecipeInstructionsClean     150 non-null    object \n",
            " 13  Combined                    150 non-null    object \n",
            " 14  cosine_similarity           150 non-null    float64\n",
            "dtypes: float64(10), int64(1), object(4)\n",
            "memory usage: 17.7+ KB\n"
          ]
        }
      ]
    },
    {
      "cell_type": "code",
      "source": [
        "low_similarity_df.info()"
      ],
      "metadata": {
        "colab": {
          "base_uri": "https://localhost:8080/"
        },
        "id": "sdAbQyAsBAU7",
        "outputId": "dfe32877-105c-46e9-a418-00840c346e14"
      },
      "execution_count": null,
      "outputs": [
        {
          "output_type": "stream",
          "name": "stdout",
          "text": [
            "<class 'pandas.core.frame.DataFrame'>\n",
            "RangeIndex: 15 entries, 0 to 14\n",
            "Data columns (total 15 columns):\n",
            " #   Column                      Non-Null Count  Dtype  \n",
            "---  ------                      --------------  -----  \n",
            " 0   RecipeId                    15 non-null     int64  \n",
            " 1   Calories                    15 non-null     float64\n",
            " 2   FatContent                  15 non-null     float64\n",
            " 3   SaturatedFatContent         15 non-null     float64\n",
            " 4   CholesterolContent          15 non-null     float64\n",
            " 5   SodiumContent               15 non-null     float64\n",
            " 6   CarbohydrateContent         15 non-null     float64\n",
            " 7   FiberContent                15 non-null     float64\n",
            " 8   SugarContent                15 non-null     float64\n",
            " 9   ProteinContent              15 non-null     float64\n",
            " 10  NameClean                   15 non-null     object \n",
            " 11  RecipeIngredientPartsClean  15 non-null     object \n",
            " 12  RecipeInstructionsClean     15 non-null     object \n",
            " 13  Combined                    15 non-null     object \n",
            " 14  cosine_similarity           15 non-null     float64\n",
            "dtypes: float64(10), int64(1), object(4)\n",
            "memory usage: 1.9+ KB\n"
          ]
        }
      ]
    },
    {
      "cell_type": "markdown",
      "source": [
        "## Final Candidate"
      ],
      "metadata": {
        "id": "Zt_l3xBdBkL8"
      }
    },
    {
      "cell_type": "code",
      "source": [
        "final_candidates = pd.concat([high_similarity_df, low_similarity_df]).drop_duplicates().reset_index(drop=True)"
      ],
      "metadata": {
        "id": "dEP9L26M9Nw1"
      },
      "execution_count": null,
      "outputs": []
    },
    {
      "cell_type": "code",
      "source": [
        "final_candidates.info()"
      ],
      "metadata": {
        "colab": {
          "base_uri": "https://localhost:8080/"
        },
        "id": "CiJNfgx0_VBw",
        "outputId": "77de30a9-86c7-4df5-cb7a-3da22c19b921"
      },
      "execution_count": null,
      "outputs": [
        {
          "output_type": "stream",
          "name": "stdout",
          "text": [
            "<class 'pandas.core.frame.DataFrame'>\n",
            "RangeIndex: 165 entries, 0 to 164\n",
            "Data columns (total 15 columns):\n",
            " #   Column                      Non-Null Count  Dtype  \n",
            "---  ------                      --------------  -----  \n",
            " 0   RecipeId                    165 non-null    int64  \n",
            " 1   Calories                    165 non-null    float64\n",
            " 2   FatContent                  165 non-null    float64\n",
            " 3   SaturatedFatContent         165 non-null    float64\n",
            " 4   CholesterolContent          165 non-null    float64\n",
            " 5   SodiumContent               165 non-null    float64\n",
            " 6   CarbohydrateContent         165 non-null    float64\n",
            " 7   FiberContent                165 non-null    float64\n",
            " 8   SugarContent                165 non-null    float64\n",
            " 9   ProteinContent              165 non-null    float64\n",
            " 10  NameClean                   165 non-null    object \n",
            " 11  RecipeIngredientPartsClean  165 non-null    object \n",
            " 12  RecipeInstructionsClean     165 non-null    object \n",
            " 13  Combined                    165 non-null    object \n",
            " 14  cosine_similarity           165 non-null    float64\n",
            "dtypes: float64(10), int64(1), object(4)\n",
            "memory usage: 19.5+ KB\n"
          ]
        }
      ]
    },
    {
      "cell_type": "markdown",
      "source": [
        "# **Export Final Candidate**"
      ],
      "metadata": {
        "id": "3alH8PvcBn2O"
      }
    },
    {
      "cell_type": "code",
      "source": [
        "final_candidates.to_csv('./dataset/final_candidates.csv', index=False)"
      ],
      "metadata": {
        "id": "wedWK4V2Bpgf"
      },
      "execution_count": null,
      "outputs": []
    }
  ]
}